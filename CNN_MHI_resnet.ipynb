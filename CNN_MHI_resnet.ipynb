{
 "cells": [
  {
   "cell_type": "code",
   "execution_count": 39,
   "id": "8911387c",
   "metadata": {},
   "outputs": [],
   "source": [
    "from tensorflow.keras.preprocessing import image\n",
    "import numpy as np\n",
    "import sys\n",
    "import os\n",
    "\n",
    "from tensorflow.keras.applications.vgg16 import VGG16\n",
    "from tensorflow.keras.applications.resnet50 import ResNet50\n",
    "from tensorflow.keras.applications.xception import Xception\n",
    "from tensorflow.keras.applications.inception_v3 import InceptionV3\n",
    "from tensorflow.keras.applications.mobilenet import MobileNet\n",
    "\n",
    "from tensorflow.keras.models import Sequential \n",
    "from tensorflow.keras.layers import Conv2D, MaxPooling2D, LSTM, GRU\n",
    "from tensorflow.keras.layers import Activation, Dropout, Flatten, Dense\n",
    "from tensorflow.keras.layers import TimeDistributed,Bidirectional,GlobalAveragePooling2D\n",
    "from tensorflow.keras.layers import LSTM,GRU,SimpleRNN,BatchNormalization\n",
    "from tensorflow.keras import backend as K \n",
    "from tensorflow.keras.callbacks import ModelCheckpoint\n",
    "from tensorflow.keras.utils import to_categorical\n",
    "from sklearn.metrics import confusion_matrix\n",
    "from sklearn.preprocessing import LabelEncoder\n",
    "from sklearn.model_selection import train_test_split as sp\n",
    "from sklearn.model_selection import StratifiedKFold\n",
    "from sklearn.metrics import roc_auc_score, accuracy_score"
   ]
  },
  {
   "cell_type": "code",
   "execution_count": 40,
   "id": "39061306",
   "metadata": {},
   "outputs": [],
   "source": [
    "import tensorflow as tf\n",
    "\n",
    "import numpy as np\n",
    "import os\n",
    "from tensorflow import keras\n",
    "#import keras\n",
    "from sklearn.metrics import classification_report, confusion_matrix, ConfusionMatrixDisplay\n",
    "from sklearn.model_selection import train_test_split, KFold\n",
    "\n",
    "from tensorflow.keras.preprocessing.image import load_img, img_to_array\n",
    "from sklearn.preprocessing import LabelEncoder\n",
    "from tensorflow.keras import datasets, layers, models\n",
    "import matplotlib.pyplot as plt\n"
   ]
  },
  {
   "cell_type": "code",
   "execution_count": 41,
   "id": "b5019ce7",
   "metadata": {},
   "outputs": [],
   "source": [
    "data_path = \"/home/muhlabws4/Masaüstü/tkd_data/orj\""
   ]
  },
  {
   "cell_type": "code",
   "execution_count": 42,
   "id": "ab6786a0",
   "metadata": {},
   "outputs": [],
   "source": [
    "class_folders = os.listdir(data_path)"
   ]
  },
  {
   "cell_type": "code",
   "execution_count": 43,
   "id": "e01a3345",
   "metadata": {},
   "outputs": [],
   "source": [
    "images = []\n",
    "labels = []"
   ]
  },
  {
   "cell_type": "code",
   "execution_count": 44,
   "id": "3820018e",
   "metadata": {},
   "outputs": [],
   "source": [
    "for i , class_name in enumerate(class_folders):\n",
    "    class_folder_path = os.path.join(data_path, class_name)\n",
    "    class_images = os.listdir(class_folder_path)\n",
    "    \n",
    "    for img_name in class_images:\n",
    "        img_path = os.path.join(class_folder_path, img_name)\n",
    "        img = load_img(img_path, target_size=(180,320))\n",
    "        img_array = img_to_array(img) /255.0\n",
    "        images.append(img_array)\n",
    "        labels.append(class_name)"
   ]
  },
  {
   "cell_type": "code",
   "execution_count": 45,
   "id": "55cc6906",
   "metadata": {},
   "outputs": [],
   "source": [
    "X = np.array(images)\n",
    "y = np.array(labels)"
   ]
  },
  {
   "cell_type": "code",
   "execution_count": 46,
   "id": "d5c77470",
   "metadata": {},
   "outputs": [],
   "source": [
    "label_encoder = LabelEncoder()\n",
    "y_encoder = label_encoder.fit_transform(y)"
   ]
  },
  {
   "cell_type": "code",
   "execution_count": 47,
   "id": "3a84d8bc",
   "metadata": {},
   "outputs": [],
   "source": [
    "X_shuf, y_shuf = X, y_encoder"
   ]
  },
  {
   "cell_type": "code",
   "execution_count": 48,
   "id": "61008221",
   "metadata": {},
   "outputs": [],
   "source": [
    "train_images, test_images, train_labels, test_labels = train_test_split(X_shuf, y_shuf, test_size=0.2, random_state=42)"
   ]
  },
  {
   "cell_type": "code",
   "execution_count": 49,
   "id": "b2c24331",
   "metadata": {},
   "outputs": [
    {
     "name": "stdout",
     "output_type": "stream",
     "text": [
      "(407, 128, 128, 3)\n",
      "(407,)\n",
      "(407,)\n"
     ]
    }
   ],
   "source": [
    "print(X.shape)\n",
    "print(y.shape)\n",
    "print(y_encoder.shape)"
   ]
  },
  {
   "cell_type": "code",
   "execution_count": 50,
   "id": "49b52be2",
   "metadata": {},
   "outputs": [],
   "source": [
    "#class_names = ['head_sb','head_sesor', 'other','punch','rotation']\n",
    "class_names = ['head', 'other','punch']"
   ]
  },
  {
   "cell_type": "code",
   "execution_count": 51,
   "id": "bd21f7b1",
   "metadata": {},
   "outputs": [],
   "source": [
    "img_height=180\n",
    "img_width=320\n",
    "output=3"
   ]
  },
  {
   "cell_type": "code",
   "execution_count": 52,
   "id": "f95352d7",
   "metadata": {},
   "outputs": [],
   "source": [
    "checkpoint_path = \"best_modelresnet.hdf5\"\n",
    "checkpoint = ModelCheckpoint(checkpoint_path, \n",
    "                             monitor='val_accuracy', \n",
    "                             verbose=1, \n",
    "                             save_best_only=True,\n",
    "                             mode='max')"
   ]
  },
  {
   "cell_type": "code",
   "execution_count": 53,
   "id": "b3209217",
   "metadata": {},
   "outputs": [],
   "source": [
    "def pretrained_resnet():\n",
    "    base_model = ResNet50(weights=\"imagenet\", include_top=False, input_shape = (img_height,img_width,3))\n",
    "    base_model.trainable = True ## Not trainable weights\n",
    "    flatten_layer = Flatten()\n",
    "    dense_layer_1 = Dense(256, activation='relu')\n",
    "    #dense_layer_2 = Dense(20, activation='relu')\n",
    "    prediction_layer = Dense(output, activation='softmax')\n",
    "    \n",
    "    model = Sequential([\n",
    "      base_model,\n",
    "      flatten_layer,\n",
    "      dense_layer_1,\n",
    "      #dense_layer_2,\n",
    "      prediction_layer\n",
    "      ])\n",
    "    \n",
    "    model.compile(\n",
    "        optimizer='adam',\n",
    "        loss='categorical_crossentropy',\n",
    "        metrics=['accuracy'],\n",
    "        )\n",
    "    \n",
    "    return model"
   ]
  },
  {
   "cell_type": "code",
   "execution_count": 16,
   "id": "245c9849",
   "metadata": {},
   "outputs": [],
   "source": [
    "def cross_validation(model, X, y, n_splits=5, epochs=5, batch_size=32):\n",
    "    kfold = KFold(n_splits=n_splits, shuffle=True, random_state=42)\n",
    "    #model.compile(optimizer='adam', loss='sparse_categorical_crossentropy', metrics=['accuracy'])\n",
    "    #result = []\n",
    "    for train_inx, val_inx in kfold.split(X):\n",
    "        X_train, X_val = X[train_inx], X[val_inx]\n",
    "        y_train, y_val = y[train_inx], y[val_inx]\n",
    "        \n",
    "        model.compile(optimizer='adam', loss='sparse_categorical_crossentropy', metrics=['accuracy'])\n",
    "        a = model.fit(X_train, y_train, epochs=epochs, batch_size=batch_size, verbose=2, class_weight={0:7,1:10,2:22},callbacks=[checkpoint])\n",
    "        #model.fit(X_train, y_train, epochs=epochs)\n",
    "        #result.append(a.history['val_accuracy'])\n",
    "        \n",
    "    #return result"
   ]
  },
  {
   "cell_type": "code",
   "execution_count": 17,
   "id": "06467476",
   "metadata": {},
   "outputs": [],
   "source": [
    "def gosterTrain(index):\n",
    "    plt.figure(figsize=(15,2))\n",
    "    plt.imshow(train_images[index])\n",
    "    plt.title(class_names[train_labels[index]])"
   ]
  },
  {
   "cell_type": "code",
   "execution_count": 18,
   "id": "8fa0754e",
   "metadata": {},
   "outputs": [],
   "source": [
    "def gosterTest(index):\n",
    "    plt.figure(figsize=(15,2))\n",
    "    plt.imshow(test_images[index])\n",
    "    plt.title(class_names[test_labels[index]])"
   ]
  },
  {
   "cell_type": "code",
   "execution_count": 19,
   "id": "3d89d77c",
   "metadata": {},
   "outputs": [
    {
     "data": {
      "image/png": "[encoded data removed]",
      "text/plain": [
       "<Figure size 1500x200 with 1 Axes>"
      ]
     },
     "metadata": {},
     "output_type": "display_data"
    }
   ],
   "source": [
    "gosterTrain(10)"
   ]
  },
  {
   "cell_type": "code",
   "execution_count": 20,
   "id": "f8c542be",
   "metadata": {},
   "outputs": [
    {
     "data": {
      "image/png": "[encoded data removed]",
      "text/plain": [
       "<Figure size 1500x200 with 1 Axes>"
      ]
     },
     "metadata": {},
     "output_type": "display_data"
    }
   ],
   "source": [
    "gosterTest(7)"
   ]
  },
  {
   "cell_type": "code",
   "execution_count": 21,
   "id": "ea9cc2d3",
   "metadata": {},
   "outputs": [
    {
     "name": "stderr",
     "output_type": "stream",
     "text": [
      "2024-04-30 16:32:07.319198: I tensorflow/compiler/xla/stream_executor/cuda/cuda_gpu_executor.cc:995] successful NUMA node read from SysFS had negative value (-1), but there must be at least one NUMA node, so returning NUMA node zero. See more at https://github.com/torvalds/linux/blob/v6.0/Documentation/ABI/testing/sysfs-bus-pci#L344-L355\n",
      "2024-04-30 16:32:07.322612: W tensorflow/core/common_runtime/gpu/gpu_device.cc:1960] Cannot dlopen some GPU libraries. Please make sure the missing libraries mentioned above are installed properly if you would like to use GPU. Follow the guide at https://www.tensorflow.org/install/gpu for how to download and setup the required libraries for your platform.\n",
      "Skipping registering GPU devices...\n"
     ]
    },
    {
     "name": "stdout",
     "output_type": "stream",
     "text": [
      "Downloading data from https://storage.googleapis.com/tensorflow/keras-applications/resnet/resnet50_weights_tf_dim_ordering_tf_kernels_notop.h5\n",
      "94765736/94765736 [==============================] - 4s 0us/step\n",
      "Epoch 1/15\n",
      "WARNING:tensorflow:Can save best model only with val_accuracy available, skipping.\n",
      "7/7 - 28s - loss: 341.6002 - accuracy: 0.3889 - 28s/epoch - 4s/step\n",
      "Epoch 2/15\n",
      "WARNING:tensorflow:Can save best model only with val_accuracy available, skipping.\n",
      "7/7 - 11s - loss: 15.1930 - accuracy: 0.5787 - 11s/epoch - 2s/step\n",
      "Epoch 3/15\n",
      "WARNING:tensorflow:Can save best model only with val_accuracy available, skipping.\n",
      "7/7 - 11s - loss: 8.8598 - accuracy: 0.6991 - 11s/epoch - 2s/step\n",
      "Epoch 4/15\n",
      "WARNING:tensorflow:Can save best model only with val_accuracy available, skipping.\n",
      "7/7 - 12s - loss: 7.2130 - accuracy: 0.8148 - 12s/epoch - 2s/step\n",
      "Epoch 5/15\n",
      "WARNING:tensorflow:Can save best model only with val_accuracy available, skipping.\n",
      "7/7 - 12s - loss: 5.2831 - accuracy: 0.8704 - 12s/epoch - 2s/step\n",
      "Epoch 6/15\n",
      "WARNING:tensorflow:Can save best model only with val_accuracy available, skipping.\n",
      "7/7 - 12s - loss: 1.8653 - accuracy: 0.9491 - 12s/epoch - 2s/step\n",
      "Epoch 7/15\n",
      "WARNING:tensorflow:Can save best model only with val_accuracy available, skipping.\n",
      "7/7 - 12s - loss: 2.5068 - accuracy: 0.9722 - 12s/epoch - 2s/step\n",
      "Epoch 8/15\n",
      "WARNING:tensorflow:Can save best model only with val_accuracy available, skipping.\n",
      "7/7 - 12s - loss: 0.3641 - accuracy: 0.9954 - 12s/epoch - 2s/step\n",
      "Epoch 9/15\n",
      "WARNING:tensorflow:Can save best model only with val_accuracy available, skipping.\n",
      "7/7 - 12s - loss: 0.3050 - accuracy: 0.9954 - 12s/epoch - 2s/step\n",
      "Epoch 10/15\n",
      "WARNING:tensorflow:Can save best model only with val_accuracy available, skipping.\n",
      "7/7 - 12s - loss: 0.0901 - accuracy: 0.9954 - 12s/epoch - 2s/step\n",
      "Epoch 11/15\n",
      "WARNING:tensorflow:Can save best model only with val_accuracy available, skipping.\n",
      "7/7 - 12s - loss: 0.0552 - accuracy: 1.0000 - 12s/epoch - 2s/step\n",
      "Epoch 12/15\n",
      "WARNING:tensorflow:Can save best model only with val_accuracy available, skipping.\n",
      "7/7 - 12s - loss: 0.0180 - accuracy: 1.0000 - 12s/epoch - 2s/step\n",
      "Epoch 13/15\n",
      "WARNING:tensorflow:Can save best model only with val_accuracy available, skipping.\n",
      "7/7 - 12s - loss: 0.0217 - accuracy: 1.0000 - 12s/epoch - 2s/step\n",
      "Epoch 14/15\n",
      "WARNING:tensorflow:Can save best model only with val_accuracy available, skipping.\n",
      "7/7 - 12s - loss: 0.2486 - accuracy: 0.9954 - 12s/epoch - 2s/step\n",
      "Epoch 15/15\n",
      "WARNING:tensorflow:Can save best model only with val_accuracy available, skipping.\n",
      "7/7 - 12s - loss: 0.8965 - accuracy: 0.9815 - 12s/epoch - 2s/step\n",
      "Epoch 1/15\n",
      "WARNING:tensorflow:Can save best model only with val_accuracy available, skipping.\n",
      "7/7 - 20s - loss: 14.6531 - accuracy: 0.7143 - 20s/epoch - 3s/step\n",
      "Epoch 2/15\n",
      "WARNING:tensorflow:Can save best model only with val_accuracy available, skipping.\n",
      "7/7 - 11s - loss: 16.3600 - accuracy: 0.7419 - 11s/epoch - 2s/step\n",
      "Epoch 3/15\n",
      "WARNING:tensorflow:Can save best model only with val_accuracy available, skipping.\n",
      "7/7 - 12s - loss: 7.2928 - accuracy: 0.7558 - 12s/epoch - 2s/step\n",
      "Epoch 4/15\n",
      "WARNING:tensorflow:Can save best model only with val_accuracy available, skipping.\n",
      "7/7 - 12s - loss: 4.3100 - accuracy: 0.8433 - 12s/epoch - 2s/step\n",
      "Epoch 5/15\n",
      "WARNING:tensorflow:Can save best model only with val_accuracy available, skipping.\n",
      "7/7 - 12s - loss: 2.6154 - accuracy: 0.9124 - 12s/epoch - 2s/step\n",
      "Epoch 6/15\n",
      "WARNING:tensorflow:Can save best model only with val_accuracy available, skipping.\n",
      "7/7 - 12s - loss: 2.4410 - accuracy: 0.9309 - 12s/epoch - 2s/step\n",
      "Epoch 7/15\n",
      "WARNING:tensorflow:Can save best model only with val_accuracy available, skipping.\n",
      "7/7 - 12s - loss: 1.7829 - accuracy: 0.9447 - 12s/epoch - 2s/step\n",
      "Epoch 8/15\n",
      "WARNING:tensorflow:Can save best model only with val_accuracy available, skipping.\n",
      "7/7 - 12s - loss: 3.7971 - accuracy: 0.9585 - 12s/epoch - 2s/step\n",
      "Epoch 9/15\n",
      "WARNING:tensorflow:Can save best model only with val_accuracy available, skipping.\n",
      "7/7 - 12s - loss: 1.1559 - accuracy: 0.9724 - 12s/epoch - 2s/step\n",
      "Epoch 10/15\n",
      "WARNING:tensorflow:Can save best model only with val_accuracy available, skipping.\n",
      "7/7 - 12s - loss: 2.7532 - accuracy: 0.9631 - 12s/epoch - 2s/step\n",
      "Epoch 11/15\n",
      "WARNING:tensorflow:Can save best model only with val_accuracy available, skipping.\n",
      "7/7 - 12s - loss: 1.4154 - accuracy: 0.9493 - 12s/epoch - 2s/step\n",
      "Epoch 12/15\n",
      "WARNING:tensorflow:Can save best model only with val_accuracy available, skipping.\n",
      "7/7 - 12s - loss: 4.1633 - accuracy: 0.9124 - 12s/epoch - 2s/step\n",
      "Epoch 13/15\n",
      "WARNING:tensorflow:Can save best model only with val_accuracy available, skipping.\n",
      "7/7 - 12s - loss: 5.9793 - accuracy: 0.9124 - 12s/epoch - 2s/step\n",
      "Epoch 14/15\n",
      "WARNING:tensorflow:Can save best model only with val_accuracy available, skipping.\n",
      "7/7 - 12s - loss: 4.3480 - accuracy: 0.8664 - 12s/epoch - 2s/step\n",
      "Epoch 15/15\n",
      "WARNING:tensorflow:Can save best model only with val_accuracy available, skipping.\n",
      "7/7 - 12s - loss: 2.1556 - accuracy: 0.9493 - 12s/epoch - 2s/step\n",
      "Epoch 1/15\n",
      "WARNING:tensorflow:Can save best model only with val_accuracy available, skipping.\n",
      "7/7 - 19s - loss: 12.6221 - accuracy: 0.7512 - 19s/epoch - 3s/step\n",
      "Epoch 2/15\n",
      "WARNING:tensorflow:Can save best model only with val_accuracy available, skipping.\n",
      "7/7 - 12s - loss: 6.0792 - accuracy: 0.8341 - 12s/epoch - 2s/step\n",
      "Epoch 3/15\n",
      "WARNING:tensorflow:Can save best model only with val_accuracy available, skipping.\n",
      "7/7 - 12s - loss: 2.2629 - accuracy: 0.9217 - 12s/epoch - 2s/step\n",
      "Epoch 4/15\n",
      "WARNING:tensorflow:Can save best model only with val_accuracy available, skipping.\n",
      "7/7 - 12s - loss: 1.2443 - accuracy: 0.9539 - 12s/epoch - 2s/step\n",
      "Epoch 5/15\n",
      "WARNING:tensorflow:Can save best model only with val_accuracy available, skipping.\n",
      "7/7 - 12s - loss: 0.3521 - accuracy: 0.9908 - 12s/epoch - 2s/step\n",
      "Epoch 6/15\n",
      "WARNING:tensorflow:Can save best model only with val_accuracy available, skipping.\n",
      "7/7 - 12s - loss: 1.7621 - accuracy: 0.9908 - 12s/epoch - 2s/step\n",
      "Epoch 7/15\n",
      "WARNING:tensorflow:Can save best model only with val_accuracy available, skipping.\n",
      "7/7 - 12s - loss: 1.4631 - accuracy: 0.9447 - 12s/epoch - 2s/step\n",
      "Epoch 8/15\n",
      "WARNING:tensorflow:Can save best model only with val_accuracy available, skipping.\n",
      "7/7 - 12s - loss: 0.7655 - accuracy: 0.9816 - 12s/epoch - 2s/step\n",
      "Epoch 9/15\n",
      "WARNING:tensorflow:Can save best model only with val_accuracy available, skipping.\n",
      "7/7 - 12s - loss: 0.4615 - accuracy: 0.9908 - 12s/epoch - 2s/step\n",
      "Epoch 10/15\n",
      "WARNING:tensorflow:Can save best model only with val_accuracy available, skipping.\n",
      "7/7 - 12s - loss: 0.0706 - accuracy: 1.0000 - 12s/epoch - 2s/step\n",
      "Epoch 11/15\n",
      "WARNING:tensorflow:Can save best model only with val_accuracy available, skipping.\n",
      "7/7 - 12s - loss: 0.0247 - accuracy: 1.0000 - 12s/epoch - 2s/step\n",
      "Epoch 12/15\n",
      "WARNING:tensorflow:Can save best model only with val_accuracy available, skipping.\n",
      "7/7 - 12s - loss: 0.0096 - accuracy: 1.0000 - 12s/epoch - 2s/step\n",
      "Epoch 13/15\n",
      "WARNING:tensorflow:Can save best model only with val_accuracy available, skipping.\n",
      "7/7 - 12s - loss: 0.2507 - accuracy: 0.9954 - 12s/epoch - 2s/step\n",
      "Epoch 14/15\n",
      "WARNING:tensorflow:Can save best model only with val_accuracy available, skipping.\n",
      "7/7 - 12s - loss: 7.4586 - accuracy: 0.9447 - 12s/epoch - 2s/step\n",
      "Epoch 15/15\n",
      "WARNING:tensorflow:Can save best model only with val_accuracy available, skipping.\n",
      "7/7 - 12s - loss: 17.1906 - accuracy: 0.8433 - 12s/epoch - 2s/step\n"
     ]
    }
   ],
   "source": [
    "model = pretrained_resnet()\n",
    "result = cross_validation(model, train_images, train_labels, n_splits=3, epochs=15, batch_size=32)"
   ]
  },
  {
   "cell_type": "code",
   "execution_count": 22,
   "id": "4ab6db58",
   "metadata": {},
   "outputs": [
    {
     "name": "stdout",
     "output_type": "stream",
     "text": [
      "3/3 [==============================] - 2s 407ms/step - loss: 10.9969 - accuracy: 0.5122\n"
     ]
    },
    {
     "data": {
      "text/plain": [
       "[10.996883392333984, 0.5121951103210449]"
      ]
     },
     "execution_count": 22,
     "metadata": {},
     "output_type": "execute_result"
    }
   ],
   "source": [
    "model.evaluate(test_images, test_labels)"
   ]
  },
  {
   "cell_type": "code",
   "execution_count": 23,
   "id": "bfa3dcca",
   "metadata": {},
   "outputs": [
    {
     "name": "stdout",
     "output_type": "stream",
     "text": [
      "3/3 [==============================] - 2s 413ms/step\n"
     ]
    }
   ],
   "source": [
    "tahminler = model.predict(test_images)"
   ]
  },
  {
   "cell_type": "code",
   "execution_count": 24,
   "id": "a20471e0",
   "metadata": {},
   "outputs": [
    {
     "name": "stderr",
     "output_type": "stream",
     "text": [
      "/home/muhlabws4/anaconda3/lib/python3.11/site-packages/keras/src/engine/training.py:3000: UserWarning: You are saving your model as an HDF5 file via `model.save()`. This file format is considered legacy. We recommend using instead the native Keras format, e.g. `model.save('my_model.keras')`.\n",
      "  saving_api.save_model(\n"
     ]
    }
   ],
   "source": [
    "model.save(checkpoint_path)"
   ]
  },
  {
   "cell_type": "code",
   "execution_count": 25,
   "id": "970c625c",
   "metadata": {},
   "outputs": [],
   "source": [
    "y_pred_classes = np.argmax(tahminler,axis=1)"
   ]
  },
  {
   "cell_type": "code",
   "execution_count": 26,
   "id": "486bcede",
   "metadata": {},
   "outputs": [
    {
     "data": {
      "text/plain": [
       "array([[2.7859903e-19, 1.4120832e-01, 8.5879165e-01],\n",
       "       [5.5567363e-20, 5.0440013e-01, 4.9559987e-01],\n",
       "       [1.0820620e-19, 1.3108411e-01, 8.6891592e-01],\n",
       "       [4.4968278e-20, 6.2990975e-01, 3.7009019e-01],\n",
       "       [3.5413642e-19, 3.5330704e-01, 6.4669299e-01],\n",
       "       [1.5462847e-15, 1.0594874e-02, 9.8940510e-01],\n",
       "       [1.3490132e-19, 2.9334989e-01, 7.0665008e-01]], dtype=float32)"
      ]
     },
     "execution_count": 26,
     "metadata": {},
     "output_type": "execute_result"
    }
   ],
   "source": [
    "tahminler[:7]"
   ]
  },
  {
   "cell_type": "code",
   "execution_count": 27,
   "id": "e0a53c0c",
   "metadata": {},
   "outputs": [
    {
     "data": {
      "text/plain": [
       "2"
      ]
     },
     "execution_count": 27,
     "metadata": {},
     "output_type": "execute_result"
    }
   ],
   "source": [
    "np.argmax(tahminler[9])"
   ]
  },
  {
   "cell_type": "code",
   "execution_count": 28,
   "id": "cc0ca1a9",
   "metadata": {},
   "outputs": [
    {
     "data": {
      "text/plain": [
       "array([0, 2, 2, 0, 0, 2, 2, 1, 2, 2, 1, 2, 2, 1, 2, 2, 2, 2, 0, 2, 0, 1,\n",
       "       2, 2, 2, 1, 2, 2, 2, 0, 2, 2, 0, 2, 2, 2, 0, 1, 2, 1, 1, 1, 2, 2,\n",
       "       2, 1, 0, 1, 2, 2, 2, 0, 2, 0, 1, 1, 0, 0, 0, 2, 0, 2, 0, 2, 1, 2,\n",
       "       1, 2, 0, 2, 2, 1, 2, 2, 2, 0, 0, 2, 1, 1, 1, 1])"
      ]
     },
     "execution_count": 28,
     "metadata": {},
     "output_type": "execute_result"
    }
   ],
   "source": [
    "test_labels"
   ]
  },
  {
   "cell_type": "code",
   "execution_count": 29,
   "id": "da0394a1",
   "metadata": {},
   "outputs": [
    {
     "data": {
      "text/plain": [
       "array([2, 1, 2, 1, 2, 2, 2, 2, 2, 2, 2, 2, 1, 2, 1, 1, 1, 2, 2, 2, 2, 2,\n",
       "       2, 2, 1, 1, 2, 2, 2, 2, 2, 2, 1, 2, 2, 2, 2, 1, 2, 1, 2, 1, 1, 1,\n",
       "       2, 2, 2, 1, 1, 2, 2, 2, 2, 2, 2, 2, 2, 1, 2, 2, 2, 2, 2, 2, 2, 2,\n",
       "       1, 2, 1, 2, 2, 2, 2, 2, 2, 2, 2, 2, 1, 2, 1, 2])"
      ]
     },
     "execution_count": 29,
     "metadata": {},
     "output_type": "execute_result"
    }
   ],
   "source": [
    "y_pred_classes"
   ]
  },
  {
   "cell_type": "code",
   "execution_count": 32,
   "id": "2304a465",
   "metadata": {},
   "outputs": [
    {
     "name": "stdout",
     "output_type": "stream",
     "text": [
      "              precision    recall  f1-score   support\n",
      "\n",
      "           0       0.00      0.00      0.00        19\n",
      "           1       0.38      0.40      0.39        20\n",
      "           2       0.56      0.79      0.65        43\n",
      "\n",
      "    accuracy                           0.51        82\n",
      "   macro avg       0.31      0.40      0.35        82\n",
      "weighted avg       0.39      0.51      0.44        82\n",
      "\n"
     ]
    },
    {
     "name": "stderr",
     "output_type": "stream",
     "text": [
      "/home/muhlabws4/anaconda3/lib/python3.11/site-packages/sklearn/metrics/_classification.py:1469: UndefinedMetricWarning: Precision and F-score are ill-defined and being set to 0.0 in labels with no predicted samples. Use `zero_division` parameter to control this behavior.\n",
      "  _warn_prf(average, modifier, msg_start, len(result))\n",
      "/home/muhlabws4/anaconda3/lib/python3.11/site-packages/sklearn/metrics/_classification.py:1469: UndefinedMetricWarning: Precision and F-score are ill-defined and being set to 0.0 in labels with no predicted samples. Use `zero_division` parameter to control this behavior.\n",
      "  _warn_prf(average, modifier, msg_start, len(result))\n",
      "/home/muhlabws4/anaconda3/lib/python3.11/site-packages/sklearn/metrics/_classification.py:1469: UndefinedMetricWarning: Precision and F-score are ill-defined and being set to 0.0 in labels with no predicted samples. Use `zero_division` parameter to control this behavior.\n",
      "  _warn_prf(average, modifier, msg_start, len(result))\n"
     ]
    }
   ],
   "source": [
    "print(classification_report(test_labels, y_pred_classes))"
   ]
  },
  {
   "cell_type": "code",
   "execution_count": 37,
   "id": "a2faa1fd",
   "metadata": {},
   "outputs": [],
   "source": [
    "cm_display = ConfusionMatrixDisplay(confusion_matrix = conf_matrix)"
   ]
  },
  {
   "cell_type": "code",
   "execution_count": 38,
   "id": "3d452628",
   "metadata": {},
   "outputs": [
    {
     "data": {
      "image/png": "[encoded data removed]",
      "text/plain": [
       "<Figure size 640x480 with 2 Axes>"
      ]
     },
     "metadata": {},
     "output_type": "display_data"
    }
   ],
   "source": [
    "cm_display.plot()\n",
    "plt.show() "
   ]
  },
  {
   "cell_type": "code",
   "execution_count": 35,
   "id": "e6e3d264",
   "metadata": {},
   "outputs": [],
   "source": [
    "conf_matrix = confusion_matrix(test_labels, y_pred_classes)"
   ]
  },
  {
   "cell_type": "code",
   "execution_count": 36,
   "id": "463e31a0",
   "metadata": {},
   "outputs": [
    {
     "name": "stdout",
     "output_type": "stream",
     "text": [
      "[[ 0  4 15]\n",
      " [ 0  8 12]\n",
      " [ 0  9 34]]\n"
     ]
    }
   ],
   "source": [
    "print(conf_matrix)"
   ]
  },
  {
   "cell_type": "code",
   "execution_count": null,
   "id": "205fee40",
   "metadata": {},
   "outputs": [],
   "source": []
  },
  {
   "cell_type": "code",
   "execution_count": null,
   "id": "d3a0acfa",
   "metadata": {},
   "outputs": [],
   "source": []
  },
  {
   "cell_type": "code",
   "execution_count": null,
   "id": "2c7268db",
   "metadata": {},
   "outputs": [],
   "source": []
  }
 ],
 "metadata": {
  "kernelspec": {
   "display_name": "Python 3 (ipykernel)",
   "language": "python",
   "name": "python3"
  },
  "language_info": {
   "codemirror_mode": {
    "name": "ipython",
    "version": 3
   },
   "file_extension": ".py",
   "mimetype": "text/x-python",
   "name": "python",
   "nbconvert_exporter": "python",
   "pygments_lexer": "ipython3",
   "version": "3.11.4"
  }
 },
 "nbformat": 4,
 "nbformat_minor": 5
}
