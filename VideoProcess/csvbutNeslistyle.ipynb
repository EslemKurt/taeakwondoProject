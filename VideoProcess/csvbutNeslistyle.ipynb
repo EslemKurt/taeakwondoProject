{
 "cells": [
  {
   "cell_type": "code",
   "execution_count": 3,
   "id": "faaea764-5fd4-48ee-9140-24e65601a5f6",
   "metadata": {},
   "outputs": [],
   "source": [
    "import pandas as pd\n",
    "import glob\n",
    "import os"
   ]
  },
  {
   "cell_type": "code",
   "execution_count": 4,
   "id": "91391086-b75e-4e9a-a909-cfd9cf30d246",
   "metadata": {},
   "outputs": [],
   "source": [
    "def dosyalari_birlestir(dosya_konumu, dosya_adi_desenleri):\n",
    "    # Toplanacak dosyaları saklamak için boş bir DataFrame oluştur\n",
    "    birlesik_df = pd.DataFrame()\n",
    "\n",
    "    for dosya_adi_deseni in dosya_adi_desenleri:\n",
    "        # Dosya adı desenini oluştur\n",
    "        dosya_deseni = os.path.join(dosya_konumu, dosya_adi_deseni)\n",
    "\n",
    "        # Belirtilen desene uyan dosyaları bul\n",
    "        dosya_listesi = glob.glob(dosya_deseni)\n",
    "\n",
    "        # Dosya bulunamazsa hata mesajı yazdır ve bir sonraki desene geç\n",
    "        if not dosya_listesi:\n",
    "            print(f\"Belirtilen desene uyan dosya bulunamadı: {dosya_deseni}\")\n",
    "            continue\n",
    "            \n",
    "        for dosya in dosya_listesi:\n",
    "            print(f\"Dosya birleştiriliyor: {dosya}\")\n",
    "\n",
    "\n",
    "        # Dosyaları okuyarak birleştir\n",
    "        dfs = [pd.read_csv(dosya) for dosya in dosya_listesi]\n",
    "\n",
    "        # Dosyaları birleştir ve toplu DataFrame'e ekle\n",
    "        birlesik_df = pd.concat([birlesik_df] + dfs, ignore_index=True)\n",
    "\n",
    "        print(f\"Dosyalar {dosya_deseni} birlestirildi\")\n",
    "    \n",
    "    return birlesik_df"
   ]
  },
  {
   "cell_type": "code",
   "execution_count": 5,
   "id": "148b7292-7fda-411f-98c1-b8c27672e4f7",
   "metadata": {},
   "outputs": [],
   "source": [
    "def sure_guncelle(df, sayi):\n",
    "    # 'matchLogItemType' sütununda 'START_ROUND' değerini içeren satırı bul\n",
    "    start_round_index = df[df['matchLogItemType'] == 'START_ROUND'].index[0]\n",
    "\n",
    "    # 'systemTime' sütunundaki değeri al ve verilen sayıyı çıkar\n",
    "    new_system_time = df.at[start_round_index, 'systemTime'] - sayi\n",
    "\n",
    "    # Yeni satırı oluştur\n",
    "    new_row = {'systemTime': new_system_time, 'matchLogItemType': 'START_ROUND'}\n",
    "\n",
    "    # Yeni satırı DataFrame'in en üstüne ekle\n",
    "    df = pd.concat([pd.DataFrame(new_row, index=[0]), df], ignore_index=True)\n",
    "\n",
    "    return df"
   ]
  },
  {
   "cell_type": "code",
   "execution_count": 6,
   "id": "8354ea3d-f4ad-4d1a-be08-390918e8f3ef",
   "metadata": {},
   "outputs": [],
   "source": [
    "def convert_to_milliseconds(time_str):\n",
    "    # Saat, dakika ve saniyeyi ayır\n",
    "    parts = time_str.split('.')\n",
    "    \n",
    "    # Eğer eksik kısımlar varsa 0 ile doldur\n",
    "    while len(parts) < 3:\n",
    "        parts.append('0')\n",
    "    \n",
    "    # Her bir parçayı integer'a çevir\n",
    "    \n",
    "    saat, minutes, seconds, milliseconds = map(int, parts)\n",
    "    \n",
    "    # Toplam milisaniye değerini hesapla\n",
    "    total_milliseconds = (((saat*60)+minutes) * 60 * 1000) + (seconds * 1000) + (milliseconds*16.667)\n",
    "    return int(total_milliseconds)"
   ]
  },
  {
   "cell_type": "code",
   "execution_count": 7,
   "id": "7f4c138c-bd68-4192-bb8b-50a0b13dc9e9",
   "metadata": {},
   "outputs": [],
   "source": [
    "date = '05_25'\n",
    "court_num = 1\n",
    "baslangic_zamani = '0.05.59.45'\n",
    "\n",
    "start_csv = '101'\n",
    "end_csv = '119'\n",
    "\n",
    "dosya_konumu='C:/Users/eslemkurt/GitHub/taeakwondoProject/Log File/Multigames/kort1/20240525'\n",
    "dosya_adi_desenleri = ['**-101-matchLogItems.csv', '**-10*-matchLogItems.csv', '**-11*-matchLogItems.csv']\n",
    "\n",
    "baslangic_zamani = convert_to_milliseconds(baslangic_zamani)\n",
    "dosya_kayit_yolu = f'D:/multigames/csv/Multigames_2024_Ankara/{date}_2024/{court_num}th_court/matchlog/'"
   ]
  },
  {
   "cell_type": "code",
   "execution_count": 8,
   "id": "c54ba130-619a-459c-8599-8de7549b5b49",
   "metadata": {},
   "outputs": [
    {
     "name": "stdout",
     "output_type": "stream",
     "text": [
      "Dosya birleştiriliyor: C:/Users/eslemkurt/GitHub/taeakwondoProject/Log File/Multigames/kort1/20240525\\20240525085315-101-matchLogItems.csv\n",
      "Dosyalar C:/Users/eslemkurt/GitHub/taeakwondoProject/Log File/Multigames/kort1/20240525\\**-101-matchLogItems.csv birlestirildi\n",
      "Dosya birleştiriliyor: C:/Users/eslemkurt/GitHub/taeakwondoProject/Log File/Multigames/kort1/20240525\\20240525085315-101-matchLogItems.csv\n",
      "Dosya birleştiriliyor: C:/Users/eslemkurt/GitHub/taeakwondoProject/Log File/Multigames/kort1/20240525\\20240525090325-102-matchLogItems.csv\n",
      "Dosya birleştiriliyor: C:/Users/eslemkurt/GitHub/taeakwondoProject/Log File/Multigames/kort1/20240525\\20240525091937-104-matchLogItems.csv\n",
      "Dosya birleştiriliyor: C:/Users/eslemkurt/GitHub/taeakwondoProject/Log File/Multigames/kort1/20240525\\20240525092734-105-matchLogItems.csv\n",
      "Dosya birleştiriliyor: C:/Users/eslemkurt/GitHub/taeakwondoProject/Log File/Multigames/kort1/20240525\\20240525094332-106-matchLogItems.csv\n",
      "Dosya birleştiriliyor: C:/Users/eslemkurt/GitHub/taeakwondoProject/Log File/Multigames/kort1/20240525\\20240525095243-107-matchLogItems.csv\n",
      "Dosya birleştiriliyor: C:/Users/eslemkurt/GitHub/taeakwondoProject/Log File/Multigames/kort1/20240525\\20240525100457-108-matchLogItems.csv\n",
      "Dosya birleştiriliyor: C:/Users/eslemkurt/GitHub/taeakwondoProject/Log File/Multigames/kort1/20240525\\20240525102246-109-matchLogItems.csv\n",
      "Dosyalar C:/Users/eslemkurt/GitHub/taeakwondoProject/Log File/Multigames/kort1/20240525\\**-10*-matchLogItems.csv birlestirildi\n",
      "Dosya birleştiriliyor: C:/Users/eslemkurt/GitHub/taeakwondoProject/Log File/Multigames/kort1/20240525\\20240525103407-110-matchLogItems.csv\n",
      "Dosya birleştiriliyor: C:/Users/eslemkurt/GitHub/taeakwondoProject/Log File/Multigames/kort1/20240525\\20240525104442-112-matchLogItems.csv\n",
      "Dosya birleştiriliyor: C:/Users/eslemkurt/GitHub/taeakwondoProject/Log File/Multigames/kort1/20240525\\20240525105704-113-matchLogItems.csv\n",
      "Dosya birleştiriliyor: C:/Users/eslemkurt/GitHub/taeakwondoProject/Log File/Multigames/kort1/20240525\\20240525110634-114-matchLogItems.csv\n",
      "Dosya birleştiriliyor: C:/Users/eslemkurt/GitHub/taeakwondoProject/Log File/Multigames/kort1/20240525\\20240525111656-115-matchLogItems.csv\n",
      "Dosya birleştiriliyor: C:/Users/eslemkurt/GitHub/taeakwondoProject/Log File/Multigames/kort1/20240525\\20240525113045-116-matchLogItems.csv\n",
      "Dosya birleştiriliyor: C:/Users/eslemkurt/GitHub/taeakwondoProject/Log File/Multigames/kort1/20240525\\20240525113951-117-matchLogItems.csv\n",
      "Dosya birleştiriliyor: C:/Users/eslemkurt/GitHub/taeakwondoProject/Log File/Multigames/kort1/20240525\\20240525114824-118-matchLogItems.csv\n",
      "Dosya birleştiriliyor: C:/Users/eslemkurt/GitHub/taeakwondoProject/Log File/Multigames/kort1/20240525\\20240525120055-119-matchLogItems.csv\n",
      "Dosyalar C:/Users/eslemkurt/GitHub/taeakwondoProject/Log File/Multigames/kort1/20240525\\**-11*-matchLogItems.csv birlestirildi\n"
     ]
    }
   ],
   "source": [
    "birlesik_df = dosyalari_birlestir(dosya_konumu, dosya_adi_desenleri)\n",
    "\n",
    "#birlesik_df.to_csv('birlesik_dosya2.csv', index=False) #sonucu kaydeder\n",
    "\n",
    "# Elde edilen birleştirilmiş DataFrame'i kullanabilirsiniz\n",
    "#print(birlesik_df)"
   ]
  },
  {
   "cell_type": "code",
   "execution_count": 9,
   "id": "a807e999-091c-42e1-bdd1-01e20e237155",
   "metadata": {},
   "outputs": [
    {
     "name": "stdout",
     "output_type": "stream",
     "text": [
      "Dosya kaydedildi \"D:/multigames/csv/Multigames_2024_Ankara/05_25_2024/1th_court/matchlog//05_25-101-119.csv\" konumunda.\n"
     ]
    }
   ],
   "source": [
    "# Fonksiyonu kullanarak DataFrame'i güncelle\n",
    "guncellenmis_df = sure_guncelle(birlesik_df, sayi=baslangic_zamani)\n",
    "\n",
    "# Güncellenmiş DataFrame'i istediğiniz bir dosyaya kaydedin\n",
    "if not os.path.exists(dosya_kayit_yolu):\n",
    "    os.makedirs(dosya_kayit_yolu)\n",
    "guncellenmis_df.to_csv(f'{dosya_kayit_yolu}/{date}-{start_csv}-{end_csv}.csv', index=False)\n",
    "\n",
    "print(f'Dosya kaydedildi \"{dosya_kayit_yolu}/{date}-{start_csv}-{end_csv}.csv\" konumunda.')"
   ]
  },
  {
   "cell_type": "code",
   "execution_count": null,
   "id": "5545a386-7ce1-43b3-8ca7-7aa3bef4e28c",
   "metadata": {},
   "outputs": [],
   "source": []
  }
 ],
 "metadata": {
  "kernelspec": {
   "display_name": "Python 3 (ipykernel)",
   "language": "python",
   "name": "python3"
  },
  "language_info": {
   "codemirror_mode": {
    "name": "ipython",
    "version": 3
   },
   "file_extension": ".py",
   "mimetype": "text/x-python",
   "name": "python",
   "nbconvert_exporter": "python",
   "pygments_lexer": "ipython3",
   "version": "3.12.4"
  }
 },
 "nbformat": 4,
 "nbformat_minor": 5
}
