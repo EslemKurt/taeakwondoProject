{
 "cells": [
  {
   "cell_type": "code",
   "execution_count": 1,
   "id": "f59bf489",
   "metadata": {},
   "outputs": [],
   "source": [
    "import pandas as pd\n",
    "import glob\n",
    "import os"
   ]
  },
  {
   "cell_type": "code",
   "execution_count": 2,
   "id": "8a63d240",
   "metadata": {},
   "outputs": [],
   "source": [
    "def dosyalari_birlestir(dosya_konumu, dosya_adi_desenleri):\n",
    "    # Toplanacak dosyaları saklamak için boş bir DataFrame oluştur\n",
    "    birlesik_df = pd.DataFrame()\n",
    "\n",
    "    for dosya_adi_deseni in dosya_adi_desenleri:\n",
    "        # Dosya adı desenini oluştur\n",
    "        dosya_deseni = os.path.join(dosya_konumu, dosya_adi_deseni)\n",
    "\n",
    "        # Belirtilen desene uyan dosyaları bul\n",
    "        dosya_listesi = glob.glob(dosya_deseni)\n",
    "\n",
    "        # Dosya bulunamazsa hata mesajı yazdır ve bir sonraki desene geç\n",
    "        if not dosya_listesi:\n",
    "            print(f\"Belirtilen desene uyan dosya bulunamadı: {dosya_deseni}\")\n",
    "            continue\n",
    "            \n",
    "        for dosya in dosya_listesi:\n",
    "            print(f\"Dosya birleştiriliyor: {dosya}\")\n",
    "\n",
    "\n",
    "        # Dosyaları okuyarak birleştir\n",
    "        dfs = [pd.read_csv(dosya) for dosya in dosya_listesi]\n",
    "\n",
    "        # Dosyaları birleştir ve toplu DataFrame'e ekle\n",
    "        birlesik_df = pd.concat([birlesik_df] + dfs, ignore_index=True)\n",
    "\n",
    "        print(f\"Dosyalar {dosya_deseni} birlestirildi\")\n",
    "    \n",
    "    return birlesik_df"
   ]
  },
  {
   "cell_type": "code",
   "execution_count": 3,
   "id": "65adcfc9",
   "metadata": {},
   "outputs": [],
   "source": [
    "def sure_guncelle(df, sayi):\n",
    "    # 'matchLogItemType' sütununda 'START_ROUND' değerini içeren satırı bul\n",
    "    start_round_index = df[df['matchLogItemType'] == 'START_ROUND'].index[0]\n",
    "\n",
    "    # 'systemTime' sütunundaki değeri al ve verilen sayıyı çıkar\n",
    "    new_system_time = df.at[start_round_index, 'systemTime'] - sayi\n",
    "\n",
    "    # Yeni satırı oluştur\n",
    "    new_row = {'systemTime': new_system_time, 'matchLogItemType': 'START_ROUND'}\n",
    "\n",
    "    # Yeni satırı DataFrame'in en üstüne ekle\n",
    "    df = pd.concat([pd.DataFrame(new_row, index=[0]), df], ignore_index=True)\n",
    "\n",
    "    return df\n",
    "\n"
   ]
  },
  {
   "cell_type": "code",
   "execution_count": 4,
   "id": "93bc7974",
   "metadata": {},
   "outputs": [],
   "source": [
    "def convert_to_milliseconds(time_str):\n",
    "    # Saat, dakika ve saniyeyi ayır\n",
    "    parts = time_str.split('.')\n",
    "    \n",
    "    # Eğer eksik kısımlar varsa 0 ile doldur\n",
    "    while len(parts) < 3:\n",
    "        parts.append('0')\n",
    "    \n",
    "    # Her bir parçayı integer'a çevir\n",
    "    \n",
    "    saat, minutes, seconds, milliseconds = map(int, parts)\n",
    "    \n",
    "    # Toplam milisaniye değerini hesapla\n",
    "    total_milliseconds = (((saat*60)+minutes) * 60 * 1000) + (seconds * 1000) + (milliseconds*16.667)\n",
    "    return int(total_milliseconds)"
   ]
  },
  {
   "cell_type": "code",
   "execution_count": 6,
   "id": "7828065c",
   "metadata": {},
   "outputs": [],
   "source": [
    "date = '02_13'\n",
    "court_num = 3\n",
    "baslangic_zamani = '0.14.08.55'\n",
    "\n",
    "start_csv = '301'\n",
    "end_csv = '319'\n",
    "\n",
    "dosya_konumu='/home/muhlabws4/AntalyaKodlari/cort3/20240213'\n",
    "dosya_adi_desenleri = ['**-301-matchLogItems.csv', '**-30*-matchLogItems.csv', '**-31*-matchLogItems.csv']\n",
    "\n",
    "baslangic_zamani = convert_to_milliseconds(baslangic_zamani)\n",
    "dosya_kayit_yolu = f'/home/muhlabws4/Turkish_Open_2024_Antalya/{date}_2024/{court_num}th_court/matchlog/'"
   ]
  },
  {
   "cell_type": "code",
   "execution_count": 20,
   "id": "ffaa5eff",
   "metadata": {},
   "outputs": [],
   "source": [
    "date = '02_13'\n",
    "court_num = 3\n",
    "baslangic_zamani = '4.42.53.10'\n",
    "\n",
    "start_csv = '320'\n",
    "end_csv = '334'\n",
    "\n",
    "dosya_konumu='/home/muhlabws4/AntalyaKodlari/cort3/20240213'\n",
    "dosya_adi_desenleri = ['**-320-matchLogItems.csv', '**-32*-matchLogItems.csv', '**-33*-matchLogItems.csv']\n",
    "\n",
    "baslangic_zamani = convert_to_milliseconds(baslangic_zamani)\n",
    "dosya_kayit_yolu = f'/home/muhlabws4/Turkish_Open_2024_Antalya/{date}_2024/{court_num}th_court/matchlog/'"
   ]
  },
  {
   "cell_type": "code",
   "execution_count": 9,
   "id": "e8226806",
   "metadata": {},
   "outputs": [],
   "source": [
    "date = '02_14'\n",
    "court_num = 3\n",
    "baslangic_zamani = '0.18.19.10'\n",
    "\n",
    "start_csv = '304'\n",
    "end_csv = '305'\n",
    "\n",
    "dosya_konumu='/home/muhlabws4/AntalyaKodlari/cort3/20240214'\n",
    "dosya_adi_desenleri = ['**-304-matchLogItems.csv']\n",
    "\n",
    "baslangic_zamani = convert_to_milliseconds(baslangic_zamani)\n",
    "dosya_kayit_yolu = f'/home/muhlabws4/Turkish_Open_2024_Antalya/{date}_2024/{court_num}th_court/matchlog/'"
   ]
  },
  {
   "cell_type": "code",
   "execution_count": 11,
   "id": "95842a32",
   "metadata": {},
   "outputs": [],
   "source": [
    "date = '02_14'\n",
    "court_num = 3\n",
    "baslangic_zamani = '0.31.06.30'\n",
    "\n",
    "start_csv = '305'\n",
    "end_csv = '306'\n",
    "\n",
    "dosya_konumu='/home/muhlabws4/AntalyaKodlari/cort3/20240214'\n",
    "dosya_adi_desenleri = ['**-305-matchLogItems.csv']\n",
    "\n",
    "baslangic_zamani = convert_to_milliseconds(baslangic_zamani)\n",
    "dosya_kayit_yolu = f'/home/muhlabws4/Turkish_Open_2024_Antalya/{date}_2024/{court_num}th_court/matchlog/'"
   ]
  },
  {
   "cell_type": "code",
   "execution_count": 7,
   "id": "4c63f128",
   "metadata": {},
   "outputs": [
    {
     "name": "stdout",
     "output_type": "stream",
     "text": [
      "Dosya birleştiriliyor: /home/muhlabws4/Belgeler/GitHub/taeakwondoProject/Log File/Multigames/kort3/20240526/20240526085833-301-matchLogItems.csv\n",
      "Dosyalar /home/muhlabws4/Belgeler/GitHub/taeakwondoProject/Log File/Multigames/kort3/20240526/**-301-matchLogItems.csv birlestirildi\n",
      "Dosya birleştiriliyor: /home/muhlabws4/Belgeler/GitHub/taeakwondoProject/Log File/Multigames/kort3/20240526/20240526085833-301-matchLogItems.csv\n",
      "Dosya birleştiriliyor: /home/muhlabws4/Belgeler/GitHub/taeakwondoProject/Log File/Multigames/kort3/20240526/20240526102103-309-matchLogItems.csv\n",
      "Dosya birleştiriliyor: /home/muhlabws4/Belgeler/GitHub/taeakwondoProject/Log File/Multigames/kort3/20240526/20240526101047-308-matchLogItems.csv\n",
      "Dosya birleştiriliyor: /home/muhlabws4/Belgeler/GitHub/taeakwondoProject/Log File/Multigames/kort3/20240526/20240526094412-305-matchLogItems.csv\n",
      "Dosya birleştiriliyor: /home/muhlabws4/Belgeler/GitHub/taeakwondoProject/Log File/Multigames/kort3/20240526/20240526100138-307-matchLogItems.csv\n",
      "Dosya birleştiriliyor: /home/muhlabws4/Belgeler/GitHub/taeakwondoProject/Log File/Multigames/kort3/20240526/20240526093517-304-matchLogItems.csv\n",
      "Dosya birleştiriliyor: /home/muhlabws4/Belgeler/GitHub/taeakwondoProject/Log File/Multigames/kort3/20240526/20240526094852-306-matchLogItems.csv\n",
      "Dosya birleştiriliyor: /home/muhlabws4/Belgeler/GitHub/taeakwondoProject/Log File/Multigames/kort3/20240526/20240526092416-303-matchLogItems.csv\n",
      "Dosya birleştiriliyor: /home/muhlabws4/Belgeler/GitHub/taeakwondoProject/Log File/Multigames/kort3/20240526/20240526090832-302-matchLogItems.csv\n",
      "Dosyalar /home/muhlabws4/Belgeler/GitHub/taeakwondoProject/Log File/Multigames/kort3/20240526/**-30*-matchLogItems.csv birlestirildi\n",
      "Dosya birleştiriliyor: /home/muhlabws4/Belgeler/GitHub/taeakwondoProject/Log File/Multigames/kort3/20240526/20240526111407-314-matchLogItems.csv\n",
      "Dosya birleştiriliyor: /home/muhlabws4/Belgeler/GitHub/taeakwondoProject/Log File/Multigames/kort3/20240526/20240526121654-318-matchLogItems.csv\n",
      "Dosya birleştiriliyor: /home/muhlabws4/Belgeler/GitHub/taeakwondoProject/Log File/Multigames/kort3/20240526/20240526105601-312-matchLogItems.csv\n",
      "Dosya birleştiriliyor: /home/muhlabws4/Belgeler/GitHub/taeakwondoProject/Log File/Multigames/kort3/20240526/20240526103108-310-matchLogItems.csv\n",
      "Dosya birleştiriliyor: /home/muhlabws4/Belgeler/GitHub/taeakwondoProject/Log File/Multigames/kort3/20240526/20240526113732-315-matchLogItems.csv\n",
      "Dosya birleştiriliyor: /home/muhlabws4/Belgeler/GitHub/taeakwondoProject/Log File/Multigames/kort3/20240526/20240526120436-317-matchLogItems.csv\n",
      "Dosya birleştiriliyor: /home/muhlabws4/Belgeler/GitHub/taeakwondoProject/Log File/Multigames/kort3/20240526/20240526110523-313-matchLogItems.csv\n",
      "Dosya birleştiriliyor: /home/muhlabws4/Belgeler/GitHub/taeakwondoProject/Log File/Multigames/kort3/20240526/20240526114653-316-matchLogItems.csv\n",
      "Dosya birleştiriliyor: /home/muhlabws4/Belgeler/GitHub/taeakwondoProject/Log File/Multigames/kort3/20240526/20240526123033-319-matchLogItems.csv\n",
      "Dosya birleştiriliyor: /home/muhlabws4/Belgeler/GitHub/taeakwondoProject/Log File/Multigames/kort3/20240526/20240526104450-311-matchLogItems.csv\n",
      "Dosyalar /home/muhlabws4/Belgeler/GitHub/taeakwondoProject/Log File/Multigames/kort3/20240526/**-31*-matchLogItems.csv birlestirildi\n",
      "Dosya birleştiriliyor: /home/muhlabws4/Belgeler/GitHub/taeakwondoProject/Log File/Multigames/kort3/20240526/20240526123613-320-matchLogItems.csv\n",
      "Dosyalar /home/muhlabws4/Belgeler/GitHub/taeakwondoProject/Log File/Multigames/kort3/20240526/**-320-matchLogItems.csv birlestirildi\n",
      "Dosya birleştiriliyor: /home/muhlabws4/Belgeler/GitHub/taeakwondoProject/Log File/Multigames/kort3/20240526/20240526125053-321-matchLogItems.csv\n",
      "Dosyalar /home/muhlabws4/Belgeler/GitHub/taeakwondoProject/Log File/Multigames/kort3/20240526/**-321-matchLogItems.csv birlestirildi\n",
      "Dosya birleştiriliyor: /home/muhlabws4/Belgeler/GitHub/taeakwondoProject/Log File/Multigames/kort3/20240526/20240526130150-322-matchLogItems.csv\n",
      "Dosyalar /home/muhlabws4/Belgeler/GitHub/taeakwondoProject/Log File/Multigames/kort3/20240526/**-322-matchLogItems.csv birlestirildi\n"
     ]
    }
   ],
   "source": [
    "birlesik_df = dosyalari_birlestir(dosya_konumu, dosya_adi_desenleri)\n",
    "\n",
    "#birlesik_df.to_csv('birlesik_dosya2.csv', index=False) #sonucu kaydeder\n",
    "\n",
    "# Elde edilen birleştirilmiş DataFrame'i kullanabilirsiniz\n",
    "#print(birlesik_df)"
   ]
  },
  {
   "cell_type": "code",
   "execution_count": 8,
   "id": "e77b76dd",
   "metadata": {},
   "outputs": [
    {
     "name": "stdout",
     "output_type": "stream",
     "text": [
      "Dosya kaydedildi \"/home/muhlabws4/Belgeler/GitHub/taeakwondoProject/Log File/Multigames/birlestirilmis/05_26_2024/1th_court/05_26-301-322.csv\" konumunda.\n"
     ]
    }
   ],
   "source": [
    "# Fonksiyonu kullanarak DataFrame'i güncelle\n",
    "guncellenmis_df = sure_guncelle(birlesik_df, sayi=baslangic_zamani)\n",
    "\n",
    "# Güncellenmiş DataFrame'i istediğiniz bir dosyaya kaydedin\n",
    "if not os.path.exists(dosya_kayit_yolu):\n",
    "    os.makedirs(dosya_kayit_yolu)\n",
    "guncellenmis_df.to_csv(f'{dosya_kayit_yolu}/{date}-{start_csv}-{end_csv}.csv', index=False)\n",
    "\n",
    "print(f'Dosya kaydedildi \"{dosya_kayit_yolu}/{date}-{start_csv}-{end_csv}.csv\" konumunda.')"
   ]
  },
  {
   "cell_type": "code",
   "execution_count": null,
   "id": "40d4f2d3",
   "metadata": {},
   "outputs": [],
   "source": [
    "date = '02_14'\n",
    "court_num = 3\n",
    "baslangic_zamani = '0.58.48.00'\n",
    "\n",
    "start_csv = '307'\n",
    "end_csv = '308'\n",
    "\n",
    "dosya_konumu='/home/muhlabws4/AntalyaKodlari/cort3/20240214'\n",
    "dosya_adi_desenleri = ['**-306-matchLogItems.csv']\n",
    "\n",
    "baslangic_zamani = convert_to_milliseconds(baslangic_zamani)\n",
    "dosya_kayit_yolu = f'/home/muhlabws4/Turkish_Open_2024_Antalya/{date}_2024/{court_num}th_court/matchlog/'"
   ]
  },
  {
   "cell_type": "code",
   "execution_count": 18,
   "id": "ca7f9b2e",
   "metadata": {},
   "outputs": [],
   "source": [
    "date = '05_26'\n",
    "court_num = 3\n",
    "baslangic_zamani = '0.07.05.00'\n",
    "\n",
    "start_csv = '301'\n",
    "end_csv = '316'\n",
    "\n",
    "dosya_konumu='/home/muhlabws4/Belgeler/GitHub/taeakwondoProject/Log File/Multigames/kort3/20240526'\n",
    "dosya_adi_desenleri = ['**-301-matchLogItems.csv', '**-30*-matchLogItems.csv', '**-311-matchLogItems.csv','**-312-matchLogItems.csv','**-313-matchLogItems.csv','**-314-matchLogItems.csv','**-315-matchLogItems.csv','**-316-matchLogItems.csv']\n",
    "\n",
    "baslangic_zamani = convert_to_milliseconds(baslangic_zamani)\n",
    "dosya_kayit_yolu = f'/home/muhlabws4/Belgeler/GitHub/taeakwondoProject/Log File/Multigames/birlestirilmis/{date}_2024/{court_num}th_court'"
   ]
  },
  {
   "cell_type": "code",
   "execution_count": 20,
   "id": "70bfd34a",
   "metadata": {},
   "outputs": [],
   "source": [
    "date = '05_26'\n",
    "court_num = 3\n",
    "baslangic_zamani = '03.25.23.40'\n",
    "\n",
    "start_csv = '318'\n",
    "end_csv = '322'\n",
    "\n",
    "dosya_konumu='/home/muhlabws4/Belgeler/GitHub/taeakwondoProject/Log File/Multigames/kort3/20240526'\n",
    "dosya_adi_desenleri = ['**-318-matchLogItems.csv', '**-319-matchLogItems.csv', '**-320-matchLogItems.csv','**-321-matchLogItems.csv','**-322-matchLogItems.csv']\n",
    "\n",
    "baslangic_zamani = convert_to_milliseconds(baslangic_zamani)\n",
    "dosya_kayit_yolu = f'/home/muhlabws4/Belgeler/GitHub/taeakwondoProject/Log File/Multigames/birlestirilmis/{date}_2024/{court_num}th_court'"
   ]
  },
  {
   "cell_type": "code",
   "execution_count": 29,
   "id": "80f95902",
   "metadata": {},
   "outputs": [],
   "source": [
    "date = '05_26'\n",
    "court_num = 3\n",
    "baslangic_zamani = '05.05.43.20'\n",
    "\n",
    "start_csv = '323'\n",
    "end_csv = '331'\n",
    "\n",
    "dosya_konumu='/home/muhlabws4/Belgeler/GitHub/taeakwondoProject/Log File/Multigames/kort3/20240526'\n",
    "dosya_adi_desenleri = ['**-323-matchLogItems.csv', '**-324-matchLogItems.csv', '**-325-matchLogItems.csv','**-326-matchLogItems.csv','**-327-matchLogItems.csv','**-328-matchLogItems.csv','**-329-matchLogItems.csv','**-33*-matchLogItems.csv']\n",
    "\n",
    "baslangic_zamani = convert_to_milliseconds(baslangic_zamani)\n",
    "dosya_kayit_yolu = f'/home/muhlabws4/Belgeler/GitHub/taeakwondoProject/Log File/Multigames/birlestirilmis/{date}_2024/{court_num}th_court'"
   ]
  },
  {
   "cell_type": "code",
   "execution_count": 40,
   "id": "538fde3d",
   "metadata": {},
   "outputs": [],
   "source": [
    "date = '05_26'\n",
    "court_num = 4\n",
    "baslangic_zamani = '00.06.56.30'\n",
    "\n",
    "start_csv = '401'\n",
    "end_csv = '421'\n",
    "\n",
    "dosya_konumu='/home/muhlabws4/Belgeler/GitHub/taeakwondoProject/Log File/Multigames/kort4/20240526'\n",
    "dosya_adi_desenleri = ['**-401-matchLogItems.csv', '**-40*-matchLogItems.csv', '**-41*-matchLogItems.csv','**-420-matchLogItems.csv','**-421-matchLogItems.csv']\n",
    "\n",
    "baslangic_zamani = convert_to_milliseconds(baslangic_zamani)\n",
    "dosya_kayit_yolu = f'/home/muhlabws4/Belgeler/GitHub/taeakwondoProject/Log File/Multigames/birlestirilmis/{date}_2024/{court_num}th_court'"
   ]
  },
  {
   "cell_type": "code",
   "execution_count": 45,
   "id": "a87215e1",
   "metadata": {},
   "outputs": [],
   "source": [
    "date = '05_26'\n",
    "court_num = 4\n",
    "baslangic_zamani = '05.06.26.48'\n",
    "\n",
    "start_csv = '422'\n",
    "end_csv = '432'\n",
    "\n",
    "dosya_konumu='/home/muhlabws4/Belgeler/GitHub/taeakwondoProject/Log File/Multigames/kort4/20240526'\n",
    "dosya_adi_desenleri = ['**-422-matchLogItems.csv', \n",
    "                       '**-423-matchLogItems.csv', '**-424-matchLogItems.csv','**-425-matchLogItems.csv',\n",
    "                       '**-426-matchLogItems.csv','**-427-matchLogItems.csv', '**-428-matchLogItems.csv', \n",
    "                       '**-429-matchLogItems.csv','**-43*-matchLogItems.csv']\n",
    "\n",
    "baslangic_zamani = convert_to_milliseconds(baslangic_zamani)\n",
    "dosya_kayit_yolu = f'/home/muhlabws4/Belgeler/GitHub/taeakwondoProject/Log File/Multigames/birlestirilmis/{date}_2024/{court_num}th_court'"
   ]
  },
  {
   "cell_type": "code",
   "execution_count": 55,
   "id": "8c312980",
   "metadata": {},
   "outputs": [],
   "source": [
    "date = '05_26'\n",
    "court_num = 5\n",
    "baslangic_zamani = '00.05.20.00'\n",
    "\n",
    "start_csv = '501'\n",
    "end_csv = '519'\n",
    "\n",
    "dosya_konumu='/home/muhlabws4/Belgeler/GitHub/taeakwondoProject/Log File/Multigames/kort5/20240526'\n",
    "dosya_adi_desenleri = ['**-50*-matchLogItems.csv', '**-51*-matchLogItems.csv']\n",
    "\n",
    "baslangic_zamani = convert_to_milliseconds(baslangic_zamani)\n",
    "dosya_kayit_yolu = f'/home/muhlabws4/Belgeler/GitHub/taeakwondoProject/Log File/Multigames/birlestirilmis/{date}_2024/{court_num}th_court'"
   ]
  },
  {
   "cell_type": "code",
   "execution_count": 57,
   "id": "634ede91",
   "metadata": {},
   "outputs": [],
   "source": [
    "date = '05_26'\n",
    "court_num = 5\n",
    "baslangic_zamani = '04.28.55.30'\n",
    "\n",
    "start_csv = '520'\n",
    "end_csv = '526'\n",
    "\n",
    "dosya_konumu='/home/muhlabws4/Belgeler/GitHub/taeakwondoProject/Log File/Multigames/kort5/20240526'\n",
    "dosya_adi_desenleri = ['**-52*-matchLogItems.csv']\n",
    "\n",
    "baslangic_zamani = convert_to_milliseconds(baslangic_zamani)\n",
    "dosya_kayit_yolu = f'/home/muhlabws4/Belgeler/GitHub/taeakwondoProject/Log File/Multigames/birlestirilmis/{date}_2024/{court_num}th_court'"
   ]
  },
  {
   "cell_type": "code",
   "execution_count": null,
   "id": "98e8943e",
   "metadata": {},
   "outputs": [],
   "source": [
    "date = '02_14'\n",
    "court_num = 2\n",
    "baslangic_zamani = '04.28.55.30'\n",
    "\n",
    "start_csv = '201'\n",
    "end_csv = '243'\n",
    "\n",
    "dosya_konumu='/home/muhlabws4/Belgeler/GitHub/taeakwondoProject/Log File/Antalya Open/kort2/20240214'\n",
    "dosya_adi_desenleri = ['**-20*-matchLogItems.csv','**-21*-matchLogItems.csv','**-22*-matchLogItems.csv','**-23*-matchLogItems.csv','**-20*-matchLogItems.csv','**-21*-matchLogItems.csv']\n",
    "\n",
    "baslangic_zamani = convert_to_milliseconds(baslangic_zamani)\n",
    "dosya_kayit_yolu = f'/home/muhlabws4/Belgeler/GitHub/taeakwondoProject/Log File/Multigames/birlestirilmis/{date}_2024/{court_num}th_court'"
   ]
  },
  {
   "cell_type": "code",
   "execution_count": 58,
   "id": "19e3e834",
   "metadata": {},
   "outputs": [
    {
     "name": "stdout",
     "output_type": "stream",
     "text": [
      "Dosya birleştiriliyor: /home/muhlabws4/Belgeler/GitHub/taeakwondoProject/Log File/Multigames/kort5/20240526/20240526154446-527-matchLogItems.csv\n",
      "Dosya birleştiriliyor: /home/muhlabws4/Belgeler/GitHub/taeakwondoProject/Log File/Multigames/kort5/20240526/20240526150557-525-matchLogItems.csv\n",
      "Dosya birleştiriliyor: /home/muhlabws4/Belgeler/GitHub/taeakwondoProject/Log File/Multigames/kort5/20240526/20240526142028-521-matchLogItems.csv\n",
      "Dosya birleştiriliyor: /home/muhlabws4/Belgeler/GitHub/taeakwondoProject/Log File/Multigames/kort5/20240526/20240526152408-526-matchLogItems.csv\n",
      "Dosya birleştiriliyor: /home/muhlabws4/Belgeler/GitHub/taeakwondoProject/Log File/Multigames/kort5/20240526/20240526145354-524-matchLogItems.csv\n",
      "Dosya birleştiriliyor: /home/muhlabws4/Belgeler/GitHub/taeakwondoProject/Log File/Multigames/kort5/20240526/20240526144356-523-matchLogItems.csv\n",
      "Dosya birleştiriliyor: /home/muhlabws4/Belgeler/GitHub/taeakwondoProject/Log File/Multigames/kort5/20240526/20240526140616-520-matchLogItems.csv\n",
      "Dosya birleştiriliyor: /home/muhlabws4/Belgeler/GitHub/taeakwondoProject/Log File/Multigames/kort5/20240526/20240526155538-528-matchLogItems.csv\n",
      "Dosya birleştiriliyor: /home/muhlabws4/Belgeler/GitHub/taeakwondoProject/Log File/Multigames/kort5/20240526/20240526143243-522-matchLogItems.csv\n",
      "Dosyalar /home/muhlabws4/Belgeler/GitHub/taeakwondoProject/Log File/Multigames/kort5/20240526/**-52*-matchLogItems.csv birlestirildi\n",
      "Dosya kaydedildi \"/home/muhlabws4/Belgeler/GitHub/taeakwondoProject/Log File/Multigames/birlestirilmis/05_26_2024/5th_court/05_26-520-526.csv\" konumunda.\n"
     ]
    }
   ],
   "source": [
    "birlesik_df = dosyalari_birlestir(dosya_konumu, dosya_adi_desenleri)\n",
    "# Fonksiyonu kullanarak DataFrame'i güncelle\n",
    "guncellenmis_df = sure_guncelle(birlesik_df, sayi=baslangic_zamani)\n",
    "\n",
    "# Güncellenmiş DataFrame'i istediğiniz bir dosyaya kaydedin\n",
    "if not os.path.exists(dosya_kayit_yolu):\n",
    "    os.makedirs(dosya_kayit_yolu)\n",
    "guncellenmis_df.to_csv(f'{dosya_kayit_yolu}/{date}-{start_csv}-{end_csv}.csv', index=False)\n",
    "\n",
    "print(f'Dosya kaydedildi \"{dosya_kayit_yolu}/{date}-{start_csv}-{end_csv}.csv\" konumunda.')"
   ]
  },
  {
   "cell_type": "code",
   "execution_count": null,
   "id": "edccfa62",
   "metadata": {},
   "outputs": [],
   "source": []
  }
 ],
 "metadata": {
  "kernelspec": {
   "display_name": "Python 3 (ipykernel)",
   "language": "python",
   "name": "python3"
  },
  "language_info": {
   "codemirror_mode": {
    "name": "ipython",
    "version": 3
   },
   "file_extension": ".py",
   "mimetype": "text/x-python",
   "name": "python",
   "nbconvert_exporter": "python",
   "pygments_lexer": "ipython3",
   "version": "3.9.17"
  }
 },
 "nbformat": 4,
 "nbformat_minor": 5
}
