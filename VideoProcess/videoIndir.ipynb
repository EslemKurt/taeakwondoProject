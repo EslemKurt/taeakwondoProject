{
 "cells": [
  {
   "cell_type": "code",
   "execution_count": 1,
   "id": "91ca4739",
   "metadata": {},
   "outputs": [],
   "source": [
    "import os\n",
    "import cv2\n",
    "import time\n",
    "from pytube import YouTube"
   ]
  },
  {
   "cell_type": "code",
   "execution_count": 2,
   "id": "e716a768",
   "metadata": {},
   "outputs": [],
   "source": [
    "# Videoyu indir ve kaydet\n",
    "def download_video(url, output_path):\n",
    "    yt = YouTube(url)\n",
    "    video = yt.streams.get_highest_resolution()\n",
    "    video.download(output_path)\n",
    "    return video.default_filename"
   ]
  },
  {
   "cell_type": "code",
   "execution_count": 3,
   "id": "6c16443c",
   "metadata": {},
   "outputs": [],
   "source": [
    "# YouTube video URL'si\n",
    "video_url = \"https://www.youtube.com/watch?v=KY36krh7Uek\"\n",
    "\n",
    "video = download_video(video_url, \"downloads\")"
   ]
  },
  {
   "cell_type": "code",
   "execution_count": 8,
   "id": "3a2c98f9",
   "metadata": {},
   "outputs": [
    {
     "name": "stdout",
     "output_type": "stream",
     "text": [
      "Toplam Frame Sayısı: 1007014\n",
      "FPS Değeri: 30.0\n"
     ]
    }
   ],
   "source": [
    "# Videoyu açın\n",
    "cap = cv2.VideoCapture(\"downloads/11th TURKISH OPEN KYORUGI - G- 1 14 FEBRUARY 2024 - 3 COURT.mp4\")\n",
    "\n",
    "# Toplam frame sayısını alın\n",
    "toplam_frame = int(cap.get(cv2.CAP_PROP_FRAME_COUNT))\n",
    "\n",
    "# FPS değerini alın\n",
    "fps = cap.get(cv2.CAP_PROP_FPS)\n",
    "\n",
    "# Bilgileri yazdırın\n",
    "print(f\"Toplam Frame Sayısı: {toplam_frame}\")\n",
    "print(f\"FPS Değeri: {fps}\")"
   ]
  },
  {
   "cell_type": "code",
   "execution_count": 1,
   "id": "7e4f5b4e",
   "metadata": {},
   "outputs": [
    {
     "ename": "NameError",
     "evalue": "name 'cv2' is not defined",
     "output_type": "error",
     "traceback": [
      "\u001b[0;31m---------------------------------------------------------------------------\u001b[0m",
      "\u001b[0;31mNameError\u001b[0m                                 Traceback (most recent call last)",
      "Cell \u001b[0;32mIn[1], line 1\u001b[0m\n\u001b[0;32m----> 1\u001b[0m cap \u001b[38;5;241m=\u001b[39m \u001b[43mcv2\u001b[49m\u001b[38;5;241m.\u001b[39mVideoCapture(\u001b[38;5;124m\"\u001b[39m\u001b[38;5;124mdownloads/11th TURKISH OPEN KYORUGI - G- 1 14 FEBRUARY 2024 - 3 COURT.mp4\u001b[39m\u001b[38;5;124m\"\u001b[39m)\n",
      "\u001b[0;31mNameError\u001b[0m: name 'cv2' is not defined"
     ]
    }
   ],
   "source": [
    "cap = cv2.VideoCapture(\"downloads/11th TURKISH OPEN KYORUGI - G- 1 14 FEBRUARY 2024 - 3 COURT.mp4\")\n",
    "fps = cap.get(cv2.CAP_PROP_FPS)\n",
    "toplam_frame = int(cap.get(cv2.CAP_PROP_FRAME_COUNT))\n",
    "\n",
    "print(f\"Toplam Frame Sayısı: {toplam_frame}\")\n",
    "print(f\"FPS Değeri: {fps}\")"
   ]
  },
  {
   "cell_type": "code",
   "execution_count": null,
   "id": "164c46d7",
   "metadata": {},
   "outputs": [],
   "source": []
  }
 ],
 "metadata": {
  "kernelspec": {
   "display_name": "Python 3 (ipykernel)",
   "language": "python",
   "name": "python3"
  },
  "language_info": {
   "codemirror_mode": {
    "name": "ipython",
    "version": 3
   },
   "file_extension": ".py",
   "mimetype": "text/x-python",
   "name": "python",
   "nbconvert_exporter": "python",
   "pygments_lexer": "ipython3",
   "version": "3.9.17"
  }
 },
 "nbformat": 4,
 "nbformat_minor": 5
}
