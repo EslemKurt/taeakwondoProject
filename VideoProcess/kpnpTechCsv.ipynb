{
 "cells": [
  {
   "cell_type": "code",
   "execution_count": 2,
   "id": "730d0e34-7b2d-43cf-813b-e1905357aa68",
   "metadata": {},
   "outputs": [],
   "source": [
    "import os\n",
    "import pandas as pd"
   ]
  },
  {
   "cell_type": "code",
   "execution_count": 11,
   "id": "df039613-a7e9-41a4-b425-d1ff0345665d",
   "metadata": {},
   "outputs": [
    {
     "name": "stdout",
     "output_type": "stream",
     "text": [
      "2024-05-09 090447(No201).csv dosyasında toplam eşleşen satır sayısı: 0\n",
      "2024-05-09 091222(No202).csv dosyasında toplam eşleşen satır sayısı: 2\n",
      "2024-05-09 092640(No203).csv dosyasında toplam eşleşen satır sayısı: 8\n",
      "2024-05-09 093431(No204).csv dosyasında toplam eşleşen satır sayısı: 2\n",
      "2024-05-09 094656(No205).csv dosyasında toplam eşleşen satır sayısı: 3\n",
      "2024-05-09 095422(No206).csv dosyasında toplam eşleşen satır sayısı: 2\n",
      "2024-05-09 100250(No207).csv dosyasında toplam eşleşen satır sayısı: 4\n",
      "2024-05-09 101739(No208).csv dosyasında toplam eşleşen satır sayısı: 1\n",
      "2024-05-09 102819(No209).csv dosyasında toplam eşleşen satır sayısı: 0\n",
      "2024-05-09 104114(No210).csv dosyasında toplam eşleşen satır sayısı: 4\n",
      "2024-05-09 104958(No211).csv dosyasında toplam eşleşen satır sayısı: 4\n",
      "2024-05-09 110920(No212).csv dosyasında toplam eşleşen satır sayısı: 3\n",
      "2024-05-09 112642(No213).csv dosyasında toplam eşleşen satır sayısı: 9\n",
      "2024-05-09 114236(No214).csv dosyasında toplam eşleşen satır sayısı: 3\n",
      "2024-05-09 115748(No215).csv dosyasında toplam eşleşen satır sayısı: 9\n",
      "2024-05-09 140432(No217).csv dosyasında toplam eşleşen satır sayısı: 0\n",
      "2024-05-09 142033(No216).csv dosyasında toplam eşleşen satır sayısı: 0\n",
      "2024-05-09 143104(No218).csv dosyasında toplam eşleşen satır sayısı: 6\n",
      "2024-05-09 144205(No219).csv dosyasında toplam eşleşen satır sayısı: 0\n",
      "2024-05-09 145725(No220).csv dosyasında toplam eşleşen satır sayısı: 16\n",
      "2024-05-09 151115(No221).csv dosyasında toplam eşleşen satır sayısı: 4\n",
      "2024-05-09 152103(No222).csv dosyasında toplam eşleşen satır sayısı: 5\n",
      "2024-05-09 152908(No223).csv dosyasında toplam eşleşen satır sayısı: 1\n",
      "2024-05-09 153718(No224).csv dosyasında toplam eşleşen satır sayısı: 15\n"
     ]
    }
   ],
   "source": [
    "\n",
    "# CSV dosyalarının bulunduğu klasör yolu\n",
    "folder_path = 'C:/Users/EXCALIBUR/Desktop/European/Macth Log/day1_kort2'\n",
    "\n",
    "# Belirtilen match log item türlerine uygun satırları sayacak fonksiyon\n",
    "def count_matching_rows(csv_path):\n",
    "    try:\n",
    "        df = pd.read_csv(csv_path)\n",
    "        possible_column_names = ['Action', 'Unnamed: 2', 'Unnamed: 3']  # Sütun isimleri burada listeleniyor\n",
    "\n",
    "        column_name = None\n",
    "        for col in possible_column_names:\n",
    "            if col in df.columns:\n",
    "                column_name = col\n",
    "                break\n",
    "        \n",
    "        if column_name is None:\n",
    "            print(f\"Hata: {csv_path} dosyasında uygun bir sütun adı bulunamadı.\")\n",
    "            return None\n",
    "\n",
    "        filtered_df = df[\n",
    "            (df[column_name] == 'Blue tech judge') |\n",
    "            (df[column_name] == 'Red tech judge') |\n",
    "            (df[column_name] == 'Add blue tech point') |\n",
    "            (df[column_name] == 'Add red tech point') \n",
    "        ]\n",
    "        return len(filtered_df)\n",
    "    except Exception as e:\n",
    "        print(f\"Hata: {csv_path} dosyası okunamadı. Hata: {e}\")\n",
    "        return None\n",
    "\n",
    "# Klasördeki tüm CSV dosyalarını tarama\n",
    "results = {}\n",
    "for file_name in os.listdir(folder_path):\n",
    "    if file_name.endswith('.csv'):\n",
    "        file_path = os.path.join(folder_path, file_name)\n",
    "        match_count = count_matching_rows(file_path)\n",
    "        if match_count is not None:\n",
    "            results[file_name] = match_count\n",
    "\n",
    "# Sonuçları yazdır\n",
    "for file_name, count in results.items():\n",
    "    print(f\"{file_name} dosyasında toplam eşleşen satır sayısı: {count}\")\n"
   ]
  },
  {
   "cell_type": "code",
   "execution_count": null,
   "id": "2aa82ebe-5011-4eb4-a099-024283139ce1",
   "metadata": {},
   "outputs": [],
   "source": []
  }
 ],
 "metadata": {
  "kernelspec": {
   "display_name": "Python 3 (ipykernel)",
   "language": "python",
   "name": "python3"
  },
  "language_info": {
   "codemirror_mode": {
    "name": "ipython",
    "version": 3
   },
   "file_extension": ".py",
   "mimetype": "text/x-python",
   "name": "python",
   "nbconvert_exporter": "python",
   "pygments_lexer": "ipython3",
   "version": "3.11.7"
  }
 },
 "nbformat": 4,
 "nbformat_minor": 5
}
