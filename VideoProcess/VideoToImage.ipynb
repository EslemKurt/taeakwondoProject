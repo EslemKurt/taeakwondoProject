{
 "cells": [
  {
   "cell_type": "code",
   "execution_count": 8,
   "id": "bc48f5dd",
   "metadata": {},
   "outputs": [
    {
     "name": "stdout",
     "output_type": "stream",
     "text": [
      "/bin/bash: /home/muhlabws4/miniconda3/envs/tf/lib/libtinfo.so.6: no version information available (required by /bin/bash)\n",
      "Collecting pytube\n",
      "  Downloading pytube-15.0.0-py3-none-any.whl (57 kB)\n",
      "\u001b[2K     \u001b[38;2;114;156;31m━━━━━━━━━━━━━━━━━━━━━━━━━━━━━━━━━━━━━━━\u001b[0m \u001b[32m57.6/57.6 kB\u001b[0m \u001b[31m428.0 kB/s\u001b[0m eta \u001b[36m0:00:00\u001b[0m1m709.3 kB/s\u001b[0m eta \u001b[36m0:00:01\u001b[0m\n",
      "\u001b[?25hRequirement already satisfied: opencv-python in /home/muhlabws4/miniconda3/envs/tf/lib/python3.9/site-packages (4.8.0.76)\n",
      "Requirement already satisfied: numpy>=1.17.0 in /home/muhlabws4/miniconda3/envs/tf/lib/python3.9/site-packages (from opencv-python) (1.24.3)\n",
      "Installing collected packages: pytube\n",
      "Successfully installed pytube-15.0.0\n"
     ]
    }
   ],
   "source": [
    "!pip install pytube opencv-python"
   ]
  },
  {
   "cell_type": "code",
   "execution_count": 1,
   "id": "24271fea",
   "metadata": {},
   "outputs": [],
   "source": [
    "import os\n",
    "import cv2\n",
    "import time\n",
    "from pytube import YouTube"
   ]
  },
  {
   "cell_type": "code",
   "execution_count": 10,
   "id": "e76c65bf",
   "metadata": {},
   "outputs": [],
   "source": [
    "# Videoyu indir ve kaydet\n",
    "def download_video(url, output_path):\n",
    "    yt = YouTube(url)\n",
    "    video = yt.streams.get_highest_resolution()\n",
    "    video.download(output_path)\n",
    "    return video.default_filename\n"
   ]
  },
  {
   "cell_type": "code",
   "execution_count": 16,
   "id": "87e572c0",
   "metadata": {},
   "outputs": [],
   "source": [
    "# Videoyu resimlere ayır ve belirli bir aralıkta kaydet\n",
    "def extract_frames(video_path, output_folder, interval):\n",
    "    cap = cv2.VideoCapture(video_path)\n",
    "    frame_count = 0\n",
    "\n",
    "    if not os.path.exists(output_folder):\n",
    "        os.makedirs(output_folder)\n",
    "\n",
    "    while cap.isOpened():\n",
    "        ret, frame = cap.read()\n",
    "        if not ret:\n",
    "            break\n",
    "        \n",
    "        if frame_count % interval == 0:\n",
    "            frame_filename = os.path.join(output_folder, f\"frame_TokyoMen68kg_{frame_count}.jpg\")\n",
    "            cv2.imwrite(frame_filename, frame)\n",
    "        \n",
    "        frame_count += 1\n",
    "\n",
    "    cap.release()\n",
    "    cv2.destroyAllWindows()"
   ]
  },
  {
   "cell_type": "code",
   "execution_count": 12,
   "id": "dce7b3a8",
   "metadata": {},
   "outputs": [],
   "source": [
    "# Ana program\n",
    "#video_filename = download_video(video_url, \"downloads\")\n",
    "#extract_frames(os.path.join(\"downloads\", video_filename), \"frames\", interval=120)"
   ]
  },
  {
   "cell_type": "code",
   "execution_count": 17,
   "id": "a76526bf",
   "metadata": {},
   "outputs": [],
   "source": [
    "# YouTube video URL'si\n",
    "video_url = \"https://www.youtube.com/watch?v=aYQHiDdfFQE\"\n",
    "\n",
    "video = download_video(video_url, \"downloads\")"
   ]
  },
  {
   "cell_type": "code",
   "execution_count": 19,
   "id": "c3d262f3",
   "metadata": {},
   "outputs": [],
   "source": [
    "extract_frames(os.path.join(\"downloads\", \"TokyoSemiFinal.mp4\"), \"frame/TokyoSemiFinal\", interval=120)"
   ]
  },
  {
   "cell_type": "code",
   "execution_count": null,
   "id": "90adf377",
   "metadata": {},
   "outputs": [],
   "source": []
  }
 ],
 "metadata": {
  "kernelspec": {
   "display_name": "Python 3 (ipykernel)",
   "language": "python",
   "name": "python3"
  },
  "language_info": {
   "codemirror_mode": {
    "name": "ipython",
    "version": 3
   },
   "file_extension": ".py",
   "mimetype": "text/x-python",
   "name": "python",
   "nbconvert_exporter": "python",
   "pygments_lexer": "ipython3",
   "version": "3.9.17"
  }
 },
 "nbformat": 4,
 "nbformat_minor": 5
}
