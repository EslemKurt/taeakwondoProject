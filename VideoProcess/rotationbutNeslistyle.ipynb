{
 "cells": [
  {
   "cell_type": "code",
   "execution_count": 27,
   "id": "d859f54c-0303-46b9-b937-8414aad6b8fd",
   "metadata": {},
   "outputs": [],
   "source": [
    "import os\n",
    "import pandas as pd\n",
    "import imageio"
   ]
  },
  {
   "cell_type": "code",
   "execution_count": 32,
   "id": "edc7144f-390a-441f-ad25-8a4da3a27510",
   "metadata": {},
   "outputs": [],
   "source": [
    "def rotation_judge(video_path, csv_path, output_folder, f_frame_count=64, l_frame_count=0):\n",
    "    # CSV dosyasını oku\n",
    "    df = pd.read_csv(csv_path)\n",
    "\n",
    "    # Başlangıç sistem zamanını al\n",
    "    start_system_time = df[df['matchLogItemType'] == 'START_ROUND']['systemTime'].values[0]\n",
    "\n",
    "    # Videoyu oku\n",
    "    video = imageio.get_reader(video_path)\n",
    "    fps = video.get_meta_data()['fps']\n",
    "    frame_count = video.get_length()\n",
    "    \n",
    "    # c degisgeni kaydedilen pozision sayisini tutar\n",
    "    c = 0\n",
    "    \n",
    "    # İlgili frame aralığını bul ve yeni video oluştur\n",
    "    for index, row in df[(df['matchLogItemType'] == 'RED_JUDGE_BODY_TECH') | (df['matchLogItemType'] == 'BLUE_JUDGE_BODY_TECH') | (df['matchLogItemType'] == 'RED_JUDGE_BODY_TECH') | (df['matchLogItemType'] == 'RED_JUDGE_HEAD_TECH')].iterrows():\n",
    "        system_time = row['systemTime']\n",
    "\n",
    "        # Sistem zamanını milisaniye cinsinden alıp, videonun zaman birimine çeviriyoruz\n",
    "        video_time_seconds = (system_time - start_system_time) / 1000.0\n",
    "\n",
    "        # Videonun zaman birimindeki zamanı frame sayısına çeviriyoruz\n",
    "        frame_number = int(video_time_seconds * fps)\n",
    "        frame_number = max(0, min(frame_count - 1, frame_number))  # Frame sayısını kontrol etme\n",
    "\n",
    "        # Belirtilen sayıda önceki frame'leri al\n",
    "        \n",
    "        start_frame = max(0, frame_number - f_frame_count)\n",
    "        end_frame = min(frame_count - 1, frame_number + l_frame_count)\n",
    "        c = c+1\n",
    "        # Videoyu oku ve yeni videoya yaz\n",
    "        output_video = []\n",
    "        try:\n",
    "            for i in range(start_frame, end_frame + 1):\n",
    "                frame = video.get_data(i)\n",
    "                output_video.append(frame)\n",
    "        except IndexError as e:\n",
    "            print(f\"Hata: {e}. Video uzunluğunu aşan bir indeksle karşılaşıldı. Video işleme devam ediliyor.\")\n",
    "            c = c-1\n",
    "\n",
    "        # Klasör kontrolü ve oluşturma\n",
    "        os.makedirs(output_folder, exist_ok=True)\n",
    "\n",
    "        # Oluşturulan videoyu belirtilen klasöre kaydet\n",
    "        output_path = os.path.join(output_folder, f'rotation_judge_{cam_num}_cam_{index}.mkv')\n",
    "        output_writer = imageio.get_writer(output_path, fps=fps)\n",
    "        for frame in output_video:\n",
    "            output_writer.append_data(frame)\n",
    "        output_writer.close()\n",
    "    print(f'Yan hakemlerin isaretledikleri rotasyonlu vuruslar {output_folder} dosyasina kaydedildi. Toplam {c} pozisyon.')"
   ]
  },
  {
   "cell_type": "code",
   "execution_count": 33,
   "id": "f46acadd-ff78-4f18-aaab-071ab9f1dfe7",
   "metadata": {},
   "outputs": [],
   "source": [
    "\n",
    "def rotation_scoreboad(video_path, csv_path, output_folder, f_sec=5):\n",
    "    # CSV dosyasını oku\n",
    "    df = pd.read_csv(csv_path)\n",
    "\n",
    "    # Başlangıç sistem zamanını al\n",
    "    start_system_time = df[df['matchLogItemType'] == 'START_ROUND']['systemTime'].values[0]\n",
    "\n",
    "    # Videoyu oku\n",
    "    video = imageio.get_reader(video_path)\n",
    "    fps = video.get_meta_data()['fps']\n",
    "    frame_count = video.get_length()\n",
    "    \n",
    "    # c degisgeni kaydedilen pozision sayisini tutar\n",
    "    c = 0\n",
    "    \n",
    "    # İlgili frame aralığını bul ve yeni video oluştur\n",
    "    for index, row in df.iterrows():\n",
    "        match_log_type = row['matchLogItemType']\n",
    "        entry_value = row['entryValue']\n",
    "\n",
    "        if (match_log_type in ['RED_BODY_TECH_POINT', 'RED_HEAD_TECH_POINT', 'BLUE_BODY_TECH_POINT', 'BLUE_HEAD_TECH_POINT']) and entry_value == 'SCOREBOARD_EDITOR':\n",
    "            system_time = row['systemTime']\n",
    "\n",
    "            # TIMEOUT satırını bulma\n",
    "            timeout_row = None\n",
    "            for i in range(index - 1, -1, -1):\n",
    "                if df.at[i, 'matchLogItemType'] == 'TIMEOUT':\n",
    "                    timeout_row = df.iloc[i]\n",
    "                    break\n",
    "\n",
    "            if timeout_row is not None:\n",
    "                timeout_system_time = timeout_row['systemTime']\n",
    "\n",
    "                # Sistem zamanını milisaniye cinsinden alıp, videonun zaman birimine çeviriyoruz\n",
    "                video_time_seconds = (timeout_system_time - start_system_time) / 1000.0\n",
    "\n",
    "                # Videonun zaman birimindeki zamanı frame sayısına çeviriyoruz\n",
    "                frame_number = int(video_time_seconds * fps)\n",
    "                frame_number = max(0, min(frame_count - 1, frame_number))  # Frame sayısını kontrol etme\n",
    "\n",
    "                # Belirtilen sayıda önceki frame'leri al\n",
    "                start_frame = max(0, frame_number - int(f_sec * fps))\n",
    "                end_frame = min(frame_count - 1, frame_number)\n",
    "                c = c+1\n",
    "                # Videoyu oku ve yeni videoya yaz\n",
    "                output_video = []\n",
    "                try:\n",
    "                    for i in range(start_frame, end_frame + 1):\n",
    "                        frame = video.get_data(i)\n",
    "                        output_video.append(frame)\n",
    "                except IndexError as e:\n",
    "                    print(f\"Hata: {e}. Video uzunluğunu aşan bir indeksle karşılaşıldı. Video işleme devam ediliyor.\")\n",
    "                    c = c-1\n",
    "\n",
    "                # Klasör kontrolü ve oluşturma\n",
    "                os.makedirs(output_folder, exist_ok=True)\n",
    "\n",
    "                # Oluşturulan videoyu belirtilen klasöre kaydet\n",
    "                output_path = os.path.join(output_folder, f'rotation_scoreboad_{cam_num}_cam_{index}.mkv')\n",
    "                output_writer = imageio.get_writer(output_path, fps=fps)\n",
    "                for frame in output_video:\n",
    "                    output_writer.append_data(frame)\n",
    "                output_writer.close()\n",
    "    print(f'Scoreboardan verilen rotasyonlu vuruslar {output_folder} dosyasina kaydedildi. Toplam {c} pozisyon.')"
   ]
  },
  {
   "cell_type": "code",
   "execution_count": 34,
   "id": "61605ad1-6446-47b5-82f0-ee89fac4974d",
   "metadata": {},
   "outputs": [],
   "source": [
    "date='05_25'\n",
    "court_num = 1\n",
    "\n",
    "#video_konum = f'/home/muhlabws4/videolar konya/cumakort3/Dışa Aktar 12-29-2023 6-48-32 PM/Medya yürütücüsü formatı/CAM-{cam_num}'\n",
    "video_konum  ='D:/multigames/video'\n",
    "#video_name = '12_29_2023 5_49_59 PM (UTC+03_00).mkv'\n",
    "video_name = 'MULTI EUROPEAN GAMES TAEKWONDO 2024 - ANKARA - 25052024 - 2st DAY - 1 COURT.mp4'\n",
    "video_path =f'{video_konum}/{video_name}'\n",
    "\n",
    "#csv_konum = f'/home/muhlabws4/Turkish_Open_2024_Antalya/{date}_2024/{court_num}th_court/matchlog'\n",
    "csv_konum = 'D:/multigames/csv/Multigames_2024_Ankara/05_25_2024/1th_court/matchlog'\n",
    "csv_name = '05_25-101-119.csv'\n",
    "csv_path = f'{csv_konum}/{csv_name}'\n",
    "\n",
    "output_path = f'D:/multigames/Ham Video/Multigames_2024_Ankara/{date}_2024/{court_num}th_court/rotation'"
   ]
  },
  {
   "cell_type": "code",
   "execution_count": 35,
   "id": "52ac82a2-1410-4780-b754-e4ab89571bda",
   "metadata": {},
   "outputs": [
    {
     "name": "stderr",
     "output_type": "stream",
     "text": [
      "C:\\Users\\eslemkurt\\.conda\\envs\\en\\Lib\\site-packages\\imageio\\plugins\\spe.py:507: UserWarning: The file header of D:\\multigames\\video\\MULTI EUROPEAN GAMES TAEKWONDO 2024 - ANKARA - 25052024 - 2st DAY - 1 COURT.mp4 claims there are 16833816 frames, but there are actually 1 frames.\n",
      "  warnings.warn(\n"
     ]
    },
    {
     "ename": "KeyError",
     "evalue": "'fps'",
     "output_type": "error",
     "traceback": [
      "\u001b[1;31m---------------------------------------------------------------------------\u001b[0m",
      "\u001b[1;31mKeyError\u001b[0m                                  Traceback (most recent call last)",
      "Cell \u001b[1;32mIn[35], line 1\u001b[0m\n\u001b[1;32m----> 1\u001b[0m rotation_judge(video_path, csv_path, \u001b[38;5;124mf\u001b[39m\u001b[38;5;124m'\u001b[39m\u001b[38;5;132;01m{\u001b[39;00moutput_path\u001b[38;5;132;01m}\u001b[39;00m\u001b[38;5;124m_rotation_judge\u001b[39m\u001b[38;5;124m'\u001b[39m, f_frame_count\u001b[38;5;241m=\u001b[39m\u001b[38;5;241m30\u001b[39m)\n",
      "Cell \u001b[1;32mIn[32], line 10\u001b[0m, in \u001b[0;36mrotation_judge\u001b[1;34m(video_path, csv_path, output_folder, f_frame_count, l_frame_count)\u001b[0m\n\u001b[0;32m      8\u001b[0m \u001b[38;5;66;03m# Videoyu oku\u001b[39;00m\n\u001b[0;32m      9\u001b[0m video \u001b[38;5;241m=\u001b[39m imageio\u001b[38;5;241m.\u001b[39mget_reader(video_path)\n\u001b[1;32m---> 10\u001b[0m fps \u001b[38;5;241m=\u001b[39m video\u001b[38;5;241m.\u001b[39mget_meta_data()[\u001b[38;5;124m'\u001b[39m\u001b[38;5;124mfps\u001b[39m\u001b[38;5;124m'\u001b[39m]\n\u001b[0;32m     11\u001b[0m frame_count \u001b[38;5;241m=\u001b[39m video\u001b[38;5;241m.\u001b[39mget_length()\n\u001b[0;32m     13\u001b[0m \u001b[38;5;66;03m# c degisgeni kaydedilen pozision sayisini tutar\u001b[39;00m\n",
      "\u001b[1;31mKeyError\u001b[0m: 'fps'"
     ]
    }
   ],
   "source": [
    "rotation_judge(video_path, csv_path, f'{output_path}_rotation_judge', f_frame_count=30)"
   ]
  },
  {
   "cell_type": "code",
   "execution_count": 12,
   "id": "f0a2841d-246b-4da8-967b-c8d17f0398e5",
   "metadata": {},
   "outputs": [
    {
     "name": "stderr",
     "output_type": "stream",
     "text": [
      "C:\\Users\\eslemkurt\\.conda\\envs\\en\\Lib\\site-packages\\imageio\\plugins\\spe.py:507: UserWarning: The file header of D:\\multigames\\video\\MULTI EUROPEAN GAMES TAEKWONDO 2024 - ANKARA - 25052024 - 2st DAY - 1 COURT.mp4 claims there are 16833816 frames, but there are actually 1 frames.\n",
      "  warnings.warn(\n"
     ]
    },
    {
     "ename": "KeyError",
     "evalue": "'fps'",
     "output_type": "error",
     "traceback": [
      "\u001b[1;31m---------------------------------------------------------------------------\u001b[0m",
      "\u001b[1;31mKeyError\u001b[0m                                  Traceback (most recent call last)",
      "Cell \u001b[1;32mIn[12], line 1\u001b[0m\n\u001b[1;32m----> 1\u001b[0m rotation_scoreboad(video_path, csv_path, \u001b[38;5;124mf\u001b[39m\u001b[38;5;124m'\u001b[39m\u001b[38;5;132;01m{\u001b[39;00moutput_path\u001b[38;5;132;01m}\u001b[39;00m\u001b[38;5;124m_rotation_scoreboard\u001b[39m\u001b[38;5;124m'\u001b[39m, f_sec\u001b[38;5;241m=\u001b[39m\u001b[38;5;241m7\u001b[39m)\n",
      "Cell \u001b[1;32mIn[5], line 10\u001b[0m, in \u001b[0;36mrotation_scoreboad\u001b[1;34m(video_path, csv_path, output_folder, f_sec)\u001b[0m\n\u001b[0;32m      8\u001b[0m \u001b[38;5;66;03m# Videoyu oku\u001b[39;00m\n\u001b[0;32m      9\u001b[0m video \u001b[38;5;241m=\u001b[39m imageio\u001b[38;5;241m.\u001b[39mget_reader(video_path)\n\u001b[1;32m---> 10\u001b[0m fps \u001b[38;5;241m=\u001b[39m video\u001b[38;5;241m.\u001b[39mget_meta_data()[\u001b[38;5;124m'\u001b[39m\u001b[38;5;124mfps\u001b[39m\u001b[38;5;124m'\u001b[39m]\n\u001b[0;32m     11\u001b[0m frame_count \u001b[38;5;241m=\u001b[39m video\u001b[38;5;241m.\u001b[39mget_length()\n\u001b[0;32m     13\u001b[0m \u001b[38;5;66;03m# c degisgeni kaydedilen pozision sayisini tutar\u001b[39;00m\n",
      "\u001b[1;31mKeyError\u001b[0m: 'fps'"
     ]
    }
   ],
   "source": [
    "rotation_scoreboad(video_path, csv_path, f'{output_path}_rotation_scoreboard', f_sec=7)"
   ]
  },
  {
   "cell_type": "code",
   "execution_count": null,
   "id": "5fd4769d-504e-47c5-820c-58e59e4bbffb",
   "metadata": {},
   "outputs": [],
   "source": [
    "import cv2\n",
    "\n",
    "video_path = \"/path/to/your/video.mp4\"\n",
    "\n",
    "# Videoyu aç\n",
    "cap = cv2.VideoCapture(video_path)\n",
    "\n",
    "# FPS değerini al\n",
    "fps = cap.get(cv2.CAP_PROP_FPS)\n",
    "\n",
    "# Toplam kare sayısını al\n",
    "frame_count = int(cap.get(cv2.CAP_PROP_FRAME_COUNT))\n",
    "\n",
    "# Videoyu kapat\n",
    "cap.release()\n",
    "\n",
    "print(f\"FPS Değeri: {fps}\")\n",
    "print(f\"Toplam Frame Sayısı: {frame_count}\")\n"
   ]
  }
 ],
 "metadata": {
  "kernelspec": {
   "display_name": "Python 3 (ipykernel)",
   "language": "python",
   "name": "python3"
  },
  "language_info": {
   "codemirror_mode": {
    "name": "ipython",
    "version": 3
   },
   "file_extension": ".py",
   "mimetype": "text/x-python",
   "name": "python",
   "nbconvert_exporter": "python",
   "pygments_lexer": "ipython3",
   "version": "3.12.4"
  }
 },
 "nbformat": 4,
 "nbformat_minor": 5
}
