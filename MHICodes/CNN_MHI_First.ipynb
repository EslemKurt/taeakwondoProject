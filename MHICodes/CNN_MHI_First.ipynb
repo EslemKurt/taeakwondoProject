{
 "cells": [
  {
   "cell_type": "markdown",
   "id": "032da070",
   "metadata": {},
   "source": [
    "### Sınıflar ve değerleri\n",
    "head_sensor = 74\n",
    "other = 109\n",
    "punch = 224\n",
    "\n",
    "### accuracy: 0.6707\n",
    "\n",
    "### epochs = 6   n_splits = 4\n",
    "\n",
    "### doğruluk matrisi\n",
    "[[ 9  3  7]\n",
    "\n",
    " [ 0  8 12]\n",
    " \n",
    " [ 0  5 38]]"
   ]
  },
  {
   "cell_type": "code",
   "execution_count": 1,
   "id": "39061306",
   "metadata": {},
   "outputs": [
    {
     "name": "stderr",
     "output_type": "stream",
     "text": [
      "2024-04-30 15:16:21.969451: I tensorflow/core/util/port.cc:110] oneDNN custom operations are on. You may see slightly different numerical results due to floating-point round-off errors from different computation orders. To turn them off, set the environment variable `TF_ENABLE_ONEDNN_OPTS=0`.\n",
      "2024-04-30 15:16:21.970660: I tensorflow/tsl/cuda/cudart_stub.cc:28] Could not find cuda drivers on your machine, GPU will not be used.\n",
      "2024-04-30 15:16:21.996144: I tensorflow/tsl/cuda/cudart_stub.cc:28] Could not find cuda drivers on your machine, GPU will not be used.\n",
      "2024-04-30 15:16:21.996892: I tensorflow/core/platform/cpu_feature_guard.cc:182] This TensorFlow binary is optimized to use available CPU instructions in performance-critical operations.\n",
      "To enable the following instructions: AVX2 AVX_VNNI FMA, in other operations, rebuild TensorFlow with the appropriate compiler flags.\n"
     ]
    }
   ],
   "source": [
    "import tensorflow as tf\n",
    "\n",
    "import numpy as np\n",
    "import os\n",
    "from tensorflow import keras\n",
    "#import keras\n",
    "from sklearn.metrics import classification_report, confusion_matrix, ConfusionMatrixDisplay\n",
    "from sklearn.model_selection import train_test_split, KFold\n",
    "\n",
    "from tensorflow.keras.preprocessing.image import load_img, img_to_array\n",
    "from sklearn.preprocessing import LabelEncoder\n",
    "from tensorflow.keras import datasets, layers, models\n",
    "import matplotlib.pyplot as plt\n"
   ]
  },
  {
   "cell_type": "code",
   "execution_count": 2,
   "id": "b5019ce7",
   "metadata": {},
   "outputs": [],
   "source": [
    "data_path = \"/home/muhlabws4/Masaüstü/tkd_data/orj\""
   ]
  },
  {
   "cell_type": "code",
   "execution_count": 3,
   "id": "ab6786a0",
   "metadata": {},
   "outputs": [],
   "source": [
    "class_folders = os.listdir(data_path)"
   ]
  },
  {
   "cell_type": "code",
   "execution_count": 4,
   "id": "e01a3345",
   "metadata": {},
   "outputs": [],
   "source": [
    "images = []\n",
    "labels = []"
   ]
  },
  {
   "cell_type": "code",
   "execution_count": 5,
   "id": "3820018e",
   "metadata": {},
   "outputs": [],
   "source": [
    "for i , class_name in enumerate(class_folders):\n",
    "    class_folder_path = os.path.join(data_path, class_name)\n",
    "    class_images = os.listdir(class_folder_path)\n",
    "    \n",
    "    for img_name in class_images:\n",
    "        img_path = os.path.join(class_folder_path, img_name)\n",
    "        img = load_img(img_path, target_size=(128,128))\n",
    "        img_array = img_to_array(img) /255.0\n",
    "        images.append(img_array)\n",
    "        labels.append(class_name)"
   ]
  },
  {
   "cell_type": "code",
   "execution_count": 6,
   "id": "55cc6906",
   "metadata": {},
   "outputs": [],
   "source": [
    "X = np.array(images)\n",
    "y = np.array(labels)"
   ]
  },
  {
   "cell_type": "code",
   "execution_count": 7,
   "id": "9e8ca4d0",
   "metadata": {},
   "outputs": [
    {
     "data": {
      "text/plain": [
       "array(['head_sensor', 'head_sensor', 'head_sensor', 'head_sensor',\n",
       "       'head_sensor', 'head_sensor', 'head_sensor', 'head_sensor',\n",
       "       'head_sensor', 'head_sensor', 'head_sensor', 'head_sensor',\n",
       "       'head_sensor', 'head_sensor', 'head_sensor', 'head_sensor',\n",
       "       'head_sensor', 'head_sensor', 'head_sensor', 'head_sensor',\n",
       "       'head_sensor', 'head_sensor', 'head_sensor', 'head_sensor',\n",
       "       'head_sensor', 'head_sensor', 'head_sensor', 'head_sensor',\n",
       "       'head_sensor', 'head_sensor', 'head_sensor', 'head_sensor',\n",
       "       'head_sensor', 'head_sensor', 'head_sensor', 'head_sensor',\n",
       "       'head_sensor', 'head_sensor', 'head_sensor', 'head_sensor',\n",
       "       'head_sensor', 'head_sensor', 'head_sensor', 'head_sensor',\n",
       "       'head_sensor', 'head_sensor', 'head_sensor', 'head_sensor',\n",
       "       'head_sensor', 'head_sensor', 'head_sensor', 'head_sensor',\n",
       "       'head_sensor', 'head_sensor', 'head_sensor', 'head_sensor',\n",
       "       'head_sensor', 'head_sensor', 'head_sensor', 'head_sensor',\n",
       "       'head_sensor', 'head_sensor', 'head_sensor', 'head_sensor',\n",
       "       'head_sensor', 'head_sensor', 'head_sensor', 'head_sensor',\n",
       "       'head_sensor', 'head_sensor', 'head_sensor', 'head_sensor',\n",
       "       'head_sensor', 'head_sensor', 'punch', 'punch', 'punch', 'punch',\n",
       "       'punch', 'punch', 'punch', 'punch', 'punch', 'punch', 'punch',\n",
       "       'punch', 'punch', 'punch', 'punch', 'punch', 'punch', 'punch',\n",
       "       'punch', 'punch', 'punch', 'punch', 'punch', 'punch', 'punch',\n",
       "       'punch', 'punch', 'punch', 'punch', 'punch', 'punch', 'punch',\n",
       "       'punch', 'punch', 'punch', 'punch', 'punch', 'punch', 'punch',\n",
       "       'punch', 'punch', 'punch', 'punch', 'punch', 'punch', 'punch',\n",
       "       'punch', 'punch', 'punch', 'punch', 'punch', 'punch', 'punch',\n",
       "       'punch', 'punch', 'punch', 'punch', 'punch', 'punch', 'punch',\n",
       "       'punch', 'punch', 'punch', 'punch', 'punch', 'punch', 'punch',\n",
       "       'punch', 'punch', 'punch', 'punch', 'punch', 'punch', 'punch',\n",
       "       'punch', 'punch', 'punch', 'punch', 'punch', 'punch', 'punch',\n",
       "       'punch', 'punch', 'punch', 'punch', 'punch', 'punch', 'punch',\n",
       "       'punch', 'punch', 'punch', 'punch', 'punch', 'punch', 'punch',\n",
       "       'punch', 'punch', 'punch', 'punch', 'punch', 'punch', 'punch',\n",
       "       'punch', 'punch', 'punch', 'punch', 'punch', 'punch', 'punch',\n",
       "       'punch', 'punch', 'punch', 'punch', 'punch', 'punch', 'punch',\n",
       "       'punch', 'punch', 'punch', 'punch', 'punch', 'punch', 'punch',\n",
       "       'punch', 'punch', 'punch', 'punch', 'punch', 'punch', 'punch',\n",
       "       'punch', 'punch', 'punch', 'punch', 'punch', 'punch', 'punch',\n",
       "       'punch', 'punch', 'punch', 'punch', 'punch', 'punch', 'punch',\n",
       "       'punch', 'punch', 'punch', 'punch', 'punch', 'punch', 'punch',\n",
       "       'punch', 'punch', 'punch', 'punch', 'punch', 'punch', 'punch',\n",
       "       'punch', 'punch', 'punch', 'punch', 'punch', 'punch', 'punch',\n",
       "       'punch', 'punch', 'punch', 'punch', 'punch', 'punch', 'punch',\n",
       "       'punch', 'punch', 'punch', 'punch', 'punch', 'punch', 'punch',\n",
       "       'punch', 'punch', 'punch', 'punch', 'punch', 'punch', 'punch',\n",
       "       'punch', 'punch', 'punch', 'punch', 'punch', 'punch', 'punch',\n",
       "       'punch', 'punch', 'punch', 'punch', 'punch', 'punch', 'punch',\n",
       "       'punch', 'punch', 'punch', 'punch', 'punch', 'punch', 'punch',\n",
       "       'punch', 'punch', 'punch', 'punch', 'punch', 'punch', 'punch',\n",
       "       'punch', 'punch', 'punch', 'punch', 'punch', 'punch', 'punch',\n",
       "       'punch', 'punch', 'punch', 'other', 'other', 'other', 'other',\n",
       "       'other', 'other', 'other', 'other', 'other', 'other', 'other',\n",
       "       'other', 'other', 'other', 'other', 'other', 'other', 'other',\n",
       "       'other', 'other', 'other', 'other', 'other', 'other', 'other',\n",
       "       'other', 'other', 'other', 'other', 'other', 'other', 'other',\n",
       "       'other', 'other', 'other', 'other', 'other', 'other', 'other',\n",
       "       'other', 'other', 'other', 'other', 'other', 'other', 'other',\n",
       "       'other', 'other', 'other', 'other', 'other', 'other', 'other',\n",
       "       'other', 'other', 'other', 'other', 'other', 'other', 'other',\n",
       "       'other', 'other', 'other', 'other', 'other', 'other', 'other',\n",
       "       'other', 'other', 'other', 'other', 'other', 'other', 'other',\n",
       "       'other', 'other', 'other', 'other', 'other', 'other', 'other',\n",
       "       'other', 'other', 'other', 'other', 'other', 'other', 'other',\n",
       "       'other', 'other', 'other', 'other', 'other', 'other', 'other',\n",
       "       'other', 'other', 'other', 'other', 'other', 'other', 'other',\n",
       "       'other', 'other', 'other', 'other', 'other', 'other', 'other'],\n",
       "      dtype='<U11')"
      ]
     },
     "execution_count": 7,
     "metadata": {},
     "output_type": "execute_result"
    }
   ],
   "source": [
    "y"
   ]
  },
  {
   "cell_type": "code",
   "execution_count": 8,
   "id": "d5c77470",
   "metadata": {},
   "outputs": [],
   "source": [
    "label_encoder = LabelEncoder()\n",
    "y_encoder = label_encoder.fit_transform(y)"
   ]
  },
  {
   "cell_type": "code",
   "execution_count": 9,
   "id": "3a84d8bc",
   "metadata": {},
   "outputs": [],
   "source": [
    "X_shuf, y_shuf = X, y_encoder"
   ]
  },
  {
   "cell_type": "code",
   "execution_count": 10,
   "id": "61008221",
   "metadata": {},
   "outputs": [],
   "source": [
    "train_images, test_images, train_labels, test_labels = train_test_split(X_shuf, y_shuf, test_size=0.2, random_state=42)"
   ]
  },
  {
   "cell_type": "code",
   "execution_count": 11,
   "id": "b2c24331",
   "metadata": {},
   "outputs": [
    {
     "name": "stdout",
     "output_type": "stream",
     "text": [
      "(407, 128, 128, 3)\n",
      "(407,)\n",
      "(407,)\n"
     ]
    }
   ],
   "source": [
    "print(X.shape)\n",
    "print(y.shape)\n",
    "print(y_encoder.shape)"
   ]
  },
  {
   "cell_type": "code",
   "execution_count": 12,
   "id": "49b52be2",
   "metadata": {},
   "outputs": [],
   "source": [
    "#class_names = ['head_sb','head_sesor', 'other','punch','rotation']\n",
    "class_names = ['head', 'other','punch']"
   ]
  },
  {
   "cell_type": "code",
   "execution_count": 13,
   "id": "8911387c",
   "metadata": {},
   "outputs": [],
   "source": [
    "from tensorflow.keras.preprocessing import image\n",
    "import numpy as np\n",
    "import sys\n",
    "import os\n",
    "\n",
    "from tensorflow.keras.applications.vgg16 import VGG16\n",
    "from tensorflow.keras.applications.resnet50 import ResNet50\n",
    "from tensorflow.keras.applications.xception import Xception\n",
    "from tensorflow.keras.applications.inception_v3 import InceptionV3\n",
    "from tensorflow.keras.applications.mobilenet import MobileNet\n",
    "\n",
    "from tensorflow.keras.models import Sequential \n",
    "from tensorflow.keras.layers import Conv2D, MaxPooling2D, LSTM, GRU\n",
    "from tensorflow.keras.layers import Activation, Dropout, Flatten, Dense\n",
    "from tensorflow.keras.layers import TimeDistributed,Bidirectional,GlobalAveragePooling2D\n",
    "from tensorflow.keras.layers import LSTM,GRU,SimpleRNN,BatchNormalization\n",
    "from tensorflow.keras import backend as K \n",
    "from tensorflow.keras.callbacks import ModelCheckpoint\n",
    "from tensorflow.keras.utils import to_categorical\n",
    "from sklearn.metrics import confusion_matrix\n",
    "from sklearn.preprocessing import LabelEncoder\n",
    "from sklearn.model_selection import train_test_split as sp\n",
    "from sklearn.model_selection import StratifiedKFold\n",
    "from sklearn.metrics import roc_auc_score, accuracy_score"
   ]
  },
  {
   "cell_type": "code",
   "execution_count": 14,
   "id": "bd21f7b1",
   "metadata": {},
   "outputs": [],
   "source": [
    "img_height=720\n",
    "img_width=1280\n",
    "output=3"
   ]
  },
  {
   "cell_type": "code",
   "execution_count": 15,
   "id": "ac7c2ec2",
   "metadata": {},
   "outputs": [],
   "source": [
    "def create_cnn_model():\n",
    "    model = Sequential() \n",
    "   \n",
    "    model.add(Conv2D(12, (3, 3), input_shape = (128,128,3) )) \n",
    "    model.add(Activation('relu'))\n",
    "    #model.add(Dropout(0.2))  \n",
    "    model.add(MaxPooling2D(pool_size =(2, 2))) \n",
    "   \n",
    "    #model.add(TimeDistributed(Flatten()))\n",
    "    model.add(Flatten())\n",
    "    model.add(Dense(units=100))\n",
    "\n",
    "    model.add(Dropout(0.2)) \n",
    "    model.add(Dense(3)) \n",
    "    model.add(Activation('softmax')) \n",
    "\n",
    "    model.compile(loss ='sparse_categorical_crossentropy', \n",
    "                     optimizer ='adam', \n",
    "                   metrics =['accuracy']) \n",
    "    return model"
   ]
  },
  {
   "cell_type": "code",
   "execution_count": 16,
   "id": "b3209217",
   "metadata": {},
   "outputs": [],
   "source": [
    "def pretrained_Xception():\n",
    "    base_model = Xception(weights=\"imagenet\", include_top=False, input_shape = (128,128,3))\n",
    "    base_model.trainable = True ## Not trainable weights\n",
    "    flatten_layer = Flatten()\n",
    "    dense_layer_1 = Dense(256, activation='relu')\n",
    "    #dense_layer_2 = Dense(20, activation='relu')\n",
    "    prediction_layer = Dense(output, activation='softmax')\n",
    "    \n",
    "    model = Sequential([\n",
    "      base_model,\n",
    "      flatten_layer,\n",
    "      dense_layer_1,\n",
    "      #dense_layer_2,\n",
    "      prediction_layer\n",
    "      ])\n",
    "    \n",
    "    model.compile(\n",
    "        optimizer='adam',\n",
    "        loss='sparse_categorical_crossentropy', #değiştirrr\n",
    "        metrics=['accuracy'],\n",
    "        )\n",
    "    \n",
    "    return model"
   ]
  },
  {
   "cell_type": "code",
   "execution_count": 29,
   "id": "defffa2d",
   "metadata": {},
   "outputs": [],
   "source": [
    "modelX = pretrained_Xception()"
   ]
  },
  {
   "cell_type": "code",
   "execution_count": 23,
   "id": "bc6f0a65",
   "metadata": {},
   "outputs": [],
   "source": [
    "modelCNN = create_cnn_model()"
   ]
  },
  {
   "cell_type": "code",
   "execution_count": 24,
   "id": "018911e2",
   "metadata": {},
   "outputs": [
    {
     "name": "stdout",
     "output_type": "stream",
     "text": [
      "Epoch 1/8\n",
      "11/11 [==============================] - 0s 18ms/step - loss: 2.8492 - accuracy: 0.4831\n",
      "Epoch 2/8\n",
      "11/11 [==============================] - 0s 18ms/step - loss: 0.8658 - accuracy: 0.7385\n",
      "Epoch 3/8\n",
      "11/11 [==============================] - 0s 18ms/step - loss: 0.2419 - accuracy: 0.9169\n",
      "Epoch 4/8\n",
      "11/11 [==============================] - 0s 18ms/step - loss: 0.1029 - accuracy: 0.9815\n",
      "Epoch 5/8\n",
      "11/11 [==============================] - 0s 18ms/step - loss: 0.0583 - accuracy: 0.9908\n",
      "Epoch 6/8\n",
      "11/11 [==============================] - 0s 18ms/step - loss: 0.0499 - accuracy: 0.9938\n",
      "Epoch 7/8\n",
      "11/11 [==============================] - 0s 18ms/step - loss: 0.0287 - accuracy: 1.0000\n",
      "Epoch 8/8\n",
      "11/11 [==============================] - 0s 18ms/step - loss: 0.0190 - accuracy: 1.0000\n"
     ]
    },
    {
     "data": {
      "text/plain": [
       "<keras.src.callbacks.History at 0x762e9ec3ce10>"
      ]
     },
     "execution_count": 24,
     "metadata": {},
     "output_type": "execute_result"
    }
   ],
   "source": [
    "modelCNN.fit(train_images, train_labels, epochs=8)"
   ]
  },
  {
   "cell_type": "code",
   "execution_count": 37,
   "id": "c0de4996",
   "metadata": {},
   "outputs": [
    {
     "name": "stdout",
     "output_type": "stream",
     "text": [
      "Epoch 1/50\n",
      "11/11 [==============================] - 7s 592ms/step - loss: 1.0104 - accuracy: 0.5815\n",
      "Epoch 2/50\n",
      "11/11 [==============================] - 7s 590ms/step - loss: 0.7921 - accuracy: 0.6369\n",
      "Epoch 3/50\n",
      "11/11 [==============================] - 7s 595ms/step - loss: 0.7077 - accuracy: 0.6615\n",
      "Epoch 4/50\n",
      "11/11 [==============================] - 7s 587ms/step - loss: 0.5403 - accuracy: 0.7138\n",
      "Epoch 5/50\n",
      "11/11 [==============================] - 7s 590ms/step - loss: 0.4428 - accuracy: 0.8308\n",
      "Epoch 6/50\n",
      "11/11 [==============================] - 7s 592ms/step - loss: 0.5089 - accuracy: 0.8092\n",
      "Epoch 7/50\n",
      "11/11 [==============================] - 7s 592ms/step - loss: 0.4541 - accuracy: 0.8431\n",
      "Epoch 8/50\n",
      "11/11 [==============================] - 7s 596ms/step - loss: 0.3722 - accuracy: 0.8585\n",
      "Epoch 9/50\n",
      "11/11 [==============================] - 7s 598ms/step - loss: 0.4750 - accuracy: 0.8492\n",
      "Epoch 10/50\n",
      "11/11 [==============================] - 7s 597ms/step - loss: 0.2733 - accuracy: 0.8892\n",
      "Epoch 11/50\n",
      "11/11 [==============================] - 7s 614ms/step - loss: 0.2479 - accuracy: 0.9046\n",
      "Epoch 12/50\n",
      "11/11 [==============================] - 7s 610ms/step - loss: 0.1599 - accuracy: 0.9477\n",
      "Epoch 13/50\n",
      "11/11 [==============================] - 7s 610ms/step - loss: 0.1257 - accuracy: 0.9662\n",
      "Epoch 14/50\n",
      "11/11 [==============================] - 7s 614ms/step - loss: 0.2210 - accuracy: 0.9292\n",
      "Epoch 15/50\n",
      "11/11 [==============================] - 7s 610ms/step - loss: 0.3258 - accuracy: 0.8985\n",
      "Epoch 16/50\n",
      "11/11 [==============================] - 7s 614ms/step - loss: 0.4092 - accuracy: 0.8646\n",
      "Epoch 17/50\n",
      "11/11 [==============================] - 7s 613ms/step - loss: 0.3110 - accuracy: 0.9015\n",
      "Epoch 18/50\n",
      "11/11 [==============================] - 7s 616ms/step - loss: 0.5117 - accuracy: 0.8062\n",
      "Epoch 19/50\n",
      "11/11 [==============================] - 7s 612ms/step - loss: 0.6098 - accuracy: 0.8462\n",
      "Epoch 20/50\n",
      "11/11 [==============================] - 7s 615ms/step - loss: 0.6545 - accuracy: 0.8677\n",
      "Epoch 21/50\n",
      "11/11 [==============================] - 7s 616ms/step - loss: 0.5613 - accuracy: 0.8062\n",
      "Epoch 22/50\n",
      "11/11 [==============================] - 7s 616ms/step - loss: 0.5408 - accuracy: 0.8277\n",
      "Epoch 23/50\n",
      "11/11 [==============================] - 7s 617ms/step - loss: 0.3107 - accuracy: 0.9385\n",
      "Epoch 24/50\n",
      "11/11 [==============================] - 7s 615ms/step - loss: 0.3633 - accuracy: 0.9200\n",
      "Epoch 25/50\n",
      "11/11 [==============================] - 7s 613ms/step - loss: 0.6551 - accuracy: 0.8062\n",
      "Epoch 26/50\n",
      "11/11 [==============================] - 7s 615ms/step - loss: 0.7085 - accuracy: 0.7785\n",
      "Epoch 27/50\n",
      "11/11 [==============================] - 7s 610ms/step - loss: 0.5393 - accuracy: 0.7938\n",
      "Epoch 28/50\n",
      "11/11 [==============================] - 7s 614ms/step - loss: 0.4506 - accuracy: 0.8277\n",
      "Epoch 29/50\n",
      "11/11 [==============================] - 7s 612ms/step - loss: 0.4133 - accuracy: 0.8400\n",
      "Epoch 30/50\n",
      "11/11 [==============================] - 7s 608ms/step - loss: 0.3457 - accuracy: 0.8708\n",
      "Epoch 31/50\n",
      "11/11 [==============================] - 7s 611ms/step - loss: 0.2422 - accuracy: 0.9138\n",
      "Epoch 32/50\n",
      "11/11 [==============================] - 7s 614ms/step - loss: 0.2041 - accuracy: 0.9323\n",
      "Epoch 33/50\n",
      "11/11 [==============================] - 7s 613ms/step - loss: 0.0724 - accuracy: 0.9723\n",
      "Epoch 34/50\n",
      "11/11 [==============================] - 7s 613ms/step - loss: 0.1885 - accuracy: 0.9385\n",
      "Epoch 35/50\n",
      "11/11 [==============================] - 7s 618ms/step - loss: 0.1367 - accuracy: 0.9692\n",
      "Epoch 36/50\n",
      "11/11 [==============================] - 7s 623ms/step - loss: 0.4148 - accuracy: 0.8954\n",
      "Epoch 37/50\n",
      "11/11 [==============================] - 7s 616ms/step - loss: 0.3737 - accuracy: 0.9231\n",
      "Epoch 38/50\n",
      "11/11 [==============================] - 7s 622ms/step - loss: 0.2233 - accuracy: 0.9169\n",
      "Epoch 39/50\n",
      "11/11 [==============================] - 7s 613ms/step - loss: 0.1659 - accuracy: 0.9477\n",
      "Epoch 40/50\n",
      "11/11 [==============================] - 7s 623ms/step - loss: 0.1660 - accuracy: 0.9631\n",
      "Epoch 41/50\n",
      "11/11 [==============================] - 7s 621ms/step - loss: 0.2649 - accuracy: 0.9631\n",
      "Epoch 42/50\n",
      "11/11 [==============================] - 7s 616ms/step - loss: 0.1590 - accuracy: 0.9600\n",
      "Epoch 43/50\n",
      "11/11 [==============================] - 7s 623ms/step - loss: 0.1983 - accuracy: 0.9262\n",
      "Epoch 44/50\n",
      "11/11 [==============================] - 7s 614ms/step - loss: 0.1445 - accuracy: 0.9631\n",
      "Epoch 45/50\n",
      "11/11 [==============================] - 7s 617ms/step - loss: 0.2167 - accuracy: 0.9323\n",
      "Epoch 46/50\n",
      "11/11 [==============================] - 7s 617ms/step - loss: 0.2076 - accuracy: 0.9508\n",
      "Epoch 47/50\n",
      "11/11 [==============================] - 7s 614ms/step - loss: 0.0863 - accuracy: 0.9692\n",
      "Epoch 48/50\n",
      "11/11 [==============================] - 7s 619ms/step - loss: 0.3416 - accuracy: 0.8585\n",
      "Epoch 49/50\n",
      "11/11 [==============================] - 7s 611ms/step - loss: 0.2596 - accuracy: 0.8985\n",
      "Epoch 50/50\n",
      "11/11 [==============================] - 7s 617ms/step - loss: 0.1990 - accuracy: 0.9292\n"
     ]
    },
    {
     "data": {
      "text/plain": [
       "<keras.src.callbacks.History at 0x762e743e9490>"
      ]
     },
     "execution_count": 37,
     "metadata": {},
     "output_type": "execute_result"
    }
   ],
   "source": [
    "modelX.fit(train_images, train_labels, epochs=20)"
   ]
  },
  {
   "cell_type": "code",
   "execution_count": 38,
   "id": "f6d445b6",
   "metadata": {},
   "outputs": [
    {
     "name": "stdout",
     "output_type": "stream",
     "text": [
      "3/3 [==============================] - 1s 96ms/step - loss: 3.1920 - accuracy: 0.7561\n"
     ]
    },
    {
     "data": {
      "text/plain": [
       "[3.1920061111450195, 0.7560975551605225]"
      ]
     },
     "execution_count": 38,
     "metadata": {},
     "output_type": "execute_result"
    }
   ],
   "source": [
    "modelX.evaluate(test_images, test_labels)"
   ]
  },
  {
   "cell_type": "code",
   "execution_count": 39,
   "id": "4078c437",
   "metadata": {},
   "outputs": [
    {
     "name": "stdout",
     "output_type": "stream",
     "text": [
      "3/3 [==============================] - 1s 93ms/step\n",
      "              precision    recall  f1-score   support\n",
      "\n",
      "           0       0.88      0.79      0.83        19\n",
      "           1       0.83      0.25      0.38        20\n",
      "           2       0.71      0.98      0.82        43\n",
      "\n",
      "    accuracy                           0.76        82\n",
      "   macro avg       0.81      0.67      0.68        82\n",
      "weighted avg       0.78      0.76      0.72        82\n",
      "\n"
     ]
    }
   ],
   "source": [
    "tahminlerX = modelX.predict(test_images)\n",
    "y_pred_classesX = np.argmax(tahminlerX,axis=1)\n",
    "test_labels\n",
    "print(classification_report(test_labels, y_pred_classesX))"
   ]
  },
  {
   "cell_type": "code",
   "execution_count": 31,
   "id": "da42f799",
   "metadata": {},
   "outputs": [
    {
     "name": "stdout",
     "output_type": "stream",
     "text": [
      "3/3 [==============================] - 0s 5ms/step - loss: 1.2080 - accuracy: 0.7317\n"
     ]
    },
    {
     "data": {
      "text/plain": [
       "[1.2080001831054688, 0.7317073345184326]"
      ]
     },
     "execution_count": 31,
     "metadata": {},
     "output_type": "execute_result"
    }
   ],
   "source": [
    "modelCNN.evaluate(test_images, test_labels)"
   ]
  },
  {
   "cell_type": "code",
   "execution_count": 33,
   "id": "1fa19490",
   "metadata": {},
   "outputs": [
    {
     "name": "stdout",
     "output_type": "stream",
     "text": [
      "3/3 [==============================] - 0s 5ms/step\n"
     ]
    }
   ],
   "source": [
    "tahminler = modelCNN.predict(test_images)"
   ]
  },
  {
   "cell_type": "code",
   "execution_count": 34,
   "id": "270b500b",
   "metadata": {},
   "outputs": [
    {
     "name": "stdout",
     "output_type": "stream",
     "text": [
      "              precision    recall  f1-score   support\n",
      "\n",
      "           0       0.89      0.42      0.57        19\n",
      "           1       0.59      0.50      0.54        20\n",
      "           2       0.75      0.98      0.85        43\n",
      "\n",
      "    accuracy                           0.73        82\n",
      "   macro avg       0.74      0.63      0.65        82\n",
      "weighted avg       0.74      0.73      0.71        82\n",
      "\n"
     ]
    }
   ],
   "source": [
    "y_pred_classes = np.argmax(tahminler,axis=1)\n",
    "test_labels\n",
    "print(classification_report(test_labels, y_pred_classes))"
   ]
  },
  {
   "cell_type": "code",
   "execution_count": 36,
   "id": "316a10d7",
   "metadata": {},
   "outputs": [
    {
     "data": {
      "image/png": "[encoded data removed]",
      "text/plain": [
       "<Figure size 640x480 with 2 Axes>"
      ]
     },
     "metadata": {},
     "output_type": "display_data"
    }
   ],
   "source": [
    "conf_matrix = confusion_matrix(test_labels, y_pred_classes)\n",
    "cm_display = ConfusionMatrixDisplay(confusion_matrix = conf_matrix)\n",
    "\n",
    "cm_display.plot()\n",
    "plt.show() "
   ]
  },
  {
   "cell_type": "code",
   "execution_count": 17,
   "id": "245c9849",
   "metadata": {},
   "outputs": [],
   "source": [
    "def cross_validation(model, X, y, n_splits=5, epochs=5, batch_size=32):\n",
    "    kfold = KFold(n_splits=n_splits, shuffle=True, random_state=42)\n",
    "    #model.compile(optimizer='adam', loss='sparse_categorical_crossentropy', metrics=['accuracy'])\n",
    "    #result = []\n",
    "    for train_inx, val_inx in kfold.split(X):\n",
    "        X_train, X_val = X[train_inx], X[val_inx]\n",
    "        y_train, y_val = y[train_inx], y[val_inx]\n",
    "        \n",
    "        model.compile(optimizer='adam', loss='sparse_categorical_crossentropy', metrics=['accuracy'])\n",
    "        a = model.fit(X_train, y_train, epochs=epochs, batch_size=batch_size, verbose=2, class_weight={0:7,1:10,2:22})\n",
    "        #model.fit(X_train, y_train, epochs=epochs)\n",
    "        #result.append(a.history['val_accuracy'])\n",
    "        \n",
    "    #return result"
   ]
  },
  {
   "cell_type": "code",
   "execution_count": 18,
   "id": "06467476",
   "metadata": {},
   "outputs": [],
   "source": [
    "def gosterTrain(index):\n",
    "    plt.figure(figsize=(15,2))\n",
    "    plt.imshow(train_images[index])\n",
    "    plt.title(class_names[train_labels[index]])"
   ]
  },
  {
   "cell_type": "code",
   "execution_count": 19,
   "id": "8fa0754e",
   "metadata": {},
   "outputs": [],
   "source": [
    "def gosterTest(index):\n",
    "    plt.figure(figsize=(15,2))\n",
    "    plt.imshow(test_images[index])\n",
    "    plt.title(class_names[test_labels[index]])"
   ]
  },
  {
   "cell_type": "code",
   "execution_count": 20,
   "id": "3d89d77c",
   "metadata": {},
   "outputs": [
    {
     "data": {
      "image/png": "[encoded data removed]",
      "text/plain": [
       "<Figure size 1500x200 with 1 Axes>"
      ]
     },
     "metadata": {},
     "output_type": "display_data"
    }
   ],
   "source": [
    "gosterTrain(10)"
   ]
  },
  {
   "cell_type": "code",
   "execution_count": 21,
   "id": "f8c542be",
   "metadata": {},
   "outputs": [
    {
     "data": {
      "image/png": "[encoded data removed]",
      "text/plain": [
       "<Figure size 1500x200 with 1 Axes>"
      ]
     },
     "metadata": {},
     "output_type": "display_data"
    }
   ],
   "source": [
    "gosterTest(7)"
   ]
  },
  {
   "cell_type": "code",
   "execution_count": 18,
   "id": "e7b697cd",
   "metadata": {},
   "outputs": [
    {
     "name": "stderr",
     "output_type": "stream",
     "text": [
      "2024-04-30 11:30:44.545964: I tensorflow/compiler/xla/stream_executor/cuda/cuda_gpu_executor.cc:995] successful NUMA node read from SysFS had negative value (-1), but there must be at least one NUMA node, so returning NUMA node zero. See more at https://github.com/torvalds/linux/blob/v6.0/Documentation/ABI/testing/sysfs-bus-pci#L344-L355\n",
      "2024-04-30 11:30:44.548762: W tensorflow/core/common_runtime/gpu/gpu_device.cc:1960] Cannot dlopen some GPU libraries. Please make sure the missing libraries mentioned above are installed properly if you would like to use GPU. Follow the guide at https://www.tensorflow.org/install/gpu for how to download and setup the required libraries for your platform.\n",
      "Skipping registering GPU devices...\n"
     ]
    }
   ],
   "source": [
    "model = models.Sequential([\n",
    "    #cnn\n",
    "    layers.Conv2D(filters=64, kernel_size=(3,3), activation='relu', input_shape=(128,128,3)),\n",
    "    layers.MaxPooling2D((2,2)),\n",
    "    #tf.keras.layers.Dropout(0.2),\n",
    "    layers.Conv2D(filters=128, kernel_size=(3,3), activation='relu'),\n",
    "    layers.MaxPooling2D((2,2)),\n",
    "    #tf.keras.layers.Dropout(0.2),\n",
    "    #dense\n",
    "    layers.Flatten(),\n",
    "    layers.Dense(64, activation='relu'),\n",
    "    #tf.keras.layers.Dropout(0.2),\n",
    "    layers.Dense(3,activation='softmax')\n",
    "])\n",
    "#model.compile(optimizer='adam', loss='sparse_categorical_crossentropy', metrics=['accuracy'])\n",
    "#model.fit(train_images, train_labels, epochs=10)"
   ]
  },
  {
   "cell_type": "code",
   "execution_count": 23,
   "id": "ea9cc2d3",
   "metadata": {},
   "outputs": [
    {
     "name": "stderr",
     "output_type": "stream",
     "text": [
      "2024-04-30 15:18:42.211199: I tensorflow/compiler/xla/stream_executor/cuda/cuda_gpu_executor.cc:995] successful NUMA node read from SysFS had negative value (-1), but there must be at least one NUMA node, so returning NUMA node zero. See more at https://github.com/torvalds/linux/blob/v6.0/Documentation/ABI/testing/sysfs-bus-pci#L344-L355\n",
      "2024-04-30 15:18:42.220595: W tensorflow/core/common_runtime/gpu/gpu_device.cc:1960] Cannot dlopen some GPU libraries. Please make sure the missing libraries mentioned above are installed properly if you would like to use GPU. Follow the guide at https://www.tensorflow.org/install/gpu for how to download and setup the required libraries for your platform.\n",
      "Skipping registering GPU devices...\n"
     ]
    },
    {
     "name": "stdout",
     "output_type": "stream",
     "text": [
      "Epoch 1/15\n",
      "8/8 - 10s - loss: 18.9850 - accuracy: 0.5021 - 10s/epoch - 1s/step\n",
      "Epoch 2/15\n",
      "8/8 - 5s - loss: 17.3177 - accuracy: 0.5885 - 5s/epoch - 602ms/step\n",
      "Epoch 3/15\n",
      "8/8 - 5s - loss: 14.3486 - accuracy: 0.5885 - 5s/epoch - 602ms/step\n",
      "Epoch 4/15\n",
      "8/8 - 5s - loss: 8.8786 - accuracy: 0.5885 - 5s/epoch - 597ms/step\n",
      "Epoch 5/15\n",
      "8/8 - 5s - loss: 6.3899 - accuracy: 0.5885 - 5s/epoch - 593ms/step\n",
      "Epoch 6/15\n",
      "8/8 - 5s - loss: 5.4997 - accuracy: 0.5885 - 5s/epoch - 607ms/step\n",
      "Epoch 7/15\n",
      "8/8 - 5s - loss: 5.5025 - accuracy: 0.5885 - 5s/epoch - 611ms/step\n",
      "Epoch 8/15\n",
      "8/8 - 5s - loss: 5.0155 - accuracy: 0.5885 - 5s/epoch - 595ms/step\n",
      "Epoch 9/15\n",
      "8/8 - 5s - loss: 4.5868 - accuracy: 0.5967 - 5s/epoch - 603ms/step\n",
      "Epoch 10/15\n",
      "8/8 - 5s - loss: 4.0389 - accuracy: 0.6790 - 5s/epoch - 596ms/step\n",
      "Epoch 11/15\n",
      "8/8 - 5s - loss: 3.0924 - accuracy: 0.7901 - 5s/epoch - 602ms/step\n",
      "Epoch 12/15\n",
      "8/8 - 5s - loss: 3.0617 - accuracy: 0.8025 - 5s/epoch - 602ms/step\n",
      "Epoch 13/15\n",
      "8/8 - 5s - loss: 2.3952 - accuracy: 0.8107 - 5s/epoch - 622ms/step\n",
      "Epoch 14/15\n",
      "8/8 - 5s - loss: 2.5886 - accuracy: 0.8107 - 5s/epoch - 620ms/step\n",
      "Epoch 15/15\n",
      "8/8 - 5s - loss: 3.7226 - accuracy: 0.7901 - 5s/epoch - 618ms/step\n",
      "Epoch 1/15\n",
      "8/8 - 10s - loss: 13.7037 - accuracy: 0.6066 - 10s/epoch - 1s/step\n",
      "Epoch 2/15\n",
      "8/8 - 5s - loss: 11.3054 - accuracy: 0.6598 - 5s/epoch - 606ms/step\n",
      "Epoch 3/15\n",
      "8/8 - 5s - loss: 5.1940 - accuracy: 0.7049 - 5s/epoch - 612ms/step\n",
      "Epoch 4/15\n",
      "8/8 - 5s - loss: 6.1619 - accuracy: 0.7090 - 5s/epoch - 626ms/step\n",
      "Epoch 5/15\n",
      "8/8 - 5s - loss: 4.8738 - accuracy: 0.7172 - 5s/epoch - 624ms/step\n",
      "Epoch 6/15\n",
      "8/8 - 5s - loss: 4.3505 - accuracy: 0.7500 - 5s/epoch - 628ms/step\n",
      "Epoch 7/15\n",
      "8/8 - 5s - loss: 3.0076 - accuracy: 0.8074 - 5s/epoch - 623ms/step\n",
      "Epoch 8/15\n",
      "8/8 - 5s - loss: 2.8105 - accuracy: 0.9098 - 5s/epoch - 630ms/step\n",
      "Epoch 9/15\n",
      "8/8 - 5s - loss: 3.7442 - accuracy: 0.8689 - 5s/epoch - 629ms/step\n",
      "Epoch 10/15\n",
      "8/8 - 5s - loss: 4.4900 - accuracy: 0.8402 - 5s/epoch - 623ms/step\n",
      "Epoch 11/15\n",
      "8/8 - 5s - loss: 4.2640 - accuracy: 0.8893 - 5s/epoch - 638ms/step\n",
      "Epoch 12/15\n",
      "8/8 - 5s - loss: 2.4075 - accuracy: 0.9098 - 5s/epoch - 627ms/step\n",
      "Epoch 13/15\n",
      "8/8 - 5s - loss: 2.5977 - accuracy: 0.9139 - 5s/epoch - 632ms/step\n",
      "Epoch 14/15\n",
      "8/8 - 5s - loss: 1.6708 - accuracy: 0.9549 - 5s/epoch - 632ms/step\n",
      "Epoch 15/15\n",
      "8/8 - 5s - loss: 1.1381 - accuracy: 0.9672 - 5s/epoch - 634ms/step\n",
      "Epoch 1/15\n",
      "8/8 - 10s - loss: 13.7273 - accuracy: 0.7131 - 10s/epoch - 1s/step\n",
      "Epoch 2/15\n",
      "8/8 - 5s - loss: 8.2571 - accuracy: 0.7418 - 5s/epoch - 610ms/step\n",
      "Epoch 3/15\n",
      "8/8 - 5s - loss: 5.7129 - accuracy: 0.7541 - 5s/epoch - 615ms/step\n",
      "Epoch 4/15\n",
      "8/8 - 5s - loss: 5.0832 - accuracy: 0.7131 - 5s/epoch - 625ms/step\n",
      "Epoch 5/15\n",
      "8/8 - 5s - loss: 3.2954 - accuracy: 0.8115 - 5s/epoch - 620ms/step\n",
      "Epoch 6/15\n",
      "8/8 - 5s - loss: 3.2686 - accuracy: 0.8893 - 5s/epoch - 623ms/step\n",
      "Epoch 7/15\n",
      "8/8 - 5s - loss: 3.5620 - accuracy: 0.8975 - 5s/epoch - 625ms/step\n",
      "Epoch 8/15\n",
      "8/8 - 5s - loss: 3.3394 - accuracy: 0.9057 - 5s/epoch - 625ms/step\n",
      "Epoch 9/15\n",
      "8/8 - 5s - loss: 2.2264 - accuracy: 0.9221 - 5s/epoch - 629ms/step\n",
      "Epoch 10/15\n",
      "8/8 - 5s - loss: 1.2451 - accuracy: 0.9590 - 5s/epoch - 629ms/step\n",
      "Epoch 11/15\n",
      "8/8 - 5s - loss: 1.3535 - accuracy: 0.9590 - 5s/epoch - 626ms/step\n",
      "Epoch 12/15\n",
      "8/8 - 5s - loss: 2.8044 - accuracy: 0.9508 - 5s/epoch - 637ms/step\n",
      "Epoch 13/15\n",
      "8/8 - 5s - loss: 1.1090 - accuracy: 0.9795 - 5s/epoch - 641ms/step\n",
      "Epoch 14/15\n",
      "8/8 - 5s - loss: 1.4111 - accuracy: 0.9590 - 5s/epoch - 627ms/step\n",
      "Epoch 15/15\n",
      "8/8 - 5s - loss: 0.7013 - accuracy: 0.9836 - 5s/epoch - 629ms/step\n",
      "Epoch 1/15\n",
      "8/8 - 10s - loss: 7.4060 - accuracy: 0.8566 - 10s/epoch - 1s/step\n",
      "Epoch 2/15\n",
      "8/8 - 5s - loss: 3.1581 - accuracy: 0.9139 - 5s/epoch - 614ms/step\n",
      "Epoch 3/15\n",
      "8/8 - 5s - loss: 2.6902 - accuracy: 0.9344 - 5s/epoch - 622ms/step\n",
      "Epoch 4/15\n",
      "8/8 - 5s - loss: 1.4522 - accuracy: 0.9508 - 5s/epoch - 632ms/step\n",
      "Epoch 5/15\n",
      "8/8 - 5s - loss: 1.4304 - accuracy: 0.9631 - 5s/epoch - 626ms/step\n",
      "Epoch 6/15\n",
      "8/8 - 5s - loss: 1.1104 - accuracy: 0.9754 - 5s/epoch - 636ms/step\n",
      "Epoch 7/15\n",
      "8/8 - 5s - loss: 1.5437 - accuracy: 0.9754 - 5s/epoch - 630ms/step\n",
      "Epoch 8/15\n",
      "8/8 - 5s - loss: 1.1428 - accuracy: 0.9836 - 5s/epoch - 633ms/step\n",
      "Epoch 9/15\n",
      "8/8 - 5s - loss: 1.1402 - accuracy: 0.9754 - 5s/epoch - 629ms/step\n",
      "Epoch 10/15\n",
      "8/8 - 5s - loss: 1.3116 - accuracy: 0.9795 - 5s/epoch - 628ms/step\n",
      "Epoch 11/15\n",
      "8/8 - 5s - loss: 1.4758 - accuracy: 0.9672 - 5s/epoch - 626ms/step\n",
      "Epoch 12/15\n",
      "8/8 - 5s - loss: 2.0165 - accuracy: 0.9672 - 5s/epoch - 626ms/step\n",
      "Epoch 13/15\n",
      "8/8 - 5s - loss: 0.8446 - accuracy: 0.9877 - 5s/epoch - 634ms/step\n",
      "Epoch 14/15\n",
      "8/8 - 5s - loss: 0.3386 - accuracy: 0.9877 - 5s/epoch - 637ms/step\n",
      "Epoch 15/15\n",
      "8/8 - 5s - loss: 0.4171 - accuracy: 0.9918 - 5s/epoch - 642ms/step\n"
     ]
    }
   ],
   "source": [
    "modelX = pretrained_Xception()\n",
    "result = cross_validation(modelX, train_images, train_labels, n_splits=4, epochs=15, batch_size=32)"
   ]
  },
  {
   "cell_type": "code",
   "execution_count": 20,
   "id": "f27c2d70",
   "metadata": {},
   "outputs": [
    {
     "ename": "TypeError",
     "evalue": "'NoneType' object is not iterable",
     "output_type": "error",
     "traceback": [
      "\u001b[0;31m---------------------------------------------------------------------------\u001b[0m",
      "\u001b[0;31mTypeError\u001b[0m                                 Traceback (most recent call last)",
      "Cell \u001b[0;32mIn[20], line 1\u001b[0m\n\u001b[0;32m----> 1\u001b[0m \u001b[38;5;28;01mfor\u001b[39;00m i, resul \u001b[38;5;129;01min\u001b[39;00m \u001b[38;5;28menumerate\u001b[39m(result):\n\u001b[1;32m      2\u001b[0m     \u001b[38;5;28mprint\u001b[39m(\u001b[38;5;124mf\u001b[39m\u001b[38;5;124m\"\u001b[39m\u001b[38;5;124mFold \u001b[39m\u001b[38;5;132;01m{\u001b[39;00mi\u001b[38;5;241m+\u001b[39m\u001b[38;5;241m1\u001b[39m\u001b[38;5;132;01m}\u001b[39;00m\u001b[38;5;124m Başarı Değeri:\u001b[39m\u001b[38;5;124m\"\u001b[39m, resul[i])\n",
      "\u001b[0;31mTypeError\u001b[0m: 'NoneType' object is not iterable"
     ]
    }
   ],
   "source": [
    "for i, resul in enumerate(result):\n",
    "    print(f\"Fold {i+1} Başarı Değeri:\", resul[i])"
   ]
  },
  {
   "cell_type": "code",
   "execution_count": 21,
   "id": "fe399a83",
   "metadata": {},
   "outputs": [],
   "source": [
    "#model.compile(optimizer='adam', loss='sparse_categorical_crossentropy', metrics=['accuracy'])"
   ]
  },
  {
   "cell_type": "code",
   "execution_count": 22,
   "id": "cb8b931a",
   "metadata": {},
   "outputs": [],
   "source": [
    "#model2.fit(train_images, train_labels, epochs=5)"
   ]
  },
  {
   "cell_type": "code",
   "execution_count": 23,
   "id": "9839f9d8",
   "metadata": {},
   "outputs": [],
   "source": [
    "#model.fit(train_images, train_labels, epochs=8)"
   ]
  },
  {
   "cell_type": "code",
   "execution_count": 24,
   "id": "4ab6db58",
   "metadata": {},
   "outputs": [
    {
     "name": "stdout",
     "output_type": "stream",
     "text": [
      "3/3 [==============================] - 1s 95ms/step - loss: 56.9430 - accuracy: 0.7073\n"
     ]
    },
    {
     "data": {
      "text/plain": [
       "[56.942989349365234, 0.707317054271698]"
      ]
     },
     "execution_count": 24,
     "metadata": {},
     "output_type": "execute_result"
    }
   ],
   "source": [
    "modelX.evaluate(test_images, test_labels)"
   ]
  },
  {
   "cell_type": "code",
   "execution_count": 28,
   "id": "bfa3dcca",
   "metadata": {},
   "outputs": [
    {
     "name": "stdout",
     "output_type": "stream",
     "text": [
      "3/3 [==============================] - 0s 92ms/step\n"
     ]
    }
   ],
   "source": [
    "tahminlerX = modelX.predict(test_images)"
   ]
  },
  {
   "cell_type": "code",
   "execution_count": 36,
   "id": "970c625c",
   "metadata": {},
   "outputs": [],
   "source": [
    "y_pred_classes = np.argmax(tahminlerX,axis=1)"
   ]
  },
  {
   "cell_type": "code",
   "execution_count": 37,
   "id": "486bcede",
   "metadata": {},
   "outputs": [
    {
     "data": {
      "text/plain": [
       "array([[9.4122380e-01, 4.2738818e-02, 1.6037481e-02],\n",
       "       [0.0000000e+00, 0.0000000e+00, 1.0000000e+00],\n",
       "       [0.0000000e+00, 0.0000000e+00, 1.0000000e+00],\n",
       "       [9.9951398e-01, 4.6191036e-04, 2.4034083e-05],\n",
       "       [7.8520739e-01, 1.3723427e-01, 7.7558294e-02],\n",
       "       [0.0000000e+00, 0.0000000e+00, 1.0000000e+00],\n",
       "       [0.0000000e+00, 0.0000000e+00, 1.0000000e+00]], dtype=float32)"
      ]
     },
     "execution_count": 37,
     "metadata": {},
     "output_type": "execute_result"
    }
   ],
   "source": [
    "tahminlerX[:7]"
   ]
  },
  {
   "cell_type": "code",
   "execution_count": 31,
   "id": "e0a53c0c",
   "metadata": {},
   "outputs": [
    {
     "data": {
      "text/plain": [
       "2"
      ]
     },
     "execution_count": 31,
     "metadata": {},
     "output_type": "execute_result"
    }
   ],
   "source": [
    "np.argmax(tahminlerX[9])"
   ]
  },
  {
   "cell_type": "code",
   "execution_count": 32,
   "id": "cc0ca1a9",
   "metadata": {},
   "outputs": [
    {
     "data": {
      "text/plain": [
       "array([0, 2, 2, 0, 0, 2, 2, 1, 2, 2, 1, 2, 2, 1, 2, 2, 2, 2, 0, 2, 0, 1,\n",
       "       2, 2, 2, 1, 2, 2, 2, 0, 2, 2, 0, 2, 2, 2, 0, 1, 2, 1, 1, 1, 2, 2,\n",
       "       2, 1, 0, 1, 2, 2, 2, 0, 2, 0, 1, 1, 0, 0, 0, 2, 0, 2, 0, 2, 1, 2,\n",
       "       1, 2, 0, 2, 2, 1, 2, 2, 2, 0, 0, 2, 1, 1, 1, 1])"
      ]
     },
     "execution_count": 32,
     "metadata": {},
     "output_type": "execute_result"
    }
   ],
   "source": [
    "test_labels"
   ]
  },
  {
   "cell_type": "code",
   "execution_count": 33,
   "id": "da0394a1",
   "metadata": {},
   "outputs": [
    {
     "data": {
      "text/plain": [
       "array([0, 2, 2, 0, 0, 2, 2, 2, 2, 2, 2, 2, 2, 2, 2, 2, 2, 2, 0, 2, 0, 2,\n",
       "       2, 2, 2, 2, 2, 2, 2, 0, 2, 2, 0, 2, 2, 2, 0, 2, 2, 0, 2, 2, 2, 2,\n",
       "       2, 1, 0, 2, 2, 2, 2, 0, 2, 2, 2, 2, 2, 0, 0, 2, 0, 2, 2, 2, 2, 2,\n",
       "       2, 2, 2, 2, 2, 2, 2, 2, 2, 2, 0, 2, 2, 2, 2, 2])"
      ]
     },
     "execution_count": 33,
     "metadata": {},
     "output_type": "execute_result"
    }
   ],
   "source": [
    "y_pred_classes"
   ]
  },
  {
   "cell_type": "code",
   "execution_count": 34,
   "id": "2304a465",
   "metadata": {},
   "outputs": [
    {
     "name": "stdout",
     "output_type": "stream",
     "text": [
      "              precision    recall  f1-score   support\n",
      "\n",
      "           0       0.93      0.74      0.82        19\n",
      "           1       1.00      0.05      0.10        20\n",
      "           2       0.65      1.00      0.79        43\n",
      "\n",
      "    accuracy                           0.71        82\n",
      "   macro avg       0.86      0.60      0.57        82\n",
      "weighted avg       0.80      0.71      0.63        82\n",
      "\n"
     ]
    }
   ],
   "source": [
    "print(classification_report(test_labels, y_pred_classes))"
   ]
  },
  {
   "cell_type": "code",
   "execution_count": 42,
   "id": "a2faa1fd",
   "metadata": {},
   "outputs": [],
   "source": [
    "cm_display = ConfusionMatrixDisplay(confusion_matrix = conf_matrix)"
   ]
  },
  {
   "cell_type": "code",
   "execution_count": 43,
   "id": "3d452628",
   "metadata": {},
   "outputs": [
    {
     "data": {
      "image/png": "[encoded data removed]",
      "text/plain": [
       "<Figure size 640x480 with 2 Axes>"
      ]
     },
     "metadata": {},
     "output_type": "display_data"
    }
   ],
   "source": [
    "cm_display.plot()\n",
    "plt.show() "
   ]
  },
  {
   "cell_type": "code",
   "execution_count": 39,
   "id": "e6e3d264",
   "metadata": {},
   "outputs": [],
   "source": [
    "conf_matrix = confusion_matrix(test_labels, y_pred_classes)"
   ]
  },
  {
   "cell_type": "code",
   "execution_count": 40,
   "id": "463e31a0",
   "metadata": {},
   "outputs": [
    {
     "name": "stdout",
     "output_type": "stream",
     "text": [
      "[[14  0  5]\n",
      " [ 1  1 18]\n",
      " [ 0  0 43]]\n"
     ]
    }
   ],
   "source": [
    "print(conf_matrix)"
   ]
  },
  {
   "cell_type": "code",
   "execution_count": 36,
   "id": "3add9118",
   "metadata": {},
   "outputs": [],
   "source": [
    "def tablo(confusion_matrix, index):\n",
    "    TP=confusion_matrix[index][index]\n",
    "    FN=sum(confusion_matrix[index][:index])+sum(confusion_matrix[index][index+1:])\n",
    "    FP=sum(np.transpose(confusion_matrix)[index][:index])+sum(np.transpose(confusion_matrix)[index][index+1:])\n",
    "    TN=sum(sum(confusion_matrix))-TP-FN-FP\n",
    "    return TP,TN,FP,FN"
   ]
  },
  {
   "cell_type": "code",
   "execution_count": 37,
   "id": "60b0f670",
   "metadata": {},
   "outputs": [],
   "source": [
    "def acc(confusion_matrix,index):\n",
    "    TP,TN,FP,FN = tablo(confusion_matrix,index)\n",
    "    acc = (TN+TP)/(TN+TP+FP+FN)\n",
    "    return acc"
   ]
  },
  {
   "cell_type": "code",
   "execution_count": 38,
   "id": "73b1a473",
   "metadata": {},
   "outputs": [],
   "source": [
    "def precision(confusion_matrix,index):\n",
    "    TP,TN,FP,FN = tablo(confusion_matrix,index)\n",
    "    p = (TP)/(TP+FP)\n",
    "    return p"
   ]
  },
  {
   "cell_type": "code",
   "execution_count": 39,
   "id": "b860c933",
   "metadata": {},
   "outputs": [],
   "source": [
    "def sensitivity(confusion_matrix,index):\n",
    "    TP,TN,FP,FN = tablo(confusion_matrix,index)\n",
    "    sn = (TP)/(TP+FN)\n",
    "    return sn"
   ]
  },
  {
   "cell_type": "code",
   "execution_count": 40,
   "id": "8f6c5028",
   "metadata": {},
   "outputs": [],
   "source": [
    "def specificity(confusion_matrix,index):\n",
    "    TP,TN,FP,FN = tablo(confusion_matrix,index)\n",
    "    sp = (TN)/(TN+FP)\n",
    "    return sp"
   ]
  },
  {
   "cell_type": "code",
   "execution_count": 41,
   "id": "205aa218",
   "metadata": {},
   "outputs": [],
   "source": [
    "def f_score(confusion_matrix,index):\n",
    "    p=precision(confusion_matrix,index)\n",
    "    sn=sensitivity(confusion_matrix,index)\n",
    "    f_score = ((p*sn)/(p+sn))*2\n",
    "    return f_score"
   ]
  },
  {
   "cell_type": "code",
   "execution_count": 42,
   "id": "fdc5a32a",
   "metadata": {},
   "outputs": [],
   "source": [
    "def recall(confusion_matrix,index):\n",
    "    TP,TN,FP,FN = tablo(confusion_matrix,index)\n",
    "    recall = TP/(TP+FN)\n",
    "    return recall"
   ]
  },
  {
   "cell_type": "code",
   "execution_count": 43,
   "id": "fb5d8384",
   "metadata": {},
   "outputs": [
    {
     "name": "stdout",
     "output_type": "stream",
     "text": [
      "              precision    recall  f1-score   support\n",
      "\n",
      "           0       1.00      0.47      0.64        19\n",
      "           1       0.50      0.40      0.44        20\n",
      "           2       0.67      0.88      0.76        43\n",
      "\n",
      "    accuracy                           0.67        82\n",
      "   macro avg       0.72      0.59      0.62        82\n",
      "weighted avg       0.70      0.67      0.66        82\n",
      "\n"
     ]
    }
   ],
   "source": [
    "print(classification_report(test_labels, y_pred_classes))"
   ]
  },
  {
   "cell_type": "code",
   "execution_count": 46,
   "id": "03d35ecc",
   "metadata": {},
   "outputs": [
    {
     "name": "stdout",
     "output_type": "stream",
     "text": [
      "\n",
      "0 acc: 0.8780487804878049\n",
      "0 precision: 1.0\n",
      "0 sensitivity: 0.47368421052631576\n",
      "0 specificity: 1.0\n",
      "0 f_score: 1.0\n",
      "0 recall: 0.47368421052631576\n",
      "\n",
      "1 acc: 0.7560975609756098\n",
      "1 precision: 0.5\n",
      "1 sensitivity: 0.4\n",
      "1 specificity: 0.8709677419354839\n",
      "1 f_score: 0.5\n",
      "1 recall: 0.4\n",
      "\n",
      "2 acc: 0.7073170731707317\n",
      "2 precision: 0.6666666666666666\n",
      "2 sensitivity: 0.8837209302325582\n",
      "2 specificity: 0.5128205128205128\n",
      "2 f_score: 0.6666666666666666\n",
      "2 recall: 0.8837209302325582\n"
     ]
    },
    {
     "ename": "IndexError",
     "evalue": "index 3 is out of bounds for axis 0 with size 3",
     "output_type": "error",
     "traceback": [
      "\u001b[0;31m---------------------------------------------------------------------------\u001b[0m",
      "\u001b[0;31mIndexError\u001b[0m                                Traceback (most recent call last)",
      "Cell \u001b[0;32mIn[46], line 2\u001b[0m\n\u001b[1;32m      1\u001b[0m \u001b[38;5;28;01mfor\u001b[39;00m i \u001b[38;5;129;01min\u001b[39;00m \u001b[38;5;28mrange\u001b[39m(\u001b[38;5;241m4\u001b[39m):\n\u001b[0;32m----> 2\u001b[0m     \u001b[38;5;28mprint\u001b[39m(\u001b[38;5;124mf\u001b[39m\u001b[38;5;124m\"\u001b[39m\u001b[38;5;130;01m\\n\u001b[39;00m\u001b[38;5;132;01m{\u001b[39;00mi\u001b[38;5;132;01m}\u001b[39;00m\u001b[38;5;124m acc:\u001b[39m\u001b[38;5;124m\"\u001b[39m, acc(conf_matrix,i))\n\u001b[1;32m      3\u001b[0m     \u001b[38;5;28mprint\u001b[39m(\u001b[38;5;124mf\u001b[39m\u001b[38;5;124m\"\u001b[39m\u001b[38;5;132;01m{\u001b[39;00mi\u001b[38;5;132;01m}\u001b[39;00m\u001b[38;5;124m precision:\u001b[39m\u001b[38;5;124m\"\u001b[39m, precision(conf_matrix,i))\n\u001b[1;32m      4\u001b[0m     \u001b[38;5;28mprint\u001b[39m(\u001b[38;5;124mf\u001b[39m\u001b[38;5;124m\"\u001b[39m\u001b[38;5;132;01m{\u001b[39;00mi\u001b[38;5;132;01m}\u001b[39;00m\u001b[38;5;124m sensitivity:\u001b[39m\u001b[38;5;124m\"\u001b[39m, sensitivity(conf_matrix,i))\n",
      "Cell \u001b[0;32mIn[37], line 2\u001b[0m, in \u001b[0;36macc\u001b[0;34m(confusion_matrix, index)\u001b[0m\n\u001b[1;32m      1\u001b[0m \u001b[38;5;28;01mdef\u001b[39;00m \u001b[38;5;21macc\u001b[39m(confusion_matrix,index):\n\u001b[0;32m----> 2\u001b[0m     TP,TN,FP,FN \u001b[38;5;241m=\u001b[39m tablo(confusion_matrix,index)\n\u001b[1;32m      3\u001b[0m     acc \u001b[38;5;241m=\u001b[39m (TN\u001b[38;5;241m+\u001b[39mTP)\u001b[38;5;241m/\u001b[39m(TN\u001b[38;5;241m+\u001b[39mTP\u001b[38;5;241m+\u001b[39mFP\u001b[38;5;241m+\u001b[39mFN)\n\u001b[1;32m      4\u001b[0m     \u001b[38;5;28;01mreturn\u001b[39;00m acc\n",
      "Cell \u001b[0;32mIn[36], line 2\u001b[0m, in \u001b[0;36mtablo\u001b[0;34m(confusion_matrix, index)\u001b[0m\n\u001b[1;32m      1\u001b[0m \u001b[38;5;28;01mdef\u001b[39;00m \u001b[38;5;21mtablo\u001b[39m(confusion_matrix, index):\n\u001b[0;32m----> 2\u001b[0m     TP\u001b[38;5;241m=\u001b[39mconfusion_matrix[index][index]\n\u001b[1;32m      3\u001b[0m     FN\u001b[38;5;241m=\u001b[39m\u001b[38;5;28msum\u001b[39m(confusion_matrix[index][:index])\u001b[38;5;241m+\u001b[39m\u001b[38;5;28msum\u001b[39m(confusion_matrix[index][index\u001b[38;5;241m+\u001b[39m\u001b[38;5;241m1\u001b[39m:])\n\u001b[1;32m      4\u001b[0m     FP\u001b[38;5;241m=\u001b[39m\u001b[38;5;28msum\u001b[39m(np\u001b[38;5;241m.\u001b[39mtranspose(confusion_matrix)[index][:index])\u001b[38;5;241m+\u001b[39m\u001b[38;5;28msum\u001b[39m(np\u001b[38;5;241m.\u001b[39mtranspose(confusion_matrix)[index][index\u001b[38;5;241m+\u001b[39m\u001b[38;5;241m1\u001b[39m:])\n",
      "\u001b[0;31mIndexError\u001b[0m: index 3 is out of bounds for axis 0 with size 3"
     ]
    }
   ],
   "source": [
    "for i in range(4):\n",
    "    print(f\"\\n{i} acc:\", acc(conf_matrix,i))\n",
    "    print(f\"{i} precision:\", precision(conf_matrix,i))\n",
    "    print(f\"{i} sensitivity:\", sensitivity(conf_matrix,i))\n",
    "    print(f\"{i} specificity:\", specificity(conf_matrix,i))\n",
    "    print(f\"{i} f_score:\", precision(conf_matrix,i))\n",
    "    print(f\"{i} recall:\", recall(conf_matrix,i))"
   ]
  },
  {
   "cell_type": "code",
   "execution_count": 47,
   "id": "1d7c0ac6",
   "metadata": {},
   "outputs": [
    {
     "ename": "IndexError",
     "evalue": "index 3 is out of bounds for axis 0 with size 3",
     "output_type": "error",
     "traceback": [
      "\u001b[0;31m---------------------------------------------------------------------------\u001b[0m",
      "\u001b[0;31mIndexError\u001b[0m                                Traceback (most recent call last)",
      "Cell \u001b[0;32mIn[47], line 1\u001b[0m\n\u001b[0;32m----> 1\u001b[0m f_score(conf_matrix,\u001b[38;5;241m3\u001b[39m)\n",
      "Cell \u001b[0;32mIn[41], line 2\u001b[0m, in \u001b[0;36mf_score\u001b[0;34m(confusion_matrix, index)\u001b[0m\n\u001b[1;32m      1\u001b[0m \u001b[38;5;28;01mdef\u001b[39;00m \u001b[38;5;21mf_score\u001b[39m(confusion_matrix,index):\n\u001b[0;32m----> 2\u001b[0m     p\u001b[38;5;241m=\u001b[39mprecision(confusion_matrix,index)\n\u001b[1;32m      3\u001b[0m     sn\u001b[38;5;241m=\u001b[39msensitivity(confusion_matrix,index)\n\u001b[1;32m      4\u001b[0m     f_score \u001b[38;5;241m=\u001b[39m ((p\u001b[38;5;241m*\u001b[39msn)\u001b[38;5;241m/\u001b[39m(p\u001b[38;5;241m+\u001b[39msn))\u001b[38;5;241m*\u001b[39m\u001b[38;5;241m2\u001b[39m\n",
      "Cell \u001b[0;32mIn[38], line 2\u001b[0m, in \u001b[0;36mprecision\u001b[0;34m(confusion_matrix, index)\u001b[0m\n\u001b[1;32m      1\u001b[0m \u001b[38;5;28;01mdef\u001b[39;00m \u001b[38;5;21mprecision\u001b[39m(confusion_matrix,index):\n\u001b[0;32m----> 2\u001b[0m     TP,TN,FP,FN \u001b[38;5;241m=\u001b[39m tablo(confusion_matrix,index)\n\u001b[1;32m      3\u001b[0m     p \u001b[38;5;241m=\u001b[39m (TP)\u001b[38;5;241m/\u001b[39m(TP\u001b[38;5;241m+\u001b[39mFP)\n\u001b[1;32m      4\u001b[0m     \u001b[38;5;28;01mreturn\u001b[39;00m p\n",
      "Cell \u001b[0;32mIn[36], line 2\u001b[0m, in \u001b[0;36mtablo\u001b[0;34m(confusion_matrix, index)\u001b[0m\n\u001b[1;32m      1\u001b[0m \u001b[38;5;28;01mdef\u001b[39;00m \u001b[38;5;21mtablo\u001b[39m(confusion_matrix, index):\n\u001b[0;32m----> 2\u001b[0m     TP\u001b[38;5;241m=\u001b[39mconfusion_matrix[index][index]\n\u001b[1;32m      3\u001b[0m     FN\u001b[38;5;241m=\u001b[39m\u001b[38;5;28msum\u001b[39m(confusion_matrix[index][:index])\u001b[38;5;241m+\u001b[39m\u001b[38;5;28msum\u001b[39m(confusion_matrix[index][index\u001b[38;5;241m+\u001b[39m\u001b[38;5;241m1\u001b[39m:])\n\u001b[1;32m      4\u001b[0m     FP\u001b[38;5;241m=\u001b[39m\u001b[38;5;28msum\u001b[39m(np\u001b[38;5;241m.\u001b[39mtranspose(confusion_matrix)[index][:index])\u001b[38;5;241m+\u001b[39m\u001b[38;5;28msum\u001b[39m(np\u001b[38;5;241m.\u001b[39mtranspose(confusion_matrix)[index][index\u001b[38;5;241m+\u001b[39m\u001b[38;5;241m1\u001b[39m:])\n",
      "\u001b[0;31mIndexError\u001b[0m: index 3 is out of bounds for axis 0 with size 3"
     ]
    }
   ],
   "source": [
    "f_score(conf_matrix,3)"
   ]
  },
  {
   "cell_type": "code",
   "execution_count": 48,
   "id": "596c38db",
   "metadata": {},
   "outputs": [
    {
     "ename": "IndexError",
     "evalue": "index 3 is out of bounds for axis 0 with size 3",
     "output_type": "error",
     "traceback": [
      "\u001b[0;31m---------------------------------------------------------------------------\u001b[0m",
      "\u001b[0;31mIndexError\u001b[0m                                Traceback (most recent call last)",
      "Cell \u001b[0;32mIn[48], line 1\u001b[0m\n\u001b[0;32m----> 1\u001b[0m sensitivity(conf_matrix,\u001b[38;5;241m3\u001b[39m)\n",
      "Cell \u001b[0;32mIn[39], line 2\u001b[0m, in \u001b[0;36msensitivity\u001b[0;34m(confusion_matrix, index)\u001b[0m\n\u001b[1;32m      1\u001b[0m \u001b[38;5;28;01mdef\u001b[39;00m \u001b[38;5;21msensitivity\u001b[39m(confusion_matrix,index):\n\u001b[0;32m----> 2\u001b[0m     TP,TN,FP,FN \u001b[38;5;241m=\u001b[39m tablo(confusion_matrix,index)\n\u001b[1;32m      3\u001b[0m     sn \u001b[38;5;241m=\u001b[39m (TP)\u001b[38;5;241m/\u001b[39m(TP\u001b[38;5;241m+\u001b[39mFN)\n\u001b[1;32m      4\u001b[0m     \u001b[38;5;28;01mreturn\u001b[39;00m sn\n",
      "Cell \u001b[0;32mIn[36], line 2\u001b[0m, in \u001b[0;36mtablo\u001b[0;34m(confusion_matrix, index)\u001b[0m\n\u001b[1;32m      1\u001b[0m \u001b[38;5;28;01mdef\u001b[39;00m \u001b[38;5;21mtablo\u001b[39m(confusion_matrix, index):\n\u001b[0;32m----> 2\u001b[0m     TP\u001b[38;5;241m=\u001b[39mconfusion_matrix[index][index]\n\u001b[1;32m      3\u001b[0m     FN\u001b[38;5;241m=\u001b[39m\u001b[38;5;28msum\u001b[39m(confusion_matrix[index][:index])\u001b[38;5;241m+\u001b[39m\u001b[38;5;28msum\u001b[39m(confusion_matrix[index][index\u001b[38;5;241m+\u001b[39m\u001b[38;5;241m1\u001b[39m:])\n\u001b[1;32m      4\u001b[0m     FP\u001b[38;5;241m=\u001b[39m\u001b[38;5;28msum\u001b[39m(np\u001b[38;5;241m.\u001b[39mtranspose(confusion_matrix)[index][:index])\u001b[38;5;241m+\u001b[39m\u001b[38;5;28msum\u001b[39m(np\u001b[38;5;241m.\u001b[39mtranspose(confusion_matrix)[index][index\u001b[38;5;241m+\u001b[39m\u001b[38;5;241m1\u001b[39m:])\n",
      "\u001b[0;31mIndexError\u001b[0m: index 3 is out of bounds for axis 0 with size 3"
     ]
    }
   ],
   "source": [
    "sensitivity(conf_matrix,3)"
   ]
  },
  {
   "cell_type": "code",
   "execution_count": 49,
   "id": "6501e638",
   "metadata": {},
   "outputs": [
    {
     "data": {
      "image/png": "[encoded data removed]",
      "text/plain": [
       "<Figure size 1500x200 with 1 Axes>"
      ]
     },
     "metadata": {},
     "output_type": "display_data"
    }
   ],
   "source": [
    "gosterTest(1)"
   ]
  },
  {
   "cell_type": "code",
   "execution_count": 50,
   "id": "3ea59518",
   "metadata": {},
   "outputs": [
    {
     "data": {
      "image/png": "[encoded data removed]",
      "text/plain": [
       "<Figure size 1500x200 with 1 Axes>"
      ]
     },
     "metadata": {},
     "output_type": "display_data"
    }
   ],
   "source": [
    "gosterTest(10)"
   ]
  },
  {
   "cell_type": "code",
   "execution_count": 51,
   "id": "7d1e6e8a",
   "metadata": {},
   "outputs": [
    {
     "data": {
      "text/plain": [
       "[2, 2, 2, 2, 2, 2, 2, 2, 0, 2]"
      ]
     },
     "execution_count": 51,
     "metadata": {},
     "output_type": "execute_result"
    }
   ],
   "source": [
    "tahmin_class = [np.argmax(i) for i in tahminler]\n",
    "tahmin_class[10:20]"
   ]
  },
  {
   "cell_type": "code",
   "execution_count": 52,
   "id": "50957a6e",
   "metadata": {},
   "outputs": [
    {
     "data": {
      "text/plain": [
       "array([1, 2, 2, 1, 2, 2, 2, 2, 0, 2])"
      ]
     },
     "execution_count": 52,
     "metadata": {},
     "output_type": "execute_result"
    }
   ],
   "source": [
    "test_labels[10:20]"
   ]
  },
  {
   "cell_type": "code",
   "execution_count": 53,
   "id": "779df0ef",
   "metadata": {},
   "outputs": [
    {
     "name": "stdout",
     "output_type": "stream",
     "text": [
      "              precision    recall  f1-score   support\n",
      "\n",
      "        head       1.00      0.47      0.64        19\n",
      "       other       0.50      0.40      0.44        20\n",
      "       punch       0.67      0.88      0.76        43\n",
      "\n",
      "    accuracy                           0.67        82\n",
      "   macro avg       0.72      0.59      0.62        82\n",
      "weighted avg       0.70      0.67      0.66        82\n",
      "\n"
     ]
    }
   ],
   "source": [
    "print(classification_report(test_labels, tahmin_class,target_names=class_names))"
   ]
  },
  {
   "cell_type": "code",
   "execution_count": null,
   "id": "d2486cd8",
   "metadata": {},
   "outputs": [],
   "source": []
  },
  {
   "cell_type": "code",
   "execution_count": 54,
   "id": "c426238c",
   "metadata": {},
   "outputs": [],
   "source": [
    "model2 = tf.keras.Sequential([\n",
    "    tf.keras.layers.Flatten(input_shape=(128, 128,3)),\n",
    "\n",
    "    tf.keras.layers.Dense(256, activation='relu'),\n",
    "\n",
    "    tf.keras.layers.Dense(10)\n",
    "])\n",
    "\n",
    "#model2.compile(optimizer='adam', loss=tf.keras.losses.SparseCategoricalCrossentropy(from_logits=True), metrics=['accuracy'])\n"
   ]
  },
  {
   "cell_type": "code",
   "execution_count": 56,
   "id": "96f0f259",
   "metadata": {},
   "outputs": [
    {
     "name": "stdout",
     "output_type": "stream",
     "text": [
      "Epoch 1/4\n",
      "8/8 - 0s - loss: 8.1017 - accuracy: 0.1193 - 470ms/epoch - 59ms/step\n",
      "Epoch 2/4\n",
      "8/8 - 0s - loss: 7.9880 - accuracy: 0.1317 - 251ms/epoch - 31ms/step\n",
      "Epoch 3/4\n",
      "8/8 - 0s - loss: 7.9501 - accuracy: 0.1440 - 251ms/epoch - 31ms/step\n",
      "Epoch 4/4\n",
      "8/8 - 0s - loss: 7.9602 - accuracy: 0.1523 - 251ms/epoch - 31ms/step\n",
      "Epoch 1/4\n",
      "8/8 - 0s - loss: 8.5026 - accuracy: 0.1352 - 465ms/epoch - 58ms/step\n",
      "Epoch 2/4\n",
      "8/8 - 0s - loss: 8.5026 - accuracy: 0.1393 - 249ms/epoch - 31ms/step\n",
      "Epoch 3/4\n",
      "8/8 - 0s - loss: 8.5026 - accuracy: 0.1434 - 252ms/epoch - 31ms/step\n",
      "Epoch 4/4\n",
      "8/8 - 0s - loss: 8.7666 - accuracy: 0.1639 - 252ms/epoch - 31ms/step\n",
      "Epoch 1/4\n",
      "8/8 - 0s - loss: 8.0213 - accuracy: 0.1721 - 469ms/epoch - 59ms/step\n",
      "Epoch 2/4\n",
      "8/8 - 0s - loss: 8.0213 - accuracy: 0.1721 - 251ms/epoch - 31ms/step\n",
      "Epoch 3/4\n",
      "8/8 - 0s - loss: 8.0213 - accuracy: 0.1721 - 251ms/epoch - 31ms/step\n",
      "Epoch 4/4\n",
      "8/8 - 0s - loss: 8.0213 - accuracy: 0.1721 - 250ms/epoch - 31ms/step\n",
      "Epoch 1/4\n",
      "8/8 - 0s - loss: 7.9836 - accuracy: 0.1352 - 469ms/epoch - 59ms/step\n",
      "Epoch 2/4\n",
      "8/8 - 0s - loss: 7.9836 - accuracy: 0.1352 - 251ms/epoch - 31ms/step\n",
      "Epoch 3/4\n",
      "8/8 - 0s - loss: 7.9836 - accuracy: 0.1352 - 251ms/epoch - 31ms/step\n",
      "Epoch 4/4\n",
      "8/8 - 0s - loss: 7.9836 - accuracy: 0.1352 - 250ms/epoch - 31ms/step\n"
     ]
    }
   ],
   "source": [
    "sonuc = cross_validation(model2, train_images, train_labels, n_splits=4, epochs=4, batch_size=32)"
   ]
  },
  {
   "cell_type": "code",
   "execution_count": 57,
   "id": "8e47c303",
   "metadata": {},
   "outputs": [
    {
     "ename": "TypeError",
     "evalue": "'NoneType' object is not iterable",
     "output_type": "error",
     "traceback": [
      "\u001b[0;31m---------------------------------------------------------------------------\u001b[0m",
      "\u001b[0;31mTypeError\u001b[0m                                 Traceback (most recent call last)",
      "Cell \u001b[0;32mIn[57], line 1\u001b[0m\n\u001b[0;32m----> 1\u001b[0m \u001b[38;5;28;01mfor\u001b[39;00m i, resul \u001b[38;5;129;01min\u001b[39;00m \u001b[38;5;28menumerate\u001b[39m(sonuc):\n\u001b[1;32m      2\u001b[0m     \u001b[38;5;28mprint\u001b[39m(\u001b[38;5;124mf\u001b[39m\u001b[38;5;124m\"\u001b[39m\u001b[38;5;124mFold \u001b[39m\u001b[38;5;132;01m{\u001b[39;00mi\u001b[38;5;241m+\u001b[39m\u001b[38;5;241m1\u001b[39m\u001b[38;5;132;01m}\u001b[39;00m\u001b[38;5;124m Başarı Değeri:\u001b[39m\u001b[38;5;124m\"\u001b[39m, resul[i])\n",
      "\u001b[0;31mTypeError\u001b[0m: 'NoneType' object is not iterable"
     ]
    }
   ],
   "source": [
    "for i, resul in enumerate(sonuc):\n",
    "    print(f\"Fold {i+1} Başarı Değeri:\", resul[i])"
   ]
  },
  {
   "cell_type": "code",
   "execution_count": 58,
   "id": "4ad9ef1c",
   "metadata": {},
   "outputs": [
    {
     "name": "stdout",
     "output_type": "stream",
     "text": [
      "3/3 [==============================] - 0s 4ms/step - loss: 2.5272 - accuracy: 0.1585\n"
     ]
    },
    {
     "data": {
      "text/plain": [
       "[2.5272276401519775, 0.15853658318519592]"
      ]
     },
     "execution_count": 58,
     "metadata": {},
     "output_type": "execute_result"
    }
   ],
   "source": [
    "model2.evaluate(test_images, test_labels)"
   ]
  },
  {
   "cell_type": "code",
   "execution_count": null,
   "id": "c863be62",
   "metadata": {},
   "outputs": [],
   "source": []
  }
 ],
 "metadata": {
  "kernelspec": {
   "display_name": "Python 3 (ipykernel)",
   "language": "python",
   "name": "python3"
  },
  "language_info": {
   "codemirror_mode": {
    "name": "ipython",
    "version": 3
   },
   "file_extension": ".py",
   "mimetype": "text/x-python",
   "name": "python",
   "nbconvert_exporter": "python",
   "pygments_lexer": "ipython3",
   "version": "3.9.17"
  }
 },
 "nbformat": 4,
 "nbformat_minor": 5
}
