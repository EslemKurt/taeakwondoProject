{
 "cells": [
  {
   "cell_type": "code",
   "execution_count": 21,
   "id": "8911387c",
   "metadata": {},
   "outputs": [],
   "source": [
    "from tensorflow.keras.preprocessing import image\n",
    "import numpy as np\n",
    "import sys\n",
    "import os\n",
    "\n",
    "from tensorflow.keras.applications.vgg16 import VGG16\n",
    "from tensorflow.keras.applications.resnet50 import ResNet50\n",
    "from tensorflow.keras.applications.xception import Xception\n",
    "from tensorflow.keras.applications.inception_v3 import InceptionV3\n",
    "from tensorflow.keras.applications.mobilenet import MobileNet\n",
    "\n",
    "from tensorflow.keras.models import Sequential \n",
    "from tensorflow.keras.layers import Conv2D, MaxPooling2D, LSTM, GRU\n",
    "from tensorflow.keras.layers import Activation, Dropout, Flatten, Dense\n",
    "from tensorflow.keras.layers import TimeDistributed,Bidirectional,GlobalAveragePooling2D\n",
    "from tensorflow.keras.layers import LSTM,GRU,SimpleRNN,BatchNormalization\n",
    "from tensorflow.keras import backend as K \n",
    "from tensorflow.keras.callbacks import ModelCheckpoint\n",
    "from tensorflow.keras.utils import to_categorical\n",
    "from sklearn.metrics import confusion_matrix\n",
    "from sklearn.preprocessing import LabelEncoder\n",
    "from sklearn.model_selection import train_test_split as sp\n",
    "from sklearn.model_selection import StratifiedKFold\n",
    "from sklearn.metrics import roc_auc_score, accuracy_score"
   ]
  },
  {
   "cell_type": "code",
   "execution_count": 22,
   "id": "39061306",
   "metadata": {},
   "outputs": [],
   "source": [
    "import tensorflow as tf\n",
    "\n",
    "import numpy as np\n",
    "import os\n",
    "from tensorflow import keras\n",
    "#import keras\n",
    "from sklearn.metrics import classification_report, confusion_matrix, ConfusionMatrixDisplay\n",
    "from sklearn.model_selection import train_test_split, KFold\n",
    "\n",
    "from tensorflow.keras.preprocessing.image import load_img, img_to_array\n",
    "from sklearn.preprocessing import LabelEncoder\n",
    "from tensorflow.keras import datasets, layers, models\n",
    "import matplotlib.pyplot as plt\n"
   ]
  },
  {
   "cell_type": "code",
   "execution_count": 23,
   "id": "b5019ce7",
   "metadata": {},
   "outputs": [],
   "source": [
    "data_path = \"/home/muhlabws4/Masaüstü/tkd_data/orj\""
   ]
  },
  {
   "cell_type": "code",
   "execution_count": 24,
   "id": "ab6786a0",
   "metadata": {},
   "outputs": [],
   "source": [
    "class_folders = os.listdir(data_path)"
   ]
  },
  {
   "cell_type": "code",
   "execution_count": 41,
   "id": "e01a3345",
   "metadata": {},
   "outputs": [],
   "source": [
    "images = []\n",
    "labels = []"
   ]
  },
  {
   "cell_type": "code",
   "execution_count": 42,
   "id": "3820018e",
   "metadata": {},
   "outputs": [],
   "source": [
    "for i , class_name in enumerate(class_folders):\n",
    "    class_folder_path = os.path.join(data_path, class_name)\n",
    "    class_images = os.listdir(class_folder_path)\n",
    "    \n",
    "    for img_name in class_images:\n",
    "        img_path = os.path.join(class_folder_path, img_name)\n",
    "        img = load_img(img_path, target_size=(180,320))\n",
    "        img_array = img_to_array(img) /255.0\n",
    "        images.append(img_array)\n",
    "        labels.append(class_name)"
   ]
  },
  {
   "cell_type": "code",
   "execution_count": 43,
   "id": "55cc6906",
   "metadata": {},
   "outputs": [],
   "source": [
    "X = np.array(images)\n",
    "y = np.array(labels)"
   ]
  },
  {
   "cell_type": "code",
   "execution_count": 44,
   "id": "d5c77470",
   "metadata": {},
   "outputs": [],
   "source": [
    "label_encoder = LabelEncoder()\n",
    "y_encoder = label_encoder.fit_transform(y)"
   ]
  },
  {
   "cell_type": "code",
   "execution_count": 45,
   "id": "3a84d8bc",
   "metadata": {},
   "outputs": [],
   "source": [
    "X_shuf, y_shuf = X, y_encoder"
   ]
  },
  {
   "cell_type": "code",
   "execution_count": 46,
   "id": "61008221",
   "metadata": {},
   "outputs": [],
   "source": [
    "train_images, test_images, train_labels, test_labels = train_test_split(X_shuf, y_shuf, test_size=0.2, random_state=42)"
   ]
  },
  {
   "cell_type": "code",
   "execution_count": 47,
   "id": "b2c24331",
   "metadata": {},
   "outputs": [
    {
     "name": "stdout",
     "output_type": "stream",
     "text": [
      "(407, 180, 320, 3)\n",
      "(407,)\n",
      "(407,)\n"
     ]
    }
   ],
   "source": [
    "print(X.shape)\n",
    "print(y.shape)\n",
    "print(y_encoder.shape)"
   ]
  },
  {
   "cell_type": "code",
   "execution_count": 48,
   "id": "49b52be2",
   "metadata": {},
   "outputs": [],
   "source": [
    "#class_names = ['head_sb','head_sesor', 'other','punch','rotation']\n",
    "class_names = ['head', 'other','punch']"
   ]
  },
  {
   "cell_type": "code",
   "execution_count": 49,
   "id": "bd21f7b1",
   "metadata": {},
   "outputs": [],
   "source": [
    "img_height=180\n",
    "img_width=320\n",
    "output=3"
   ]
  },
  {
   "cell_type": "code",
   "execution_count": 50,
   "id": "f95352d7",
   "metadata": {},
   "outputs": [],
   "source": [
    "checkpoint_path = \"best_modelI3.hdf5\"\n",
    "checkpoint = ModelCheckpoint(checkpoint_path, \n",
    "                             monitor='val_accuracy', \n",
    "                             verbose=1, \n",
    "                             save_best_only=True,\n",
    "                             mode='max')"
   ]
  },
  {
   "cell_type": "code",
   "execution_count": 51,
   "id": "b3209217",
   "metadata": {},
   "outputs": [],
   "source": [
    "def pretrained_InceptionV3():\n",
    "    base_model = InceptionV3(weights=\"imagenet\", include_top=False, input_shape = (img_height,img_width,3))\n",
    "    base_model.trainable = True ## Not trainable weights\n",
    "    flatten_layer = Flatten()\n",
    "    dense_layer_1 = Dense(256, activation='relu')\n",
    "    #dense_layer_2 = Dense(20, activation='relu')\n",
    "    prediction_layer = Dense(output, activation='softmax')\n",
    "    \n",
    "    model = Sequential([\n",
    "      base_model,\n",
    "      flatten_layer,\n",
    "      dense_layer_1,\n",
    "      #dense_layer_2,\n",
    "      prediction_layer\n",
    "      ])\n",
    "    \n",
    "    model.compile(\n",
    "        optimizer='adam',\n",
    "        loss='sparse_categorical_crossentropy',\n",
    "        metrics=['accuracy'],\n",
    "        )\n",
    "    \n",
    "    return model"
   ]
  },
  {
   "cell_type": "code",
   "execution_count": 52,
   "id": "245c9849",
   "metadata": {},
   "outputs": [],
   "source": [
    "def cross_validation(model, X, y, n_splits=5, epochs=5, batch_size=32):\n",
    "    kfold = KFold(n_splits=n_splits, shuffle=True, random_state=42)\n",
    "    #model.compile(optimizer='adam', loss='sparse_categorical_crossentropy', metrics=['accuracy'])\n",
    "    #result = []\n",
    "    for train_inx, val_inx in kfold.split(X):\n",
    "        X_train, X_val = X[train_inx], X[val_inx]\n",
    "        y_train, y_val = y[train_inx], y[val_inx]\n",
    "        \n",
    "        model.compile(optimizer='adam', loss='sparse_categorical_crossentropy', metrics=['accuracy'])\n",
    "        a = model.fit(X_train, y_train, epochs=epochs, batch_size=batch_size, verbose=2, class_weight={0:7,1:10,2:22},callbacks=[checkpoint])\n",
    "        #model.fit(X_train, y_train, epochs=epochs)\n",
    "        #result.append(a.history['val_accuracy'])\n",
    "        \n",
    "    #return result"
   ]
  },
  {
   "cell_type": "code",
   "execution_count": 53,
   "id": "06467476",
   "metadata": {},
   "outputs": [],
   "source": [
    "def gosterTrain(index):\n",
    "    plt.figure(figsize=(15,2))\n",
    "    plt.imshow(train_images[index])\n",
    "    plt.title(class_names[train_labels[index]])"
   ]
  },
  {
   "cell_type": "code",
   "execution_count": 54,
   "id": "8fa0754e",
   "metadata": {},
   "outputs": [],
   "source": [
    "def gosterTest(index):\n",
    "    plt.figure(figsize=(15,2))\n",
    "    plt.imshow(test_images[index])\n",
    "    plt.title(class_names[test_labels[index]])"
   ]
  },
  {
   "cell_type": "code",
   "execution_count": 55,
   "id": "3d89d77c",
   "metadata": {},
   "outputs": [
    {
     "data": {
      "image/png": "[encoded data removed]",
      "text/plain": [
       "<Figure size 1500x200 with 1 Axes>"
      ]
     },
     "metadata": {},
     "output_type": "display_data"
    }
   ],
   "source": [
    "gosterTrain(10)"
   ]
  },
  {
   "cell_type": "code",
   "execution_count": 56,
   "id": "f8c542be",
   "metadata": {},
   "outputs": [
    {
     "data": {
      "image/png": "[encoded data removed]",
      "text/plain": [
       "<Figure size 1500x200 with 1 Axes>"
      ]
     },
     "metadata": {},
     "output_type": "display_data"
    }
   ],
   "source": [
    "gosterTest(7)"
   ]
  },
  {
   "cell_type": "code",
   "execution_count": 59,
   "id": "ea9cc2d3",
   "metadata": {},
   "outputs": [
    {
     "name": "stdout",
     "output_type": "stream",
     "text": [
      "Epoch 1/15\n",
      "WARNING:tensorflow:Can save best model only with val_accuracy available, skipping.\n",
      "6/6 - 12s - loss: 355.8607 - accuracy: 0.3827 - 12s/epoch - 2s/step\n",
      "Epoch 2/15\n",
      "WARNING:tensorflow:Can save best model only with val_accuracy available, skipping.\n",
      "6/6 - 4s - loss: 149.1945 - accuracy: 0.5926 - 4s/epoch - 731ms/step\n",
      "Epoch 3/15\n",
      "WARNING:tensorflow:Can save best model only with val_accuracy available, skipping.\n",
      "6/6 - 5s - loss: 26.4092 - accuracy: 0.6914 - 5s/epoch - 751ms/step\n",
      "Epoch 4/15\n",
      "WARNING:tensorflow:Can save best model only with val_accuracy available, skipping.\n",
      "6/6 - 4s - loss: 63.5734 - accuracy: 0.6543 - 4s/epoch - 733ms/step\n",
      "Epoch 5/15\n",
      "WARNING:tensorflow:Can save best model only with val_accuracy available, skipping.\n",
      "6/6 - 4s - loss: 18.2756 - accuracy: 0.5864 - 4s/epoch - 735ms/step\n",
      "Epoch 6/15\n",
      "WARNING:tensorflow:Can save best model only with val_accuracy available, skipping.\n",
      "6/6 - 4s - loss: 17.4514 - accuracy: 0.5802 - 4s/epoch - 728ms/step\n",
      "Epoch 7/15\n",
      "WARNING:tensorflow:Can save best model only with val_accuracy available, skipping.\n",
      "6/6 - 4s - loss: 12.1339 - accuracy: 0.5556 - 4s/epoch - 729ms/step\n",
      "Epoch 8/15\n",
      "WARNING:tensorflow:Can save best model only with val_accuracy available, skipping.\n",
      "6/6 - 4s - loss: 10.2197 - accuracy: 0.5679 - 4s/epoch - 744ms/step\n",
      "Epoch 9/15\n",
      "WARNING:tensorflow:Can save best model only with val_accuracy available, skipping.\n",
      "6/6 - 4s - loss: 10.3525 - accuracy: 0.5556 - 4s/epoch - 738ms/step\n",
      "Epoch 10/15\n",
      "WARNING:tensorflow:Can save best model only with val_accuracy available, skipping.\n",
      "6/6 - 4s - loss: 9.5899 - accuracy: 0.5556 - 4s/epoch - 739ms/step\n",
      "Epoch 11/15\n",
      "WARNING:tensorflow:Can save best model only with val_accuracy available, skipping.\n",
      "6/6 - 4s - loss: 9.1153 - accuracy: 0.5617 - 4s/epoch - 749ms/step\n",
      "Epoch 12/15\n",
      "WARNING:tensorflow:Can save best model only with val_accuracy available, skipping.\n",
      "6/6 - 5s - loss: 9.4542 - accuracy: 0.5617 - 5s/epoch - 780ms/step\n",
      "Epoch 13/15\n",
      "WARNING:tensorflow:Can save best model only with val_accuracy available, skipping.\n",
      "6/6 - 5s - loss: 11.1304 - accuracy: 0.5432 - 5s/epoch - 771ms/step\n",
      "Epoch 14/15\n",
      "WARNING:tensorflow:Can save best model only with val_accuracy available, skipping.\n",
      "6/6 - 5s - loss: 12.1159 - accuracy: 0.5494 - 5s/epoch - 780ms/step\n",
      "Epoch 15/15\n",
      "WARNING:tensorflow:Can save best model only with val_accuracy available, skipping.\n",
      "6/6 - 5s - loss: 12.0377 - accuracy: 0.5494 - 5s/epoch - 777ms/step\n",
      "Epoch 1/15\n",
      "WARNING:tensorflow:Can save best model only with val_accuracy available, skipping.\n",
      "6/6 - 12s - loss: 17.1065 - accuracy: 0.5583 - 12s/epoch - 2s/step\n",
      "Epoch 2/15\n",
      "WARNING:tensorflow:Can save best model only with val_accuracy available, skipping.\n",
      "6/6 - 4s - loss: 11.6030 - accuracy: 0.6748 - 4s/epoch - 743ms/step\n",
      "Epoch 3/15\n",
      "WARNING:tensorflow:Can save best model only with val_accuracy available, skipping.\n",
      "6/6 - 5s - loss: 10.0595 - accuracy: 0.6626 - 5s/epoch - 762ms/step\n",
      "Epoch 4/15\n",
      "WARNING:tensorflow:Can save best model only with val_accuracy available, skipping.\n",
      "6/6 - 5s - loss: 9.3057 - accuracy: 0.6810 - 5s/epoch - 774ms/step\n",
      "Epoch 5/15\n",
      "WARNING:tensorflow:Can save best model only with val_accuracy available, skipping.\n",
      "6/6 - 5s - loss: 9.3708 - accuracy: 0.6871 - 5s/epoch - 781ms/step\n",
      "Epoch 6/15\n",
      "WARNING:tensorflow:Can save best model only with val_accuracy available, skipping.\n",
      "6/6 - 5s - loss: 9.6501 - accuracy: 0.6626 - 5s/epoch - 768ms/step\n",
      "Epoch 7/15\n",
      "WARNING:tensorflow:Can save best model only with val_accuracy available, skipping.\n",
      "6/6 - 5s - loss: 9.5920 - accuracy: 0.6442 - 5s/epoch - 778ms/step\n",
      "Epoch 8/15\n",
      "WARNING:tensorflow:Can save best model only with val_accuracy available, skipping.\n",
      "6/6 - 5s - loss: 11.6210 - accuracy: 0.6687 - 5s/epoch - 789ms/step\n",
      "Epoch 9/15\n",
      "WARNING:tensorflow:Can save best model only with val_accuracy available, skipping.\n",
      "6/6 - 5s - loss: 10.9035 - accuracy: 0.6564 - 5s/epoch - 789ms/step\n",
      "Epoch 10/15\n",
      "WARNING:tensorflow:Can save best model only with val_accuracy available, skipping.\n",
      "6/6 - 5s - loss: 9.9242 - accuracy: 0.6810 - 5s/epoch - 778ms/step\n",
      "Epoch 11/15\n",
      "WARNING:tensorflow:Can save best model only with val_accuracy available, skipping.\n",
      "6/6 - 5s - loss: 9.9499 - accuracy: 0.6626 - 5s/epoch - 779ms/step\n",
      "Epoch 12/15\n",
      "WARNING:tensorflow:Can save best model only with val_accuracy available, skipping.\n",
      "6/6 - 5s - loss: 10.8624 - accuracy: 0.6626 - 5s/epoch - 784ms/step\n",
      "Epoch 13/15\n",
      "WARNING:tensorflow:Can save best model only with val_accuracy available, skipping.\n",
      "6/6 - 5s - loss: 10.1619 - accuracy: 0.6564 - 5s/epoch - 781ms/step\n",
      "Epoch 14/15\n",
      "WARNING:tensorflow:Can save best model only with val_accuracy available, skipping.\n",
      "6/6 - 5s - loss: 9.5942 - accuracy: 0.6810 - 5s/epoch - 793ms/step\n",
      "Epoch 15/15\n",
      "WARNING:tensorflow:Can save best model only with val_accuracy available, skipping.\n",
      "6/6 - 5s - loss: 10.1577 - accuracy: 0.6626 - 5s/epoch - 787ms/step\n"
     ]
    }
   ],
   "source": [
    "modelIV3 = pretrained_InceptionV3()\n",
    "result = cross_validation(modelIV3, train_images, train_labels, n_splits=2, epochs=15, batch_size=32)"
   ]
  },
  {
   "cell_type": "code",
   "execution_count": 61,
   "id": "4ab6db58",
   "metadata": {},
   "outputs": [
    {
     "name": "stdout",
     "output_type": "stream",
     "text": [
      "3/3 [==============================] - 1s 165ms/step - loss: 1.2142 - accuracy: 0.4756\n"
     ]
    },
    {
     "data": {
      "text/plain": [
       "[1.2142287492752075, 0.47560974955558777]"
      ]
     },
     "execution_count": 61,
     "metadata": {},
     "output_type": "execute_result"
    }
   ],
   "source": [
    "modelIV3.evaluate(test_images, test_labels)"
   ]
  },
  {
   "cell_type": "code",
   "execution_count": 63,
   "id": "bfa3dcca",
   "metadata": {},
   "outputs": [
    {
     "name": "stdout",
     "output_type": "stream",
     "text": [
      "3/3 [==============================] - 2s 166ms/step\n"
     ]
    }
   ],
   "source": [
    "tahminlerIV3 = modelIV3.predict(test_images)"
   ]
  },
  {
   "cell_type": "code",
   "execution_count": 79,
   "id": "fadb3fd4",
   "metadata": {},
   "outputs": [
    {
     "name": "stderr",
     "output_type": "stream",
     "text": [
      "/home/muhlabws4/anaconda3/lib/python3.11/site-packages/keras/src/engine/training.py:3000: UserWarning: You are saving your model as an HDF5 file via `model.save()`. This file format is considered legacy. We recommend using instead the native Keras format, e.g. `model.save('my_model.keras')`.\n",
      "  saving_api.save_model(\n"
     ]
    }
   ],
   "source": [
    "modelIV3.save(checkpoint_path)"
   ]
  },
  {
   "cell_type": "code",
   "execution_count": 64,
   "id": "970c625c",
   "metadata": {},
   "outputs": [],
   "source": [
    "y_pred_classes = np.argmax(tahminlerIV3,axis=1)"
   ]
  },
  {
   "cell_type": "code",
   "execution_count": 65,
   "id": "486bcede",
   "metadata": {},
   "outputs": [
    {
     "data": {
      "text/plain": [
       "array([[0.32460815, 0.33007044, 0.3453214 ],\n",
       "       [0.32460815, 0.33007044, 0.3453214 ],\n",
       "       [0.32460815, 0.33007044, 0.3453214 ],\n",
       "       [0.32460815, 0.33007044, 0.3453214 ],\n",
       "       [0.32460815, 0.33007044, 0.3453214 ],\n",
       "       [0.5459261 , 0.0826096 , 0.37146437],\n",
       "       [0.32460815, 0.33007044, 0.3453214 ]], dtype=float32)"
      ]
     },
     "execution_count": 65,
     "metadata": {},
     "output_type": "execute_result"
    }
   ],
   "source": [
    "tahminlerIV3[:7]"
   ]
  },
  {
   "cell_type": "code",
   "execution_count": 66,
   "id": "e0a53c0c",
   "metadata": {},
   "outputs": [
    {
     "data": {
      "text/plain": [
       "2"
      ]
     },
     "execution_count": 66,
     "metadata": {},
     "output_type": "execute_result"
    }
   ],
   "source": [
    "np.argmax(tahminlerIV3[9])"
   ]
  },
  {
   "cell_type": "code",
   "execution_count": 67,
   "id": "cc0ca1a9",
   "metadata": {},
   "outputs": [
    {
     "data": {
      "text/plain": [
       "array([0, 2, 2, 0, 0, 2, 2, 1, 2, 2, 1, 2, 2, 1, 2, 2, 2, 2, 0, 2, 0, 1,\n",
       "       2, 2, 2, 1, 2, 2, 2, 0, 2, 2, 0, 2, 2, 2, 0, 1, 2, 1, 1, 1, 2, 2,\n",
       "       2, 1, 0, 1, 2, 2, 2, 0, 2, 0, 1, 1, 0, 0, 0, 2, 0, 2, 0, 2, 1, 2,\n",
       "       1, 2, 0, 2, 2, 1, 2, 2, 2, 0, 0, 2, 1, 1, 1, 1])"
      ]
     },
     "execution_count": 67,
     "metadata": {},
     "output_type": "execute_result"
    }
   ],
   "source": [
    "test_labels"
   ]
  },
  {
   "cell_type": "code",
   "execution_count": 68,
   "id": "da0394a1",
   "metadata": {},
   "outputs": [
    {
     "data": {
      "text/plain": [
       "array([2, 2, 2, 2, 2, 0, 2, 2, 2, 2, 2, 2, 0, 2, 2, 2, 2, 2, 2, 2, 2, 2,\n",
       "       2, 2, 2, 0, 2, 2, 2, 2, 2, 2, 2, 2, 2, 0, 2, 2, 2, 2, 2, 2, 2, 2,\n",
       "       2, 0, 2, 0, 0, 0, 2, 2, 0, 2, 2, 2, 0, 2, 2, 2, 2, 2, 2, 2, 2, 2,\n",
       "       2, 2, 0, 2, 2, 0, 2, 2, 2, 2, 2, 2, 0, 0, 2, 0])"
      ]
     },
     "execution_count": 68,
     "metadata": {},
     "output_type": "execute_result"
    }
   ],
   "source": [
    "y_pred_classes"
   ]
  },
  {
   "cell_type": "code",
   "execution_count": 69,
   "id": "2304a465",
   "metadata": {},
   "outputs": [
    {
     "name": "stdout",
     "output_type": "stream",
     "text": [
      "              precision    recall  f1-score   support\n",
      "\n",
      "           0       0.13      0.11      0.12        19\n",
      "           1       0.00      0.00      0.00        20\n",
      "           2       0.55      0.86      0.67        43\n",
      "\n",
      "    accuracy                           0.48        82\n",
      "   macro avg       0.23      0.32      0.26        82\n",
      "weighted avg       0.32      0.48      0.38        82\n",
      "\n"
     ]
    },
    {
     "name": "stderr",
     "output_type": "stream",
     "text": [
      "/home/muhlabws4/anaconda3/lib/python3.11/site-packages/sklearn/metrics/_classification.py:1469: UndefinedMetricWarning: Precision and F-score are ill-defined and being set to 0.0 in labels with no predicted samples. Use `zero_division` parameter to control this behavior.\n",
      "  _warn_prf(average, modifier, msg_start, len(result))\n",
      "/home/muhlabws4/anaconda3/lib/python3.11/site-packages/sklearn/metrics/_classification.py:1469: UndefinedMetricWarning: Precision and F-score are ill-defined and being set to 0.0 in labels with no predicted samples. Use `zero_division` parameter to control this behavior.\n",
      "  _warn_prf(average, modifier, msg_start, len(result))\n",
      "/home/muhlabws4/anaconda3/lib/python3.11/site-packages/sklearn/metrics/_classification.py:1469: UndefinedMetricWarning: Precision and F-score are ill-defined and being set to 0.0 in labels with no predicted samples. Use `zero_division` parameter to control this behavior.\n",
      "  _warn_prf(average, modifier, msg_start, len(result))\n"
     ]
    }
   ],
   "source": [
    "print(classification_report(test_labels, y_pred_classes))"
   ]
  },
  {
   "cell_type": "code",
   "execution_count": 72,
   "id": "e6e3d264",
   "metadata": {},
   "outputs": [],
   "source": [
    "conf_matrix = confusion_matrix(test_labels, y_pred_classes)"
   ]
  },
  {
   "cell_type": "code",
   "execution_count": 73,
   "id": "463e31a0",
   "metadata": {},
   "outputs": [
    {
     "name": "stdout",
     "output_type": "stream",
     "text": [
      "[[ 2  0 17]\n",
      " [ 7  0 13]\n",
      " [ 6  0 37]]\n"
     ]
    }
   ],
   "source": [
    "print(conf_matrix)"
   ]
  },
  {
   "cell_type": "code",
   "execution_count": 75,
   "id": "a2faa1fd",
   "metadata": {},
   "outputs": [],
   "source": [
    "cm_display = ConfusionMatrixDisplay(confusion_matrix = conf_matrix)"
   ]
  },
  {
   "cell_type": "code",
   "execution_count": 76,
   "id": "3d452628",
   "metadata": {},
   "outputs": [
    {
     "data": {
      "image/png": "[encoded data removed]",
      "text/plain": [
       "<Figure size 640x480 with 2 Axes>"
      ]
     },
     "metadata": {},
     "output_type": "display_data"
    }
   ],
   "source": [
    "cm_display.plot()\n",
    "plt.show() "
   ]
  },
  {
   "cell_type": "code",
   "execution_count": null,
   "id": "36360151",
   "metadata": {},
   "outputs": [],
   "source": []
  }
 ],
 "metadata": {
  "kernelspec": {
   "display_name": "Python 3 (ipykernel)",
   "language": "python",
   "name": "python3"
  },
  "language_info": {
   "codemirror_mode": {
    "name": "ipython",
    "version": 3
   },
   "file_extension": ".py",
   "mimetype": "text/x-python",
   "name": "python",
   "nbconvert_exporter": "python",
   "pygments_lexer": "ipython3",
   "version": "3.11.4"
  }
 },
 "nbformat": 4,
 "nbformat_minor": 5
}
