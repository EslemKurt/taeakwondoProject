{
 "cells": [
  {
   "cell_type": "code",
   "execution_count": 1,
   "id": "8911387c",
   "metadata": {},
   "outputs": [
    {
     "name": "stderr",
     "output_type": "stream",
     "text": [
      "2024-05-02 13:25:31.693036: I tensorflow/core/util/port.cc:110] oneDNN custom operations are on. You may see slightly different numerical results due to floating-point round-off errors from different computation orders. To turn them off, set the environment variable `TF_ENABLE_ONEDNN_OPTS=0`.\n",
      "2024-05-02 13:25:31.697653: I tensorflow/tsl/cuda/cudart_stub.cc:28] Could not find cuda drivers on your machine, GPU will not be used.\n",
      "2024-05-02 13:25:31.766873: I tensorflow/tsl/cuda/cudart_stub.cc:28] Could not find cuda drivers on your machine, GPU will not be used.\n",
      "2024-05-02 13:25:31.768714: I tensorflow/core/platform/cpu_feature_guard.cc:182] This TensorFlow binary is optimized to use available CPU instructions in performance-critical operations.\n",
      "To enable the following instructions: AVX2 AVX_VNNI FMA, in other operations, rebuild TensorFlow with the appropriate compiler flags.\n"
     ]
    }
   ],
   "source": [
    "from tensorflow.keras.preprocessing import image\n",
    "import numpy as np\n",
    "import sys\n",
    "import os\n",
    "\n",
    "from tensorflow.keras.applications.vgg16 import VGG16\n",
    "from tensorflow.keras.applications.resnet50 import ResNet50\n",
    "from tensorflow.keras.applications.xception import Xception\n",
    "from tensorflow.keras.applications.inception_v3 import InceptionV3\n",
    "from tensorflow.keras.applications.mobilenet import MobileNet\n",
    "\n",
    "from tensorflow.keras.models import Sequential \n",
    "from tensorflow.keras.layers import Conv2D, MaxPooling2D, LSTM, GRU\n",
    "from tensorflow.keras.layers import Activation, Dropout, Flatten, Dense\n",
    "from tensorflow.keras.layers import TimeDistributed,Bidirectional,GlobalAveragePooling2D\n",
    "from tensorflow.keras.layers import LSTM,GRU,SimpleRNN,BatchNormalization\n",
    "from tensorflow.keras import backend as K \n",
    "from tensorflow.keras.callbacks import ModelCheckpoint\n",
    "from tensorflow.keras.utils import to_categorical\n",
    "from sklearn.metrics import confusion_matrix\n",
    "from sklearn.preprocessing import LabelEncoder\n",
    "from sklearn.model_selection import train_test_split as sp\n",
    "from sklearn.model_selection import StratifiedKFold\n",
    "from sklearn.metrics import roc_auc_score, accuracy_score"
   ]
  },
  {
   "cell_type": "code",
   "execution_count": 2,
   "id": "39061306",
   "metadata": {},
   "outputs": [],
   "source": [
    "import tensorflow as tf\n",
    "\n",
    "import numpy as np\n",
    "import os\n",
    "from tensorflow import keras\n",
    "#import keras\n",
    "from sklearn.metrics import classification_report, confusion_matrix, ConfusionMatrixDisplay\n",
    "from sklearn.model_selection import train_test_split, KFold\n",
    "\n",
    "from tensorflow.keras.preprocessing.image import load_img, img_to_array\n",
    "from sklearn.preprocessing import LabelEncoder\n",
    "from tensorflow.keras import datasets, layers, models\n",
    "import matplotlib.pyplot as plt\n"
   ]
  },
  {
   "cell_type": "code",
   "execution_count": 3,
   "id": "b5019ce7",
   "metadata": {},
   "outputs": [],
   "source": [
    "data_path = \"/home/muhlabws4/Masaüstü/tkd_data/orj\""
   ]
  },
  {
   "cell_type": "code",
   "execution_count": 4,
   "id": "ab6786a0",
   "metadata": {},
   "outputs": [],
   "source": [
    "class_folders = os.listdir(data_path)"
   ]
  },
  {
   "cell_type": "code",
   "execution_count": 5,
   "id": "e01a3345",
   "metadata": {},
   "outputs": [],
   "source": [
    "images = []\n",
    "labels = []"
   ]
  },
  {
   "cell_type": "code",
   "execution_count": 6,
   "id": "3820018e",
   "metadata": {},
   "outputs": [],
   "source": [
    "for i , class_name in enumerate(class_folders):\n",
    "    class_folder_path = os.path.join(data_path, class_name)\n",
    "    class_images = os.listdir(class_folder_path)\n",
    "    \n",
    "    for img_name in class_images:\n",
    "        img_path = os.path.join(class_folder_path, img_name)\n",
    "        img = load_img(img_path, target_size=(180,320))\n",
    "        img_array = img_to_array(img) /255.0\n",
    "        images.append(img_array)\n",
    "        labels.append(class_name)"
   ]
  },
  {
   "cell_type": "code",
   "execution_count": 7,
   "id": "55cc6906",
   "metadata": {},
   "outputs": [],
   "source": [
    "X = np.array(images)\n",
    "y = np.array(labels)"
   ]
  },
  {
   "cell_type": "code",
   "execution_count": 8,
   "id": "d5c77470",
   "metadata": {},
   "outputs": [],
   "source": [
    "label_encoder = LabelEncoder()\n",
    "y_encoder = label_encoder.fit_transform(y)"
   ]
  },
  {
   "cell_type": "code",
   "execution_count": 9,
   "id": "3a84d8bc",
   "metadata": {},
   "outputs": [],
   "source": [
    "X_shuf, y_shuf = X, y_encoder"
   ]
  },
  {
   "cell_type": "code",
   "execution_count": 10,
   "id": "61008221",
   "metadata": {},
   "outputs": [],
   "source": [
    "train_images, test_images, train_labels, test_labels = train_test_split(X_shuf, y_shuf, test_size=0.2, random_state=42)"
   ]
  },
  {
   "cell_type": "code",
   "execution_count": 11,
   "id": "b2c24331",
   "metadata": {},
   "outputs": [
    {
     "name": "stdout",
     "output_type": "stream",
     "text": [
      "(407, 180, 320, 3)\n",
      "(407,)\n",
      "(407,)\n"
     ]
    }
   ],
   "source": [
    "print(X.shape)\n",
    "print(y.shape)\n",
    "print(y_encoder.shape)"
   ]
  },
  {
   "cell_type": "code",
   "execution_count": 12,
   "id": "49b52be2",
   "metadata": {},
   "outputs": [],
   "source": [
    "#class_names = ['head_sb','head_sesor', 'other','punch','rotation']\n",
    "class_names = ['head', 'other','punch']"
   ]
  },
  {
   "cell_type": "code",
   "execution_count": 13,
   "id": "bd21f7b1",
   "metadata": {},
   "outputs": [],
   "source": [
    "img_height=180\n",
    "img_width=320\n",
    "output=3"
   ]
  },
  {
   "cell_type": "code",
   "execution_count": 14,
   "id": "f95352d7",
   "metadata": {},
   "outputs": [],
   "source": [
    "checkpoint_path = \"best_modelX.hdf5\"\n",
    "checkpoint = ModelCheckpoint(checkpoint_path, \n",
    "                             monitor='val_accuracy', \n",
    "                             verbose=1, \n",
    "                             save_best_only=True,\n",
    "                             mode='max')"
   ]
  },
  {
   "cell_type": "code",
   "execution_count": 15,
   "id": "b3209217",
   "metadata": {},
   "outputs": [],
   "source": [
    "def pretrained_Xception():\n",
    "    base_model = Xception(weights=\"imagenet\", include_top=False, input_shape = (img_height,img_width,3))\n",
    "    base_model.trainable = True ## Not trainable weights\n",
    "    flatten_layer = Flatten()\n",
    "    dense_layer_1 = Dense(256, activation='relu')\n",
    "    #dense_layer_2 = Dense(20, activation='relu')\n",
    "    prediction_layer = Dense(output, activation='softmax')\n",
    "    \n",
    "    model = Sequential([\n",
    "      base_model,\n",
    "      flatten_layer,\n",
    "      dense_layer_1,\n",
    "      #dense_layer_2,\n",
    "      prediction_layer\n",
    "      ])\n",
    "    \n",
    "    model.compile(\n",
    "        optimizer='adam',\n",
    "        loss='sparse_categorical_crossentropy', #değiştirrr\n",
    "        metrics=['accuracy'],\n",
    "        )\n",
    "    \n",
    "    return model"
   ]
  },
  {
   "cell_type": "code",
   "execution_count": 16,
   "id": "245c9849",
   "metadata": {},
   "outputs": [],
   "source": [
    "\n",
    "def cross_validation(model, X, y, n_splits=5, epochs=5, batch_size=32):\n",
    "    kfold = KFold(n_splits=n_splits, shuffle=True, random_state=42)\n",
    "    #model.compile(optimizer='adam', loss='sparse_categorical_crossentropy', metrics=['accuracy'])\n",
    "    #result = []\n",
    "    for train_inx, val_inx in kfold.split(X):\n",
    "        X_train, X_val = X[train_inx], X[val_inx]\n",
    "        y_train, y_val = y[train_inx], y[val_inx]\n",
    "        \n",
    "        \n",
    "        model.compile(optimizer='adam', loss='sparse_categorical_crossentropy', metrics=['accuracy'])\n",
    "        a = model.fit(X_train, y_train, epochs=epochs, batch_size=batch_size, verbose=2, class_weight={0:7,1:17,2:22},callbacks=[checkpoint])\n",
    "        #model.fit(X_train, y_train, epochs=epochs)\n",
    "        #result.append(a.history['val_accuracy'])\n",
    "        \n",
    "    #return result"
   ]
  },
  {
   "cell_type": "code",
   "execution_count": 17,
   "id": "06467476",
   "metadata": {},
   "outputs": [],
   "source": [
    "def gosterTrain(index):\n",
    "    plt.figure(figsize=(15,2))\n",
    "    plt.imshow(train_images[index])\n",
    "    plt.title(class_names[train_labels[index]])"
   ]
  },
  {
   "cell_type": "code",
   "execution_count": 18,
   "id": "8fa0754e",
   "metadata": {},
   "outputs": [],
   "source": [
    "def gosterTest(index):\n",
    "    plt.figure(figsize=(15,2))\n",
    "    plt.imshow(test_images[index])\n",
    "    plt.title(class_names[test_labels[index]])"
   ]
  },
  {
   "cell_type": "code",
   "execution_count": 19,
   "id": "3d89d77c",
   "metadata": {},
   "outputs": [
    {
     "data": {
      "image/png": "[encoded data removed]",
      "text/plain": [
       "<Figure size 1500x200 with 1 Axes>"
      ]
     },
     "metadata": {},
     "output_type": "display_data"
    }
   ],
   "source": [
    "gosterTrain(10)"
   ]
  },
  {
   "cell_type": "code",
   "execution_count": 20,
   "id": "f8c542be",
   "metadata": {
    "scrolled": true
   },
   "outputs": [
    {
     "data": {
      "image/png": "[encoded data removed]",
      "text/plain": [
       "<Figure size 1500x200 with 1 Axes>"
      ]
     },
     "metadata": {},
     "output_type": "display_data"
    }
   ],
   "source": [
    "gosterTest(7)"
   ]
  },
  {
   "cell_type": "code",
   "execution_count": 21,
   "id": "a74a9f2b",
   "metadata": {},
   "outputs": [
    {
     "name": "stderr",
     "output_type": "stream",
     "text": [
      "2024-05-02 13:12:34.318080: I tensorflow/compiler/xla/stream_executor/cuda/cuda_gpu_executor.cc:995] successful NUMA node read from SysFS had negative value (-1), but there must be at least one NUMA node, so returning NUMA node zero. See more at https://github.com/torvalds/linux/blob/v6.0/Documentation/ABI/testing/sysfs-bus-pci#L344-L355\n",
      "2024-05-02 13:12:34.321055: W tensorflow/core/common_runtime/gpu/gpu_device.cc:1960] Cannot dlopen some GPU libraries. Please make sure the missing libraries mentioned above are installed properly if you would like to use GPU. Follow the guide at https://www.tensorflow.org/install/gpu for how to download and setup the required libraries for your platform.\n",
      "Skipping registering GPU devices...\n"
     ]
    },
    {
     "name": "stdout",
     "output_type": "stream",
     "text": [
      "Epoch 1/8\n",
      "WARNING:tensorflow:Can save best model only with val_accuracy available, skipping.\n",
      "7/7 - 19s - loss: 42.9177 - accuracy: 0.5139 - 19s/epoch - 3s/step\n",
      "Epoch 2/8\n",
      "WARNING:tensorflow:Can save best model only with val_accuracy available, skipping.\n",
      "7/7 - 13s - loss: 19.4899 - accuracy: 0.5833 - 13s/epoch - 2s/step\n",
      "Epoch 3/8\n",
      "WARNING:tensorflow:Can save best model only with val_accuracy available, skipping.\n",
      "7/7 - 13s - loss: 19.0485 - accuracy: 0.5833 - 13s/epoch - 2s/step\n",
      "Epoch 4/8\n",
      "WARNING:tensorflow:Can save best model only with val_accuracy available, skipping.\n",
      "7/7 - 13s - loss: 18.6085 - accuracy: 0.5833 - 13s/epoch - 2s/step\n",
      "Epoch 5/8\n",
      "WARNING:tensorflow:Can save best model only with val_accuracy available, skipping.\n",
      "7/7 - 13s - loss: 18.1823 - accuracy: 0.5833 - 13s/epoch - 2s/step\n",
      "Epoch 6/8\n",
      "WARNING:tensorflow:Can save best model only with val_accuracy available, skipping.\n",
      "7/7 - 13s - loss: 17.7720 - accuracy: 0.5833 - 13s/epoch - 2s/step\n",
      "Epoch 7/8\n",
      "WARNING:tensorflow:Can save best model only with val_accuracy available, skipping.\n",
      "7/7 - 14s - loss: 17.3688 - accuracy: 0.5833 - 14s/epoch - 2s/step\n",
      "Epoch 8/8\n",
      "WARNING:tensorflow:Can save best model only with val_accuracy available, skipping.\n",
      "7/7 - 15s - loss: 16.9954 - accuracy: 0.5833 - 15s/epoch - 2s/step\n",
      "Epoch 1/8\n",
      "WARNING:tensorflow:Can save best model only with val_accuracy available, skipping.\n",
      "7/7 - 22s - loss: 16.8770 - accuracy: 0.5392 - 22s/epoch - 3s/step\n",
      "Epoch 2/8\n",
      "WARNING:tensorflow:Can save best model only with val_accuracy available, skipping.\n",
      "7/7 - 15s - loss: 16.3735 - accuracy: 0.5392 - 15s/epoch - 2s/step\n",
      "Epoch 3/8\n",
      "WARNING:tensorflow:Can save best model only with val_accuracy available, skipping.\n",
      "7/7 - 13s - loss: 15.9762 - accuracy: 0.5392 - 13s/epoch - 2s/step\n",
      "Epoch 4/8\n",
      "WARNING:tensorflow:Can save best model only with val_accuracy available, skipping.\n",
      "7/7 - 13s - loss: 15.5953 - accuracy: 0.5392 - 13s/epoch - 2s/step\n",
      "Epoch 5/8\n",
      "WARNING:tensorflow:Can save best model only with val_accuracy available, skipping.\n",
      "7/7 - 13s - loss: 15.2946 - accuracy: 0.5392 - 13s/epoch - 2s/step\n",
      "Epoch 6/8\n",
      "WARNING:tensorflow:Can save best model only with val_accuracy available, skipping.\n",
      "7/7 - 13s - loss: 15.1124 - accuracy: 0.5392 - 13s/epoch - 2s/step\n",
      "Epoch 7/8\n",
      "WARNING:tensorflow:Can save best model only with val_accuracy available, skipping.\n",
      "7/7 - 13s - loss: 14.9315 - accuracy: 0.5392 - 13s/epoch - 2s/step\n",
      "Epoch 8/8\n",
      "WARNING:tensorflow:Can save best model only with val_accuracy available, skipping.\n",
      "7/7 - 13s - loss: 14.8252 - accuracy: 0.5392 - 13s/epoch - 2s/step\n",
      "Epoch 1/8\n",
      "WARNING:tensorflow:Can save best model only with val_accuracy available, skipping.\n",
      "7/7 - 18s - loss: 14.4845 - accuracy: 0.5484 - 18s/epoch - 3s/step\n",
      "Epoch 2/8\n",
      "WARNING:tensorflow:Can save best model only with val_accuracy available, skipping.\n",
      "7/7 - 13s - loss: 14.4287 - accuracy: 0.5484 - 13s/epoch - 2s/step\n",
      "Epoch 3/8\n",
      "WARNING:tensorflow:Can save best model only with val_accuracy available, skipping.\n",
      "7/7 - 13s - loss: 14.4167 - accuracy: 0.5484 - 13s/epoch - 2s/step\n",
      "Epoch 4/8\n",
      "WARNING:tensorflow:Can save best model only with val_accuracy available, skipping.\n",
      "7/7 - 13s - loss: 14.4175 - accuracy: 0.5484 - 13s/epoch - 2s/step\n",
      "Epoch 5/8\n",
      "WARNING:tensorflow:Can save best model only with val_accuracy available, skipping.\n",
      "7/7 - 13s - loss: 14.4062 - accuracy: 0.5484 - 13s/epoch - 2s/step\n",
      "Epoch 6/8\n",
      "WARNING:tensorflow:Can save best model only with val_accuracy available, skipping.\n",
      "7/7 - 13s - loss: 14.4085 - accuracy: 0.5484 - 13s/epoch - 2s/step\n",
      "Epoch 7/8\n",
      "WARNING:tensorflow:Can save best model only with val_accuracy available, skipping.\n",
      "7/7 - 13s - loss: 14.4059 - accuracy: 0.5484 - 13s/epoch - 2s/step\n",
      "Epoch 8/8\n",
      "WARNING:tensorflow:Can save best model only with val_accuracy available, skipping.\n",
      "7/7 - 13s - loss: 14.4101 - accuracy: 0.5484 - 13s/epoch - 2s/step\n"
     ]
    }
   ],
   "source": [
    "modelX = pretrained_Xception()\n",
    "result = cross_validation(modelX, train_images, train_labels, n_splits=3, epochs=8, batch_size=32)"
   ]
  },
  {
   "cell_type": "code",
   "execution_count": 28,
   "id": "4ab6db58",
   "metadata": {},
   "outputs": [
    {
     "name": "stdout",
     "output_type": "stream",
     "text": [
      "3/3 [==============================] - 1s 340ms/step - loss: 1.1542 - accuracy: 0.5244\n"
     ]
    },
    {
     "data": {
      "text/plain": [
       "[1.1541593074798584, 0.5243902206420898]"
      ]
     },
     "execution_count": 28,
     "metadata": {},
     "output_type": "execute_result"
    }
   ],
   "source": [
    "modelX.evaluate(test_images, test_labels)"
   ]
  },
  {
   "cell_type": "code",
   "execution_count": 23,
   "id": "bfa3dcca",
   "metadata": {},
   "outputs": [
    {
     "name": "stdout",
     "output_type": "stream",
     "text": [
      "3/3 [==============================] - 1s 332ms/step\n"
     ]
    }
   ],
   "source": [
    "tahminlerX = modelX.predict(test_images)"
   ]
  },
  {
   "cell_type": "code",
   "execution_count": 24,
   "id": "a3996757",
   "metadata": {},
   "outputs": [
    {
     "name": "stderr",
     "output_type": "stream",
     "text": [
      "/home/muhlabws4/anaconda3/lib/python3.11/site-packages/keras/src/engine/training.py:3000: UserWarning: You are saving your model as an HDF5 file via `model.save()`. This file format is considered legacy. We recommend using instead the native Keras format, e.g. `model.save('my_model.keras')`.\n",
      "  saving_api.save_model(\n"
     ]
    }
   ],
   "source": [
    "modelX.save(checkpoint_path)"
   ]
  },
  {
   "cell_type": "code",
   "execution_count": 25,
   "id": "970c625c",
   "metadata": {},
   "outputs": [],
   "source": [
    "y_pred_classes = np.argmax(tahminlerX,axis=1)"
   ]
  },
  {
   "cell_type": "code",
   "execution_count": 26,
   "id": "486bcede",
   "metadata": {},
   "outputs": [
    {
     "data": {
      "text/plain": [
       "array([[0.07038386, 0.25754535, 0.67207086],\n",
       "       [0.07038386, 0.25754535, 0.67207086],\n",
       "       [0.07038386, 0.25754535, 0.67207086],\n",
       "       [0.07038386, 0.25754535, 0.67207086],\n",
       "       [0.07038386, 0.25754535, 0.67207086],\n",
       "       [0.07038386, 0.25754535, 0.67207086],\n",
       "       [0.07038386, 0.25754535, 0.67207086]], dtype=float32)"
      ]
     },
     "execution_count": 26,
     "metadata": {},
     "output_type": "execute_result"
    }
   ],
   "source": [
    "tahminlerX[:7]"
   ]
  },
  {
   "cell_type": "code",
   "execution_count": 27,
   "id": "e0a53c0c",
   "metadata": {},
   "outputs": [
    {
     "data": {
      "text/plain": [
       "2"
      ]
     },
     "execution_count": 27,
     "metadata": {},
     "output_type": "execute_result"
    }
   ],
   "source": [
    "np.argmax(tahminlerX[9])"
   ]
  },
  {
   "cell_type": "code",
   "execution_count": 43,
   "id": "cc0ca1a9",
   "metadata": {},
   "outputs": [
    {
     "data": {
      "text/plain": [
       "array([0, 2, 2, 0, 0, 2, 2, 1, 2, 2, 1, 2, 2, 1, 2, 2, 2, 2, 0, 2, 0, 1,\n",
       "       2, 2, 2, 1, 2, 2, 2, 0, 2, 2, 0, 2, 2, 2, 0, 1, 2, 1, 1, 1, 2, 2,\n",
       "       2, 1, 0, 1, 2, 2, 2, 0, 2, 0, 1, 1, 0, 0, 0, 2, 0, 2, 0, 2, 1, 2,\n",
       "       1, 2, 0, 2, 2, 1, 2, 2, 2, 0, 0, 2, 1, 1, 1, 1])"
      ]
     },
     "execution_count": 43,
     "metadata": {},
     "output_type": "execute_result"
    }
   ],
   "source": [
    "test_labels"
   ]
  },
  {
   "cell_type": "code",
   "execution_count": 44,
   "id": "da0394a1",
   "metadata": {},
   "outputs": [
    {
     "data": {
      "text/plain": [
       "array([2, 2, 2, 2, 2, 2, 2, 2, 2, 2, 2, 2, 2, 2, 2, 2, 0, 2, 2, 2, 0, 1,\n",
       "       2, 2, 2, 2, 2, 2, 2, 2, 2, 2, 2, 2, 2, 2, 0, 1, 2, 1, 2, 2, 2, 2,\n",
       "       2, 2, 0, 2, 2, 2, 2, 2, 1, 0, 1, 1, 2, 0, 2, 2, 2, 2, 1, 2, 2, 2,\n",
       "       2, 2, 2, 2, 2, 2, 2, 2, 2, 2, 0, 2, 2, 2, 1, 1])"
      ]
     },
     "execution_count": 44,
     "metadata": {},
     "output_type": "execute_result"
    }
   ],
   "source": [
    "y_pred_classes"
   ]
  },
  {
   "cell_type": "code",
   "execution_count": 45,
   "id": "2304a465",
   "metadata": {},
   "outputs": [
    {
     "name": "stdout",
     "output_type": "stream",
     "text": [
      "              precision    recall  f1-score   support\n",
      "\n",
      "           0       0.86      0.32      0.46        19\n",
      "           1       0.78      0.35      0.48        20\n",
      "           2       0.62      0.95      0.75        43\n",
      "\n",
      "    accuracy                           0.66        82\n",
      "   macro avg       0.75      0.54      0.57        82\n",
      "weighted avg       0.71      0.66      0.62        82\n",
      "\n"
     ]
    }
   ],
   "source": [
    "print(classification_report(test_labels, y_pred_classes))"
   ]
  },
  {
   "cell_type": "code",
   "execution_count": 46,
   "id": "e6e3d264",
   "metadata": {},
   "outputs": [],
   "source": [
    "conf_matrix = confusion_matrix(test_labels, y_pred_classes)"
   ]
  },
  {
   "cell_type": "code",
   "execution_count": 47,
   "id": "463e31a0",
   "metadata": {},
   "outputs": [
    {
     "name": "stdout",
     "output_type": "stream",
     "text": [
      "[[ 6  1 12]\n",
      " [ 0  7 13]\n",
      " [ 1  1 41]]\n"
     ]
    }
   ],
   "source": [
    "print(conf_matrix)"
   ]
  },
  {
   "cell_type": "code",
   "execution_count": 48,
   "id": "a2faa1fd",
   "metadata": {},
   "outputs": [],
   "source": [
    "cm_display = ConfusionMatrixDisplay(confusion_matrix = conf_matrix)"
   ]
  },
  {
   "cell_type": "code",
   "execution_count": 49,
   "id": "3d452628",
   "metadata": {},
   "outputs": [
    {
     "data": {
      "image/png": "[encoded data removed]",
      "text/plain": [
       "<Figure size 640x480 with 2 Axes>"
      ]
     },
     "metadata": {},
     "output_type": "display_data"
    }
   ],
   "source": [
    "cm_display.plot()\n",
    "plt.show() "
   ]
  },
  {
   "cell_type": "code",
   "execution_count": null,
   "id": "1fe01f50",
   "metadata": {},
   "outputs": [],
   "source": []
  }
 ],
 "metadata": {
  "kernelspec": {
   "display_name": "Python 3 (ipykernel)",
   "language": "python",
   "name": "python3"
  },
  "language_info": {
   "codemirror_mode": {
    "name": "ipython",
    "version": 3
   },
   "file_extension": ".py",
   "mimetype": "text/x-python",
   "name": "python",
   "nbconvert_exporter": "python",
   "pygments_lexer": "ipython3",
   "version": "3.11.4"
  }
 },
 "nbformat": 4,
 "nbformat_minor": 5
}
