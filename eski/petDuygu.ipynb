{
 "cells": [
  {
   "cell_type": "code",
   "execution_count": 1,
   "id": "661954d4",
   "metadata": {},
   "outputs": [
    {
     "name": "stderr",
     "output_type": "stream",
     "text": [
      "2023-09-22 15:18:56.229118: I tensorflow/core/util/port.cc:110] oneDNN custom operations are on. You may see slightly different numerical results due to floating-point round-off errors from different computation orders. To turn them off, set the environment variable `TF_ENABLE_ONEDNN_OPTS=0`.\n",
      "2023-09-22 15:18:56.257538: I tensorflow/core/platform/cpu_feature_guard.cc:182] This TensorFlow binary is optimized to use available CPU instructions in performance-critical operations.\n",
      "To enable the following instructions: AVX2 AVX_VNNI FMA, in other operations, rebuild TensorFlow with the appropriate compiler flags.\n",
      "2023-09-22 15:18:56.776418: W tensorflow/compiler/tf2tensorrt/utils/py_utils.cc:38] TF-TRT Warning: Could not find TensorRT\n"
     ]
    }
   ],
   "source": [
    "import tensorflow as tf\n",
    "\n",
    "import numpy as np\n",
    "import os\n",
    "from tensorflow import keras\n",
    "import keras\n",
    "from sklearn.metrics import classification_report, confusion_matrix, ConfusionMatrixDisplay\n",
    "from sklearn.model_selection import train_test_split, KFold\n",
    "\n",
    "from tensorflow.keras.utils import img_to_array,load_img\n",
    "from sklearn.preprocessing import LabelEncoder\n",
    "from tensorflow.keras import datasets, layers, models\n",
    "import matplotlib.pyplot as plt\n",
    "from sklearn.model_selection import StratifiedKFold"
   ]
  },
  {
   "cell_type": "code",
   "execution_count": 2,
   "id": "79420afb",
   "metadata": {},
   "outputs": [],
   "source": [
    "import os\n",
    "os.environ['TF_CPP_MIN_LOG_LEVEL'] = '2'"
   ]
  },
  {
   "cell_type": "code",
   "execution_count": 3,
   "id": "7ba96dea",
   "metadata": {},
   "outputs": [],
   "source": [
    "data_path = \"/home/muhlabws4/Belgeler/Pet\"\n",
    "class_folders = os.listdir(data_path)\n",
    "images = []\n",
    "labels = []\n",
    "for i , class_name in enumerate(class_folders):\n",
    "    class_folder_path = os.path.join(data_path, class_name)\n",
    "    class_images = os.listdir(class_folder_path)\n",
    "    \n",
    "    for img_name in class_images:\n",
    "        img_path = os.path.join(class_folder_path, img_name)\n",
    "        img = load_img(img_path, target_size=(128,128))\n",
    "        img_array = img_to_array(img) /255.0\n",
    "        images.append(img_array)\n",
    "        labels.append(class_name)\n",
    "        \n",
    "X = np.array(images)\n",
    "y = np.array(labels)\n",
    "label_encoder = LabelEncoder()\n",
    "y_encoder = label_encoder.fit_transform(y)\n",
    "X_shuf, y_shuf = X, y_encoder\n",
    "train_images, test_images, train_labels, test_labels = train_test_split(X_shuf, y_shuf, test_size=0.2, random_state=42)\n",
    "class_names = ['angry', 'other','sad', 'happy']\n"
   ]
  },
  {
   "cell_type": "code",
   "execution_count": 4,
   "id": "58f909b1",
   "metadata": {
    "scrolled": false
   },
   "outputs": [
    {
     "name": "stdout",
     "output_type": "stream",
     "text": [
      "Epoch 1/10\n"
     ]
    },
    {
     "name": "stderr",
     "output_type": "stream",
     "text": [
      "2023-09-22 15:15:25.790201: I tensorflow/compiler/xla/stream_executor/cuda/cuda_gpu_executor.cc:995] successful NUMA node read from SysFS had negative value (-1), but there must be at least one NUMA node, so returning NUMA node zero. See more at https://github.com/torvalds/linux/blob/v6.0/Documentation/ABI/testing/sysfs-bus-pci#L344-L355\n",
      "2023-09-22 15:15:25.791029: W tensorflow/core/common_runtime/gpu/gpu_device.cc:1960] Cannot dlopen some GPU libraries. Please make sure the missing libraries mentioned above are installed properly if you would like to use GPU. Follow the guide at https://www.tensorflow.org/install/gpu for how to download and setup the required libraries for your platform.\n",
      "Skipping registering GPU devices...\n"
     ]
    },
    {
     "name": "stdout",
     "output_type": "stream",
     "text": [
      "25/25 [==============================] - 3s 119ms/step - loss: 1.6929 - accuracy: 0.2688\n",
      "Epoch 2/10\n",
      "25/25 [==============================] - 3s 119ms/step - loss: 1.3428 - accuracy: 0.3537\n",
      "Epoch 3/10\n",
      "25/25 [==============================] - 3s 123ms/step - loss: 1.1311 - accuracy: 0.5250\n",
      "Epoch 4/10\n",
      "25/25 [==============================] - 3s 119ms/step - loss: 0.7543 - accuracy: 0.7275\n",
      "Epoch 5/10\n",
      "25/25 [==============================] - 3s 122ms/step - loss: 0.4036 - accuracy: 0.8650\n",
      "Epoch 6/10\n",
      "25/25 [==============================] - 3s 119ms/step - loss: 0.2288 - accuracy: 0.9413\n",
      "Epoch 7/10\n",
      "25/25 [==============================] - 3s 119ms/step - loss: 0.1446 - accuracy: 0.9688\n",
      "Epoch 8/10\n",
      "25/25 [==============================] - 3s 121ms/step - loss: 0.0967 - accuracy: 0.9775\n",
      "Epoch 9/10\n",
      "25/25 [==============================] - 3s 120ms/step - loss: 0.0386 - accuracy: 0.9950\n",
      "Epoch 10/10\n",
      "25/25 [==============================] - 3s 117ms/step - loss: 0.0174 - accuracy: 0.9987\n"
     ]
    },
    {
     "data": {
      "text/plain": [
       "<keras.src.callbacks.History at 0x7f80bd54b890>"
      ]
     },
     "execution_count": 4,
     "metadata": {},
     "output_type": "execute_result"
    }
   ],
   "source": [
    "model = models.Sequential([\n",
    "    layers.Conv2D(filters=64, kernel_size=(3,3), activation='relu', input_shape=(128,128,3)),\n",
    "    layers.MaxPooling2D((2,2)),\n",
    "    layers.Conv2D(filters=128, kernel_size=(3,3), activation='relu'),\n",
    "    layers.MaxPooling2D((2,2)),\n",
    "    layers.Flatten(),\n",
    "    layers.Dense(64, activation='relu'),\n",
    "    layers.Dense(4,activation='softmax')\n",
    "])\n",
    "model.compile(optimizer='adam', loss='sparse_categorical_crossentropy', metrics=['accuracy'])\n",
    "model.fit(train_images, train_labels, epochs=10)"
   ]
  },
  {
   "cell_type": "code",
   "execution_count": 5,
   "id": "080a1199",
   "metadata": {},
   "outputs": [],
   "source": [
    "tf.debugging.disable_traceback_filtering()"
   ]
  },
  {
   "cell_type": "code",
   "execution_count": 6,
   "id": "f2b4d799",
   "metadata": {},
   "outputs": [
    {
     "name": "stdout",
     "output_type": "stream",
     "text": [
      "Epoch 1/10\n",
      "25/25 [==============================] - 1s 8ms/step - loss: 3.9903 - accuracy: 0.3000\n",
      "Epoch 2/10\n",
      "25/25 [==============================] - 0s 8ms/step - loss: 1.6073 - accuracy: 0.3212\n",
      "Epoch 3/10\n",
      "25/25 [==============================] - 0s 8ms/step - loss: 1.4940 - accuracy: 0.3300\n",
      "Epoch 4/10\n",
      "25/25 [==============================] - 0s 8ms/step - loss: 1.7303 - accuracy: 0.3100\n",
      "Epoch 5/10\n",
      "25/25 [==============================] - 0s 8ms/step - loss: 1.3890 - accuracy: 0.3550\n",
      "Epoch 6/10\n",
      "25/25 [==============================] - 0s 8ms/step - loss: 1.3036 - accuracy: 0.3837\n",
      "Epoch 7/10\n",
      "25/25 [==============================] - 0s 8ms/step - loss: 1.2704 - accuracy: 0.4075\n",
      "Epoch 8/10\n",
      "25/25 [==============================] - 0s 8ms/step - loss: 1.3636 - accuracy: 0.3787\n",
      "Epoch 9/10\n",
      "25/25 [==============================] - 0s 8ms/step - loss: 1.2930 - accuracy: 0.3925\n",
      "Epoch 10/10\n",
      "25/25 [==============================] - 0s 8ms/step - loss: 1.2701 - accuracy: 0.4338\n"
     ]
    },
    {
     "data": {
      "text/plain": [
       "<keras.src.callbacks.History at 0x7f80b00369d0>"
      ]
     },
     "execution_count": 6,
     "metadata": {},
     "output_type": "execute_result"
    }
   ],
   "source": [
    "model2 = tf.keras.Sequential([\n",
    "    layers.Flatten(input_shape=(128, 128,3)),\n",
    "    layers.Dense(64, activation='relu'),\n",
    "    layers.Dense(128, activation='relu'),\n",
    "    layers.Dense(64,activation='relu'),\n",
    "    layers.Dense(10)\n",
    "])\n",
    "model2.compile(optimizer='adam',\n",
    "              loss=tf.keras.losses.SparseCategoricalCrossentropy(from_logits=True),\n",
    "              metrics=['accuracy'])\n",
    "model2.fit(train_images, train_labels, epochs=10)\n",
    "\n"
   ]
  },
  {
   "cell_type": "code",
   "execution_count": 7,
   "id": "c86543ce",
   "metadata": {},
   "outputs": [
    {
     "name": "stdout",
     "output_type": "stream",
     "text": [
      "Model: \"sequential\"\n",
      "_________________________________________________________________\n",
      " Layer (type)                Output Shape              Param #   \n",
      "=================================================================\n",
      " conv2d (Conv2D)             (None, 126, 126, 64)      1792      \n",
      "                                                                 \n",
      " max_pooling2d (MaxPooling2  (None, 63, 63, 64)        0         \n",
      " D)                                                              \n",
      "                                                                 \n",
      " conv2d_1 (Conv2D)           (None, 61, 61, 128)       73856     \n",
      "                                                                 \n",
      " max_pooling2d_1 (MaxPoolin  (None, 30, 30, 128)       0         \n",
      " g2D)                                                            \n",
      "                                                                 \n",
      " flatten (Flatten)           (None, 115200)            0         \n",
      "                                                                 \n",
      " dense (Dense)               (None, 64)                7372864   \n",
      "                                                                 \n",
      " dense_1 (Dense)             (None, 4)                 260       \n",
      "                                                                 \n",
      "=================================================================\n",
      "Total params: 7448772 (28.41 MB)\n",
      "Trainable params: 7448772 (28.41 MB)\n",
      "Non-trainable params: 0 (0.00 Byte)\n",
      "_________________________________________________________________\n"
     ]
    }
   ],
   "source": [
    "model.summary()"
   ]
  },
  {
   "cell_type": "code",
   "execution_count": 8,
   "id": "3848f2f6",
   "metadata": {},
   "outputs": [
    {
     "name": "stdout",
     "output_type": "stream",
     "text": [
      "Model: \"sequential_1\"\n",
      "_________________________________________________________________\n",
      " Layer (type)                Output Shape              Param #   \n",
      "=================================================================\n",
      " flatten_1 (Flatten)         (None, 49152)             0         \n",
      "                                                                 \n",
      " dense_2 (Dense)             (None, 64)                3145792   \n",
      "                                                                 \n",
      " dense_3 (Dense)             (None, 128)               8320      \n",
      "                                                                 \n",
      " dense_4 (Dense)             (None, 64)                8256      \n",
      "                                                                 \n",
      " dense_5 (Dense)             (None, 10)                650       \n",
      "                                                                 \n",
      "=================================================================\n",
      "Total params: 3163018 (12.07 MB)\n",
      "Trainable params: 3163018 (12.07 MB)\n",
      "Non-trainable params: 0 (0.00 Byte)\n",
      "_________________________________________________________________\n"
     ]
    }
   ],
   "source": [
    "model2.summary()"
   ]
  },
  {
   "cell_type": "code",
   "execution_count": 9,
   "id": "1c28b775",
   "metadata": {},
   "outputs": [
    {
     "name": "stdout",
     "output_type": "stream",
     "text": [
      "7/7 [==============================] - 0s 26ms/step - loss: 2.9640 - accuracy: 0.4300\n",
      "[2.964017391204834, 0.4300000071525574]\n",
      "7/7 [==============================] - 0s 2ms/step - loss: 1.4390 - accuracy: 0.3800\n",
      "[1.439031958580017, 0.3799999952316284]\n"
     ]
    }
   ],
   "source": [
    "print(model.evaluate(test_images, test_labels))\n",
    "print(model2.evaluate(test_images, test_labels))"
   ]
  },
  {
   "cell_type": "code",
   "execution_count": 10,
   "id": "8b4808a2",
   "metadata": {},
   "outputs": [
    {
     "name": "stdout",
     "output_type": "stream",
     "text": [
      "7/7 [==============================] - 0s 30ms/step\n",
      "7/7 [==============================] - 0s 3ms/step\n"
     ]
    }
   ],
   "source": [
    "tahminlerCNN = model.predict(test_images)\n",
    "y_pred_classesCNN = np.argmax(tahminlerCNN,axis=1)\n",
    "tahminlerMLP = model2.predict(test_images)\n",
    "y_pred_classesMLP = np.argmax(tahminlerMLP,axis=1)"
   ]
  },
  {
   "cell_type": "code",
   "execution_count": 11,
   "id": "b032d373",
   "metadata": {},
   "outputs": [
    {
     "name": "stdout",
     "output_type": "stream",
     "text": [
      "[[27 10 13  5]\n",
      " [13 20  9 10]\n",
      " [ 9  6 21  8]\n",
      " [ 9  6 16 18]]\n"
     ]
    }
   ],
   "source": [
    "conf_matrixCNN = confusion_matrix(test_labels, y_pred_classesCNN)\n",
    "print(conf_matrixCNN)"
   ]
  },
  {
   "cell_type": "code",
   "execution_count": 12,
   "id": "942a6938",
   "metadata": {},
   "outputs": [
    {
     "name": "stdout",
     "output_type": "stream",
     "text": [
      "[[17  4  7 27]\n",
      " [ 8  5 10 29]\n",
      " [ 5  1 18 20]\n",
      " [ 2  2  9 36]]\n"
     ]
    }
   ],
   "source": [
    "conf_matrixMLP = confusion_matrix(test_labels, y_pred_classesMLP)\n",
    "print(conf_matrixMLP)"
   ]
  },
  {
   "cell_type": "code",
   "execution_count": 13,
   "id": "83cac95c",
   "metadata": {},
   "outputs": [
    {
     "data": {
      "image/png": "[encoded data removed]",
      "text/plain": [
       "<Figure size 640x480 with 2 Axes>"
      ]
     },
     "metadata": {},
     "output_type": "display_data"
    }
   ],
   "source": [
    "cm_displayCNN = ConfusionMatrixDisplay(confusion_matrix = conf_matrixCNN)\n",
    "cm_displayCNN.plot()\n",
    "plt.show() "
   ]
  },
  {
   "cell_type": "code",
   "execution_count": 14,
   "id": "fa62d244",
   "metadata": {},
   "outputs": [
    {
     "data": {
      "image/png": "[encoded data removed]",
      "text/plain": [
       "<Figure size 640x480 with 2 Axes>"
      ]
     },
     "metadata": {},
     "output_type": "display_data"
    }
   ],
   "source": [
    "cm_displayMLP = ConfusionMatrixDisplay(confusion_matrix = conf_matrixMLP)\n",
    "cm_displayMLP.plot()\n",
    "plt.show() "
   ]
  },
  {
   "cell_type": "code",
   "execution_count": 15,
   "id": "8d57e388",
   "metadata": {},
   "outputs": [],
   "source": [
    "def tablo(confusion_matrix, index):\n",
    "    TP=confusion_matrix[index][index]\n",
    "    FN=sum(confusion_matrix[index][:index])+sum(confusion_matrix[index][index+1:])\n",
    "    FP=sum(np.transpose(confusion_matrix)[index][:index])+sum(np.transpose(confusion_matrix)[index][index+1:])\n",
    "    TN=sum(sum(confusion_matrix))-TP-FN-FP\n",
    "    return TP,TN,FP,FN"
   ]
  },
  {
   "cell_type": "code",
   "execution_count": 16,
   "id": "168c5da1",
   "metadata": {},
   "outputs": [],
   "source": [
    "def acc(confusion_matrix,index):\n",
    "    TP,TN,FP,FN = tablo(confusion_matrix,index)\n",
    "    acc = (TN+TP)/(TN+TP+FP+FN)\n",
    "    return acc"
   ]
  },
  {
   "cell_type": "code",
   "execution_count": 17,
   "id": "2ace5bfa",
   "metadata": {},
   "outputs": [],
   "source": [
    "def precision(confusion_matrix,index):\n",
    "    TP,TN,FP,FN = tablo(confusion_matrix,index)\n",
    "    p = (TP)/(TP+FP)\n",
    "    return p"
   ]
  },
  {
   "cell_type": "code",
   "execution_count": 18,
   "id": "909f1c6c",
   "metadata": {},
   "outputs": [],
   "source": [
    "def sensitivity(confusion_matrix,index):\n",
    "    TP,TN,FP,FN = tablo(confusion_matrix,index)\n",
    "    sn = (TP)/(TP+FN)\n",
    "    return sn"
   ]
  },
  {
   "cell_type": "code",
   "execution_count": 19,
   "id": "c6e91d1b",
   "metadata": {},
   "outputs": [],
   "source": [
    "def specificity(confusion_matrix,index):\n",
    "    TP,TN,FP,FN = tablo(confusion_matrix,index)\n",
    "    sp = (TN)/(TN+FP)\n",
    "    return sp"
   ]
  },
  {
   "cell_type": "code",
   "execution_count": 20,
   "id": "ef90c2e1",
   "metadata": {},
   "outputs": [],
   "source": [
    "def f_score(confusion_matrix,index):\n",
    "    p=precision(confusion_matrix,index)\n",
    "    sn=sensitivity(confusion_matrix,index)\n",
    "    f_score = ((p*sn)/(p+sn))*2\n",
    "    return f_score"
   ]
  },
  {
   "cell_type": "code",
   "execution_count": 21,
   "id": "e02f9dd2",
   "metadata": {},
   "outputs": [],
   "source": [
    "def recall(confusion_matrix,index):\n",
    "    TP,TN,FP,FN = tablo(confusion_matrix,index)\n",
    "    recall = TP/(TP+FN)\n",
    "    return recall"
   ]
  },
  {
   "cell_type": "code",
   "execution_count": 22,
   "id": "31a63313",
   "metadata": {},
   "outputs": [
    {
     "name": "stdout",
     "output_type": "stream",
     "text": [
      "\n",
      "0 acc: 0.705\n",
      "0 precision: 0.46551724137931033\n",
      "0 sensitivity: 0.4909090909090909\n",
      "0 specificity: 0.7862068965517242\n",
      "0 f_score: 0.46551724137931033\n",
      "0 recall: 0.4909090909090909\n",
      "\n",
      "1 acc: 0.73\n",
      "1 precision: 0.47619047619047616\n",
      "1 sensitivity: 0.38461538461538464\n",
      "1 specificity: 0.8513513513513513\n",
      "1 f_score: 0.47619047619047616\n",
      "1 recall: 0.38461538461538464\n",
      "\n",
      "2 acc: 0.695\n",
      "2 precision: 0.3559322033898305\n",
      "2 sensitivity: 0.4772727272727273\n",
      "2 specificity: 0.7564102564102564\n",
      "2 f_score: 0.3559322033898305\n",
      "2 recall: 0.4772727272727273\n",
      "\n",
      "3 acc: 0.73\n",
      "3 precision: 0.43902439024390244\n",
      "3 sensitivity: 0.3673469387755102\n",
      "3 specificity: 0.847682119205298\n",
      "3 f_score: 0.43902439024390244\n",
      "3 recall: 0.3673469387755102\n"
     ]
    }
   ],
   "source": [
    "for i in range(4):\n",
    "    print(f\"\\n{i} acc:\", acc(conf_matrixCNN,i))\n",
    "    print(f\"{i} precision:\", precision(conf_matrixCNN,i))\n",
    "    print(f\"{i} sensitivity:\", sensitivity(conf_matrixCNN,i))\n",
    "    print(f\"{i} specificity:\", specificity(conf_matrixCNN,i))\n",
    "    print(f\"{i} f_score:\", precision(conf_matrixCNN,i))\n",
    "    print(f\"{i} recall:\", recall(conf_matrixCNN,i))"
   ]
  },
  {
   "cell_type": "code",
   "execution_count": 23,
   "id": "d3408a0e",
   "metadata": {},
   "outputs": [
    {
     "name": "stdout",
     "output_type": "stream",
     "text": [
      "              precision    recall  f1-score   support\n",
      "\n",
      "           0       0.47      0.49      0.48        55\n",
      "           1       0.48      0.38      0.43        52\n",
      "           2       0.36      0.48      0.41        44\n",
      "           3       0.44      0.37      0.40        49\n",
      "\n",
      "    accuracy                           0.43       200\n",
      "   macro avg       0.43      0.43      0.43       200\n",
      "weighted avg       0.44      0.43      0.43       200\n",
      "\n"
     ]
    }
   ],
   "source": [
    "print(classification_report(test_labels, y_pred_classesCNN))"
   ]
  },
  {
   "cell_type": "code",
   "execution_count": 24,
   "id": "aca52225",
   "metadata": {},
   "outputs": [
    {
     "name": "stdout",
     "output_type": "stream",
     "text": [
      "Training for Fold 1...\n",
      "Epoch 1/5\n",
      "17/17 - 2s - loss: 2.6001 - accuracy: 0.2383 - 2s/epoch - 141ms/step\n",
      "Epoch 2/5\n",
      "17/17 - 2s - loss: 1.3825 - accuracy: 0.2946 - 2s/epoch - 116ms/step\n",
      "Epoch 3/5\n",
      "17/17 - 2s - loss: 1.3316 - accuracy: 0.3846 - 2s/epoch - 117ms/step\n",
      "Epoch 4/5\n",
      "17/17 - 2s - loss: 1.1316 - accuracy: 0.5460 - 2s/epoch - 116ms/step\n",
      "Epoch 5/5\n",
      "17/17 - 2s - loss: 0.8386 - accuracy: 0.6979 - 2s/epoch - 117ms/step\n",
      "Evaluating for Fold 1...\n",
      "9/9 - 0s - loss: 1.3051 - accuracy: 0.4082 - 318ms/epoch - 35ms/step\n",
      "Fold 1 - Loss: 1.3050906658172607, Accuracy: 0.4082396924495697\n",
      "Training for Fold 2...\n",
      "Epoch 1/5\n",
      "17/17 - 2s - loss: 2.3173 - accuracy: 0.2364 - 2s/epoch - 137ms/step\n",
      "Epoch 2/5\n",
      "17/17 - 2s - loss: 1.3807 - accuracy: 0.2720 - 2s/epoch - 117ms/step\n",
      "Epoch 3/5\n",
      "17/17 - 2s - loss: 1.3204 - accuracy: 0.3677 - 2s/epoch - 115ms/step\n",
      "Epoch 4/5\n",
      "17/17 - 2s - loss: 1.1978 - accuracy: 0.4578 - 2s/epoch - 114ms/step\n",
      "Epoch 5/5\n",
      "17/17 - 2s - loss: 0.9358 - accuracy: 0.6398 - 2s/epoch - 117ms/step\n",
      "Evaluating for Fold 2...\n",
      "9/9 - 0s - loss: 1.4505 - accuracy: 0.3708 - 310ms/epoch - 34ms/step\n",
      "Fold 2 - Loss: 1.4504715204238892, Accuracy: 0.37078651785850525\n",
      "Training for Fold 3...\n",
      "Epoch 1/5\n",
      "17/17 - 2s - loss: 1.5767 - accuracy: 0.2865 - 2s/epoch - 139ms/step\n",
      "Epoch 2/5\n",
      "17/17 - 2s - loss: 1.3497 - accuracy: 0.3446 - 2s/epoch - 117ms/step\n",
      "Epoch 3/5\n",
      "17/17 - 2s - loss: 1.1850 - accuracy: 0.4869 - 2s/epoch - 119ms/step\n",
      "Epoch 4/5\n",
      "17/17 - 2s - loss: 0.8841 - accuracy: 0.6592 - 2s/epoch - 118ms/step\n",
      "Epoch 5/5\n",
      "17/17 - 2s - loss: 0.5593 - accuracy: 0.8071 - 2s/epoch - 116ms/step\n",
      "Evaluating for Fold 3...\n",
      "9/9 - 0s - loss: 1.6860 - accuracy: 0.3985 - 323ms/epoch - 36ms/step\n",
      "Fold 3 - Loss: 1.6860328912734985, Accuracy: 0.39849624037742615\n"
     ]
    }
   ],
   "source": [
    "num_splits = 3\n",
    "skf = StratifiedKFold(n_splits=num_splits, shuffle=True, random_state=42)\n",
    "\n",
    "def create_model():\n",
    "    model = models.Sequential([\n",
    "        layers.Conv2D(filters=64, kernel_size=(3,3), activation='relu', input_shape=(128,128,3)),\n",
    "        layers.MaxPooling2D((2,2)),\n",
    "        layers.Conv2D(filters=128, kernel_size=(3,3), activation='relu'),\n",
    "        layers.MaxPooling2D((2,2)),\n",
    "        layers.Flatten(),\n",
    "        layers.Dense(64, activation='relu'),\n",
    "        layers.Dense(4,activation='softmax')\n",
    "    ])\n",
    "    return model\n",
    "\n",
    "fold_number = 1\n",
    "for train_index, test_index in skf.split(train_images, train_labels):\n",
    "    X_train, X_test = train_images[train_index], train_images[test_index]\n",
    "    y_train, y_test = train_labels[train_index], train_labels[test_index]\n",
    "\n",
    "    model = create_model()\n",
    "    model.compile(optimizer='adam', loss='sparse_categorical_crossentropy', metrics=['accuracy'])\n",
    "\n",
    "    print(f\"Training for Fold {fold_number}...\")\n",
    "    model.fit(X_train, y_train, epochs=5, verbose=2)\n",
    "\n",
    "    print(f\"Evaluating for Fold {fold_number}...\")\n",
    "    loss, accuracy = model.evaluate(X_test, y_test, verbose=2)\n",
    "    print(f\"Fold {fold_number} - Loss: {loss}, Accuracy: {accuracy}\")\n",
    "\n",
    "    fold_number += 1"
   ]
  },
  {
   "cell_type": "code",
   "execution_count": null,
   "id": "a4460953",
   "metadata": {},
   "outputs": [],
   "source": []
  }
 ],
 "metadata": {
  "kernelspec": {
   "display_name": "Python 3 (ipykernel)",
   "language": "python",
   "name": "python3"
  },
  "language_info": {
   "codemirror_mode": {
    "name": "ipython",
    "version": 3
   },
   "file_extension": ".py",
   "mimetype": "text/x-python",
   "name": "python",
   "nbconvert_exporter": "python",
   "pygments_lexer": "ipython3",
   "version": "3.9.17"
  }
 },
 "nbformat": 4,
 "nbformat_minor": 5
}
