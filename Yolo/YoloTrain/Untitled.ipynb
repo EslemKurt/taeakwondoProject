{
 "cells": [
  {
   "cell_type": "code",
   "execution_count": 4,
   "id": "eae78af4",
   "metadata": {},
   "outputs": [
    {
     "name": "stdout",
     "output_type": "stream",
     "text": [
      "/bin/bash: /home/muhlabws4/miniconda3/envs/tf/lib/libtinfo.so.6: no version information available (required by /bin/bash)\n",
      "\u001b[33mWARNING: Error parsing requirements for torch: [Errno 2] Böyle bir dosya ya da dizin yok: '/home/muhlabws4/miniconda3/envs/tf/lib/python3.9/site-packages/torch-2.0.1.dist-info/METADATA'\u001b[0m\u001b[33m\n",
      "\u001b[0mNote: you may need to restart the kernel to use updated packages.\n"
     ]
    }
   ],
   "source": [
    "%pip install -qU trainyolo-py"
   ]
  },
  {
   "cell_type": "code",
   "execution_count": 5,
   "id": "ad0bdfa7",
   "metadata": {},
   "outputs": [],
   "source": [
    "from trainyolo.client import Client, Project"
   ]
  },
  {
   "cell_type": "code",
   "execution_count": 6,
   "id": "aaba872c",
   "metadata": {},
   "outputs": [],
   "source": [
    "# DATASET PARAMETERS\n",
    "API_KEY = \"777d67fff899d3dd0d136bc62b989d79b9300632\"\n",
    "PROJECT_NAME = \"tkdKeypoint\""
   ]
  },
  {
   "cell_type": "code",
   "execution_count": 7,
   "id": "51bbeb6b",
   "metadata": {},
   "outputs": [
    {
     "name": "stdout",
     "output_type": "stream",
     "text": [
      "Downloading project\n",
      "Loading samples...\n"
     ]
    },
    {
     "name": "stderr",
     "output_type": "stream",
     "text": [
      "100%|██████████████████████████████████████| 151/151 [00:00<00:00, 59185.11it/s]\n"
     ]
    },
    {
     "name": "stdout",
     "output_type": "stream",
     "text": [
      "Downloading samples... (this may take a while depending on your dataset size)\n"
     ]
    },
    {
     "name": "stderr",
     "output_type": "stream",
     "text": [
      "100%|█████████████████████████████████████████| 151/151 [00:17<00:00,  8.53it/s]\n"
     ]
    }
   ],
   "source": [
    "# init client\n",
    "client = Client(API_KEY)\n",
    "\n",
    "# load project\n",
    "project_key = Project.get_by_name(client, PROJECT_NAME)\n",
    "dataset_key = project_key.pull(location='./data', format='yolov8')"
   ]
  },
  {
   "cell_type": "code",
   "execution_count": null,
   "id": "1dacdb91",
   "metadata": {},
   "outputs": [],
   "source": []
  }
 ],
 "metadata": {
  "kernelspec": {
   "display_name": "Python 3 (ipykernel)",
   "language": "python",
   "name": "python3"
  },
  "language_info": {
   "codemirror_mode": {
    "name": "ipython",
    "version": 3
   },
   "file_extension": ".py",
   "mimetype": "text/x-python",
   "name": "python",
   "nbconvert_exporter": "python",
   "pygments_lexer": "ipython3",
   "version": "3.9.17"
  }
 },
 "nbformat": 4,
 "nbformat_minor": 5
}
