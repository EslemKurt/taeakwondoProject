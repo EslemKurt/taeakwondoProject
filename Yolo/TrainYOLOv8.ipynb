{
 "cells": [
  {
   "cell_type": "code",
   "execution_count": 6,
   "id": "55b20050",
   "metadata": {},
   "outputs": [
    {
     "name": "stdout",
     "output_type": "stream",
     "text": [
      "/bin/bash: /home/muhlabws4/miniconda3/envs/tf/lib/python3.9/site-packages/cv2/../../../../lib/libtinfo.so.6: no version information available (required by /bin/bash)\n",
      "Collecting ultralytics==8.0.134\n",
      "  Obtaining dependency information for ultralytics==8.0.134 from https://files.pythonhosted.org/packages/d8/67/c0191107c02bedf7c50df4305d24d225febeb77820610fc95797075b771a/ultralytics-8.0.134-py3-none-any.whl.metadata\n",
      "  Using cached ultralytics-8.0.134-py3-none-any.whl.metadata (27 kB)\n",
      "Requirement already satisfied: matplotlib>=3.2.2 in /home/muhlabws4/miniconda3/envs/tf/lib/python3.9/site-packages (from ultralytics==8.0.134) (3.7.1)\n",
      "Requirement already satisfied: opencv-python>=4.6.0 in /home/muhlabws4/miniconda3/envs/tf/lib/python3.9/site-packages (from ultralytics==8.0.134) (4.8.0.76)\n",
      "Requirement already satisfied: Pillow>=7.1.2 in /home/muhlabws4/miniconda3/envs/tf/lib/python3.9/site-packages (from ultralytics==8.0.134) (9.4.0)\n",
      "Requirement already satisfied: PyYAML>=5.3.1 in /home/muhlabws4/miniconda3/envs/tf/lib/python3.9/site-packages (from ultralytics==8.0.134) (6.0.1)\n",
      "Requirement already satisfied: requests>=2.23.0 in /home/muhlabws4/miniconda3/envs/tf/lib/python3.9/site-packages (from ultralytics==8.0.134) (2.31.0)\n",
      "Requirement already satisfied: scipy>=1.4.1 in /home/muhlabws4/miniconda3/envs/tf/lib/python3.9/site-packages (from ultralytics==8.0.134) (1.11.2)\n",
      "Requirement already satisfied: torch>=1.7.0 in /home/muhlabws4/miniconda3/envs/tf/lib/python3.9/site-packages (from ultralytics==8.0.134) (2.0.0+cu118)\n",
      "Requirement already satisfied: torchvision>=0.8.1 in /home/muhlabws4/miniconda3/envs/tf/lib/python3.9/site-packages (from ultralytics==8.0.134) (0.15.1+cu118)\n",
      "Requirement already satisfied: tqdm>=4.64.0 in /home/muhlabws4/miniconda3/envs/tf/lib/python3.9/site-packages (from ultralytics==8.0.134) (4.66.1)\n",
      "Requirement already satisfied: pandas>=1.1.4 in /home/muhlabws4/miniconda3/envs/tf/lib/python3.9/site-packages (from ultralytics==8.0.134) (1.5.3)\n",
      "Requirement already satisfied: seaborn>=0.11.0 in /home/muhlabws4/miniconda3/envs/tf/lib/python3.9/site-packages (from ultralytics==8.0.134) (0.12.2)\n",
      "Requirement already satisfied: psutil in /home/muhlabws4/miniconda3/envs/tf/lib/python3.9/site-packages (from ultralytics==8.0.134) (5.9.0)\n",
      "Requirement already satisfied: contourpy>=1.0.1 in /home/muhlabws4/miniconda3/envs/tf/lib/python3.9/site-packages (from matplotlib>=3.2.2->ultralytics==8.0.134) (1.0.5)\n",
      "Requirement already satisfied: cycler>=0.10 in /home/muhlabws4/miniconda3/envs/tf/lib/python3.9/site-packages (from matplotlib>=3.2.2->ultralytics==8.0.134) (0.10.0)\n",
      "Requirement already satisfied: fonttools>=4.22.0 in /home/muhlabws4/miniconda3/envs/tf/lib/python3.9/site-packages (from matplotlib>=3.2.2->ultralytics==8.0.134) (4.25.0)\n",
      "Requirement already satisfied: kiwisolver>=1.0.1 in /home/muhlabws4/miniconda3/envs/tf/lib/python3.9/site-packages (from matplotlib>=3.2.2->ultralytics==8.0.134) (1.4.4)\n",
      "Requirement already satisfied: numpy>=1.20 in /home/muhlabws4/miniconda3/envs/tf/lib/python3.9/site-packages (from matplotlib>=3.2.2->ultralytics==8.0.134) (1.24.3)\n",
      "Requirement already satisfied: packaging>=20.0 in /home/muhlabws4/miniconda3/envs/tf/lib/python3.9/site-packages (from matplotlib>=3.2.2->ultralytics==8.0.134) (23.0)\n",
      "Requirement already satisfied: pyparsing>=2.3.1 in /home/muhlabws4/miniconda3/envs/tf/lib/python3.9/site-packages (from matplotlib>=3.2.2->ultralytics==8.0.134) (2.4.7)\n",
      "Requirement already satisfied: python-dateutil>=2.7 in /home/muhlabws4/miniconda3/envs/tf/lib/python3.9/site-packages (from matplotlib>=3.2.2->ultralytics==8.0.134) (2.8.2)\n",
      "Requirement already satisfied: importlib-resources>=3.2.0 in /home/muhlabws4/miniconda3/envs/tf/lib/python3.9/site-packages (from matplotlib>=3.2.2->ultralytics==8.0.134) (5.2.0)\n",
      "Requirement already satisfied: pytz>=2020.1 in /home/muhlabws4/miniconda3/envs/tf/lib/python3.9/site-packages (from pandas>=1.1.4->ultralytics==8.0.134) (2022.7)\n",
      "Requirement already satisfied: charset-normalizer<4,>=2 in /home/muhlabws4/miniconda3/envs/tf/lib/python3.9/site-packages (from requests>=2.23.0->ultralytics==8.0.134) (3.2.0)\n",
      "Requirement already satisfied: idna<4,>=2.5 in /home/muhlabws4/miniconda3/envs/tf/lib/python3.9/site-packages (from requests>=2.23.0->ultralytics==8.0.134) (2.10)\n",
      "Requirement already satisfied: urllib3<3,>=1.21.1 in /home/muhlabws4/miniconda3/envs/tf/lib/python3.9/site-packages (from requests>=2.23.0->ultralytics==8.0.134) (1.26.16)\n",
      "Requirement already satisfied: certifi>=2017.4.17 in /home/muhlabws4/miniconda3/envs/tf/lib/python3.9/site-packages (from requests>=2.23.0->ultralytics==8.0.134) (2022.12.7)\n",
      "Requirement already satisfied: filelock in /home/muhlabws4/miniconda3/envs/tf/lib/python3.9/site-packages (from torch>=1.7.0->ultralytics==8.0.134) (3.12.2)\n",
      "Requirement already satisfied: typing-extensions in /home/muhlabws4/miniconda3/envs/tf/lib/python3.9/site-packages (from torch>=1.7.0->ultralytics==8.0.134) (4.7.1)\n",
      "Requirement already satisfied: sympy in /home/muhlabws4/miniconda3/envs/tf/lib/python3.9/site-packages (from torch>=1.7.0->ultralytics==8.0.134) (1.11.1)\n",
      "Requirement already satisfied: networkx in /home/muhlabws4/miniconda3/envs/tf/lib/python3.9/site-packages (from torch>=1.7.0->ultralytics==8.0.134) (3.1)\n",
      "Requirement already satisfied: jinja2 in /home/muhlabws4/miniconda3/envs/tf/lib/python3.9/site-packages (from torch>=1.7.0->ultralytics==8.0.134) (3.1.2)\n",
      "Requirement already satisfied: triton==2.0.0 in /home/muhlabws4/miniconda3/envs/tf/lib/python3.9/site-packages (from torch>=1.7.0->ultralytics==8.0.134) (2.0.0)\n",
      "Requirement already satisfied: cmake in /home/muhlabws4/miniconda3/envs/tf/lib/python3.9/site-packages (from triton==2.0.0->torch>=1.7.0->ultralytics==8.0.134) (3.27.2)\n",
      "Requirement already satisfied: lit in /home/muhlabws4/miniconda3/envs/tf/lib/python3.9/site-packages (from triton==2.0.0->torch>=1.7.0->ultralytics==8.0.134) (16.0.6)\n",
      "Requirement already satisfied: six in /home/muhlabws4/miniconda3/envs/tf/lib/python3.9/site-packages (from cycler>=0.10->matplotlib>=3.2.2->ultralytics==8.0.134) (1.16.0)\n",
      "Requirement already satisfied: zipp>=3.1.0 in /home/muhlabws4/miniconda3/envs/tf/lib/python3.9/site-packages (from importlib-resources>=3.2.0->matplotlib>=3.2.2->ultralytics==8.0.134) (3.11.0)\n",
      "Requirement already satisfied: MarkupSafe>=2.0 in /home/muhlabws4/miniconda3/envs/tf/lib/python3.9/site-packages (from jinja2->torch>=1.7.0->ultralytics==8.0.134) (2.1.1)\n",
      "Requirement already satisfied: mpmath>=0.19 in /home/muhlabws4/miniconda3/envs/tf/lib/python3.9/site-packages (from sympy->torch>=1.7.0->ultralytics==8.0.134) (1.3.0)\n",
      "Using cached ultralytics-8.0.134-py3-none-any.whl (629 kB)\n",
      "Installing collected packages: ultralytics\n",
      "  Attempting uninstall: ultralytics\n",
      "    Found existing installation: ultralytics 8.0.20\n",
      "    Uninstalling ultralytics-8.0.20:\n",
      "      Successfully uninstalled ultralytics-8.0.20\n",
      "Successfully installed ultralytics-8.0.134\n"
     ]
    }
   ],
   "source": [
    "!pip install ultralytics==8.0.134"
   ]
  },
  {
   "cell_type": "code",
   "execution_count": 1,
   "id": "1fa3f16f",
   "metadata": {},
   "outputs": [
    {
     "data": {
      "text/plain": [
       "True"
      ]
     },
     "execution_count": 1,
     "metadata": {},
     "output_type": "execute_result"
    }
   ],
   "source": [
    "import torch\n",
    "torch.cuda.is_available()\n"
   ]
  },
  {
   "cell_type": "code",
   "execution_count": 2,
   "id": "a4f2d261",
   "metadata": {},
   "outputs": [
    {
     "name": "stdout",
     "output_type": "stream",
     "text": [
      "Using device: cuda\n",
      "\n",
      "NVIDIA RTX A4000\n",
      "Memory Usage:\n",
      "Allocated: 0.0 GB\n",
      "Cached:  0.0 GB\n",
      "Training on GPU... Ready for HyperJump...\n"
     ]
    }
   ],
   "source": [
    "# setting device on GPU if available, else CPU\n",
    "#device = torch.device(‘cuda’ if torch.cuda.is_available() else ‘cpu’)\n",
    "device = torch.device(\"cuda\")\n",
    "print(\"Using device:\", device)\n",
    "print()#Additional Info when using cuda\n",
    "if device.type == \"cuda\":\n",
    "    print(torch.cuda.get_device_name(0))\n",
    "    print(\"Memory Usage:\")\n",
    "    print(\"Allocated:\", round(torch.cuda.memory_allocated(0)/1024**3,1), \"GB\")\n",
    "    print(\"Cached: \", round(torch.cuda.memory_reserved(0)/1024**3,1), \"GB\")\n",
    "\n",
    "if torch.cuda.is_available():\n",
    "    device=torch.device(\"cuda:0\")\n",
    "    print(\"Training on GPU... Ready for HyperJump...\")\n",
    "else:\n",
    "    device = torch.device(\"cpu\")\n",
    "    print(\"Training on CPU... May the force be with you...\")"
   ]
  },
  {
   "cell_type": "code",
   "execution_count": 3,
   "id": "cbae6690",
   "metadata": {},
   "outputs": [
    {
     "name": "stderr",
     "output_type": "stream",
     "text": [
      "Ultralytics YOLOv8.0.134 🚀 Python-3.9.17 torch-2.0.0+cu118 CUDA:0 (NVIDIA RTX A4000, 16109MiB)\n",
      "Setup complete ✅ (24 CPUs, 62.5 GB RAM, 145.5/917.4 GB disk)\n"
     ]
    }
   ],
   "source": [
    "from IPython import display\n",
    "display.clear_output()\n",
    "\n",
    "import ultralytics\n",
    "ultralytics.checks()"
   ]
  },
  {
   "cell_type": "code",
   "execution_count": 4,
   "id": "76f60a84",
   "metadata": {},
   "outputs": [],
   "source": [
    "from ultralytics import YOLO\n",
    "\n",
    "from IPython.display import display, Image"
   ]
  },
  {
   "cell_type": "code",
   "execution_count": 5,
   "id": "1ff93cbd",
   "metadata": {},
   "outputs": [
    {
     "name": "stdout",
     "output_type": "stream",
     "text": [
      "loading Roboflow workspace...\n",
      "loading Roboflow project...\n",
      "Downloading Dataset Version Zip in Taekwondo-12 to yolov8: 100% [21458099 / 21458099] bytes\n"
     ]
    },
    {
     "name": "stderr",
     "output_type": "stream",
     "text": [
      "Extracting Dataset Version Zip to Taekwondo-12 in yolov8:: 100%|█| 788/788 [00:0\n"
     ]
    }
   ],
   "source": [
    "from roboflow import Roboflow\n",
    "rf = Roboflow(api_key=\"zG8V8GVZS3hgbRfuYu07\")\n",
    "project = rf.workspace(\"taekwondoproject\").project(\"taekwondo-mndkr\")\n",
    "dataset = project.version(12).download(\"yolov8\")"
   ]
  },
  {
   "cell_type": "code",
   "execution_count": null,
   "id": "c7715260",
   "metadata": {},
   "outputs": [],
   "source": [
    "\"\"\"\n",
    "\n",
    "--NotebookApp.iopub_msg_rate_limit=<Float>\n",
    "    (msgs/sec)\n",
    "            Maximum rate at which messages can be sent on iopub before they are\n",
    "            limited.\n",
    "    Default: 1000\n",
    "\n",
    "        \n",
    "        \n",
    "\n",
    "--NotebookApp.rate_limit_window=<Float>\n",
    "    (sec) Time window used to\n",
    "            check the message and data rate limits.\n",
    "    Default: 3\n",
    "\"\"\""
   ]
  },
  {
   "cell_type": "code",
   "execution_count": 6,
   "id": "1a1f9f8b",
   "metadata": {},
   "outputs": [
    {
     "name": "stdout",
     "output_type": "stream",
     "text": [
      "/bin/bash: /home/muhlabws4/miniconda3/envs/tf/lib/python3.9/site-packages/cv2/../../../../lib/libtinfo.so.6: no version information available (required by /bin/bash)\n",
      "Ultralytics YOLOv8.0.134 🚀 Python-3.9.17 torch-2.0.0+cu118 CUDA:0 (NVIDIA RTX A4000, 16109MiB)\n",
      "\u001b[34m\u001b[1myolo/engine/trainer: \u001b[0mtask=detect, mode=train, model=objDet2Best.pt, data=/home/muhlabws4/dosyalar/Taekwondo-12/data.yaml, epochs=25, patience=50, batch=16, imgsz=800, save=True, save_period=-1, cache=False, device=None, workers=8, project=None, name=None, exist_ok=False, pretrained=True, optimizer=auto, verbose=True, seed=0, deterministic=True, single_cls=False, rect=False, cos_lr=False, close_mosaic=10, resume=False, amp=True, fraction=1.0, profile=False, overlap_mask=True, mask_ratio=4, dropout=0.0, val=True, split=val, save_json=False, save_hybrid=False, conf=None, iou=0.7, max_det=300, half=False, dnn=False, plots=True, source=None, show=False, save_txt=False, save_conf=False, save_crop=False, show_labels=True, show_conf=True, vid_stride=1, line_width=None, visualize=False, augment=False, agnostic_nms=False, classes=None, retina_masks=False, boxes=True, format=torchscript, keras=False, optimize=False, int8=False, dynamic=False, simplify=False, opset=None, workspace=4, nms=False, lr0=0.01, lrf=0.01, momentum=0.937, weight_decay=0.0005, warmup_epochs=3.0, warmup_momentum=0.8, warmup_bias_lr=0.1, box=7.5, cls=0.5, dfl=1.5, pose=12.0, kobj=1.0, label_smoothing=0.0, nbs=64, hsv_h=0.015, hsv_s=0.7, hsv_v=0.4, degrees=0.0, translate=0.1, scale=0.5, shear=0.0, perspective=0.0, flipud=0.0, fliplr=0.5, mosaic=1.0, mixup=0.0, copy_paste=0.0, cfg=None, v5loader=False, tracker=botsort.yaml, save_dir=runs/detect/train5\n",
      "\n",
      "                   from  n    params  module                                       arguments                     \n",
      "  0                  -1  1       928  ultralytics.nn.modules.conv.Conv             [3, 32, 3, 2]                 \n",
      "  1                  -1  1     18560  ultralytics.nn.modules.conv.Conv             [32, 64, 3, 2]                \n",
      "  2                  -1  1     29056  ultralytics.nn.modules.block.C2f             [64, 64, 1, True]             \n",
      "  3                  -1  1     73984  ultralytics.nn.modules.conv.Conv             [64, 128, 3, 2]               \n",
      "  4                  -1  2    197632  ultralytics.nn.modules.block.C2f             [128, 128, 2, True]           \n",
      "  5                  -1  1    295424  ultralytics.nn.modules.conv.Conv             [128, 256, 3, 2]              \n",
      "  6                  -1  2    788480  ultralytics.nn.modules.block.C2f             [256, 256, 2, True]           \n",
      "  7                  -1  1   1180672  ultralytics.nn.modules.conv.Conv             [256, 512, 3, 2]              \n",
      "  8                  -1  1   1838080  ultralytics.nn.modules.block.C2f             [512, 512, 1, True]           \n",
      "  9                  -1  1    656896  ultralytics.nn.modules.block.SPPF            [512, 512, 5]                 \n",
      " 10                  -1  1         0  torch.nn.modules.upsampling.Upsample         [None, 2, 'nearest']          \n",
      " 11             [-1, 6]  1         0  ultralytics.nn.modules.conv.Concat           [1]                           \n",
      " 12                  -1  1    591360  ultralytics.nn.modules.block.C2f             [768, 256, 1]                 \n",
      " 13                  -1  1         0  torch.nn.modules.upsampling.Upsample         [None, 2, 'nearest']          \n",
      " 14             [-1, 4]  1         0  ultralytics.nn.modules.conv.Concat           [1]                           \n",
      " 15                  -1  1    148224  ultralytics.nn.modules.block.C2f             [384, 128, 1]                 \n",
      " 16                  -1  1    147712  ultralytics.nn.modules.conv.Conv             [128, 128, 3, 2]              \n",
      " 17            [-1, 12]  1         0  ultralytics.nn.modules.conv.Concat           [1]                           \n",
      " 18                  -1  1    493056  ultralytics.nn.modules.block.C2f             [384, 256, 1]                 \n",
      " 19                  -1  1    590336  ultralytics.nn.modules.conv.Conv             [256, 256, 3, 2]              \n",
      " 20             [-1, 9]  1         0  ultralytics.nn.modules.conv.Concat           [1]                           \n",
      " 21                  -1  1   1969152  ultralytics.nn.modules.block.C2f             [768, 512, 1]                 \n",
      " 22        [15, 18, 21]  1   2117983  ultralytics.nn.modules.head.Detect           [5, [128, 256, 512]]          \n",
      "Model summary: 225 layers, 11137535 parameters, 11137519 gradients, 28.7 GFLOPs\n",
      "\n",
      "Transferred 355/355 items from pretrained weights\n",
      "\u001b[34m\u001b[1mTensorBoard: \u001b[0mStart with 'tensorboard --logdir runs/detect/train5', view at http://localhost:6006/\n",
      "\u001b[34m\u001b[1mAMP: \u001b[0mrunning Automatic Mixed Precision (AMP) checks with YOLOv8n...\n",
      "\u001b[34m\u001b[1mAMP: \u001b[0mchecks failed ❌. Anomalies were detected with AMP on your system that may lead to NaN losses or zero-mAP results, so AMP will be disabled during training.\n",
      "\u001b[34m\u001b[1mtrain: \u001b[0mScanning /home/muhlabws4/dosyalar/Taekwondo-12/train/labels... 330 images\u001b[0m\n",
      "\u001b[34m\u001b[1mtrain: \u001b[0mNew cache created: /home/muhlabws4/dosyalar/Taekwondo-12/train/labels.cache\n",
      "\u001b[34m\u001b[1mval: \u001b[0mScanning /home/muhlabws4/dosyalar/Taekwondo-12/valid/labels... 38 images, 0\u001b[0m\n",
      "\u001b[34m\u001b[1mval: \u001b[0mNew cache created: /home/muhlabws4/dosyalar/Taekwondo-12/valid/labels.cache\n",
      "Plotting labels to runs/detect/train5/labels.jpg... \n",
      "\u001b[34m\u001b[1moptimizer:\u001b[0m AdamW(lr=0.001111, momentum=0.9) with parameter groups 57 weight(decay=0.0), 64 weight(decay=0.0005), 63 bias(decay=0.0)\n",
      "Image sizes 800 train, 800 val\n",
      "Using 8 dataloader workers\n",
      "Logging results to \u001b[1mruns/detect/train5\u001b[0m\n",
      "Starting training for 25 epochs...\n",
      "\n",
      "      Epoch    GPU_mem   box_loss   cls_loss   dfl_loss  Instances       Size\n",
      "       1/25      11.7G      1.562     0.9021      1.308        138        800: 1\n",
      "                 Class     Images  Instances      Box(P          R      mAP50  m\n",
      "                   all         38        331      0.934      0.868      0.915      0.599\n",
      "\n",
      "      Epoch    GPU_mem   box_loss   cls_loss   dfl_loss  Instances       Size\n",
      "       2/25        12G      1.493      0.862      1.254        102        800: 1\n",
      "                 Class     Images  Instances      Box(P          R      mAP50  m\n",
      "                   all         38        331      0.856      0.825      0.876      0.545\n",
      "\n",
      "      Epoch    GPU_mem   box_loss   cls_loss   dfl_loss  Instances       Size\n",
      "       3/25      11.9G      1.504     0.8569      1.267        100        800: 1\n",
      "                 Class     Images  Instances      Box(P          R      mAP50  m\n",
      "                   all         38        331      0.872      0.816      0.876      0.532\n",
      "\n",
      "      Epoch    GPU_mem   box_loss   cls_loss   dfl_loss  Instances       Size\n",
      "       4/25      11.9G      1.433       0.84      1.218        119        800: 1\n",
      "                 Class     Images  Instances      Box(P          R      mAP50  m\n",
      "                   all         38        331      0.869      0.833      0.895      0.543\n",
      "\n",
      "      Epoch    GPU_mem   box_loss   cls_loss   dfl_loss  Instances       Size\n",
      "       5/25        12G      1.471      0.878      1.243         94        800: 1\n",
      "                 Class     Images  Instances      Box(P          R      mAP50  m\n",
      "                   all         38        331      0.881      0.873      0.908      0.545\n",
      "\n",
      "      Epoch    GPU_mem   box_loss   cls_loss   dfl_loss  Instances       Size\n",
      "       6/25      11.9G      1.456     0.8371      1.249        143        800: 1\n",
      "                 Class     Images  Instances      Box(P          R      mAP50  m\n",
      "                   all         38        331      0.909      0.807      0.908      0.535\n",
      "\n",
      "      Epoch    GPU_mem   box_loss   cls_loss   dfl_loss  Instances       Size\n",
      "       7/25        12G      1.416      0.838      1.222        105        800: 1\n",
      "                 Class     Images  Instances      Box(P          R      mAP50  m\n",
      "                   all         38        331      0.897      0.832      0.872      0.537\n",
      "\n",
      "      Epoch    GPU_mem   box_loss   cls_loss   dfl_loss  Instances       Size\n",
      "       8/25      11.9G      1.393     0.8297      1.216        145        800: 1\n",
      "                 Class     Images  Instances      Box(P          R      mAP50  m\n",
      "                   all         38        331      0.844      0.861      0.906      0.542\n",
      "\n",
      "      Epoch    GPU_mem   box_loss   cls_loss   dfl_loss  Instances       Size\n",
      "       9/25      11.9G      1.469     0.8276      1.247        127        800: 1\n",
      "                 Class     Images  Instances      Box(P          R      mAP50  m\n",
      "                   all         38        331      0.875      0.855      0.888      0.518\n",
      "\n",
      "      Epoch    GPU_mem   box_loss   cls_loss   dfl_loss  Instances       Size\n",
      "      10/25        12G      1.452     0.8202      1.233        134        800: 1\n",
      "                 Class     Images  Instances      Box(P          R      mAP50  m\n",
      "                   all         38        331      0.868      0.817      0.887      0.508\n",
      "\n",
      "      Epoch    GPU_mem   box_loss   cls_loss   dfl_loss  Instances       Size\n",
      "      11/25      11.9G      1.372     0.7775      1.207        131        800: 1\n",
      "                 Class     Images  Instances      Box(P          R      mAP50  m\n",
      "                   all         38        331       0.93       0.85      0.923      0.556\n",
      "\n",
      "      Epoch    GPU_mem   box_loss   cls_loss   dfl_loss  Instances       Size\n",
      "      12/25      11.9G      1.388     0.8021      1.206        151        800: 1\n",
      "                 Class     Images  Instances      Box(P          R      mAP50  m\n",
      "                   all         38        331        0.9      0.867      0.921      0.566\n",
      "\n",
      "      Epoch    GPU_mem   box_loss   cls_loss   dfl_loss  Instances       Size\n",
      "      13/25        12G      1.333     0.7536      1.159         98        800: 1\n",
      "                 Class     Images  Instances      Box(P          R      mAP50  m\n",
      "                   all         38        331      0.905      0.873      0.912      0.579\n",
      "\n",
      "      Epoch    GPU_mem   box_loss   cls_loss   dfl_loss  Instances       Size\n",
      "      14/25        12G      1.335     0.7408      1.193        113        800: 1\n",
      "                 Class     Images  Instances      Box(P          R      mAP50  m\n",
      "                   all         38        331      0.948      0.852      0.923      0.592\n",
      "\n",
      "      Epoch    GPU_mem   box_loss   cls_loss   dfl_loss  Instances       Size\n",
      "      15/25      12.1G      1.303     0.7287      1.178         91        800: 1\n",
      "                 Class     Images  Instances      Box(P          R      mAP50  m\n",
      "                   all         38        331      0.883      0.836      0.888      0.554\n",
      "Closing dataloader mosaic\n",
      "\n",
      "      Epoch    GPU_mem   box_loss   cls_loss   dfl_loss  Instances       Size\n",
      "      16/25      11.9G      1.265     0.6527      1.188         99        800: 1\n",
      "                 Class     Images  Instances      Box(P          R      mAP50  m\n",
      "                   all         38        331      0.934      0.843      0.925      0.605\n",
      "\n",
      "      Epoch    GPU_mem   box_loss   cls_loss   dfl_loss  Instances       Size\n",
      "      17/25        12G      1.231     0.6343      1.159         93        800: 1\n",
      "                 Class     Images  Instances      Box(P          R      mAP50  m\n",
      "                   all         38        331      0.932      0.869      0.932      0.619\n",
      "\n",
      "      Epoch    GPU_mem   box_loss   cls_loss   dfl_loss  Instances       Size\n",
      "      18/25      11.9G      1.263      0.638      1.187         83        800: 1\n",
      "                 Class     Images  Instances      Box(P          R      mAP50  m\n",
      "                   all         38        331      0.908      0.853      0.914      0.584\n",
      "\n",
      "      Epoch    GPU_mem   box_loss   cls_loss   dfl_loss  Instances       Size\n",
      "      19/25        12G      1.218     0.6058       1.15         79        800: 1\n",
      "                 Class     Images  Instances      Box(P          R      mAP50  m\n",
      "                   all         38        331      0.907      0.854      0.904      0.572\n",
      "\n",
      "      Epoch    GPU_mem   box_loss   cls_loss   dfl_loss  Instances       Size\n",
      "      20/25      11.9G      1.208     0.6012      1.146         68        800: 1\n",
      "                 Class     Images  Instances      Box(P          R      mAP50  m\n",
      "                   all         38        331      0.894      0.878      0.919      0.606\n",
      "\n",
      "      Epoch    GPU_mem   box_loss   cls_loss   dfl_loss  Instances       Size\n",
      "      21/25        12G      1.154     0.5789       1.13         76        800: 1\n",
      "                 Class     Images  Instances      Box(P          R      mAP50  m\n",
      "                   all         38        331      0.909      0.868      0.917       0.62\n",
      "\n",
      "      Epoch    GPU_mem   box_loss   cls_loss   dfl_loss  Instances       Size\n",
      "      22/25        12G      1.141     0.5607      1.122         75        800: 1\n",
      "                 Class     Images  Instances      Box(P          R      mAP50  m\n",
      "                   all         38        331      0.902       0.86      0.916      0.615\n",
      "\n",
      "      Epoch    GPU_mem   box_loss   cls_loss   dfl_loss  Instances       Size\n",
      "      23/25      11.9G       1.12     0.5588      1.109         77        800: 1\n",
      "                 Class     Images  Instances      Box(P          R      mAP50  m\n",
      "                   all         38        331      0.924      0.877      0.925      0.615\n",
      "\n",
      "      Epoch    GPU_mem   box_loss   cls_loss   dfl_loss  Instances       Size\n",
      "      24/25      11.9G      1.116     0.5597      1.115         79        800: 1\n",
      "                 Class     Images  Instances      Box(P          R      mAP50  m\n",
      "                   all         38        331      0.905      0.866       0.91      0.623\n",
      "\n",
      "      Epoch    GPU_mem   box_loss   cls_loss   dfl_loss  Instances       Size\n",
      "      25/25        12G      1.092     0.5517      1.106         79        800: 1\n",
      "                 Class     Images  Instances      Box(P          R      mAP50  m\n",
      "                   all         38        331      0.896      0.873      0.907      0.626\n",
      "\n",
      "25 epochs completed in 0.060 hours.\n",
      "Optimizer stripped from runs/detect/train5/weights/last.pt, 22.5MB\n",
      "Optimizer stripped from runs/detect/train5/weights/best.pt, 22.5MB\n",
      "\n",
      "Validating runs/detect/train5/weights/best.pt...\n",
      "Ultralytics YOLOv8.0.134 🚀 Python-3.9.17 torch-2.0.0+cu118 CUDA:0 (NVIDIA RTX A4000, 16109MiB)\n",
      "Model summary (fused): 168 layers, 11127519 parameters, 0 gradients, 28.4 GFLOPs\n",
      "                 Class     Images  Instances      Box(P          R      mAP50  m\n",
      "                   all         38        331      0.896      0.874      0.907      0.626\n",
      "                 chong         38         54      0.893      0.944      0.934      0.693\n",
      "                 govde         38         98      0.927      0.907      0.946      0.603\n",
      "                 hakem         38         54      0.863      0.815      0.897       0.64\n",
      "                  hong         38         45      0.874      0.822      0.838      0.662\n",
      "                  kask         38         80      0.922      0.882      0.919      0.531\n",
      "Speed: 1.4ms preprocess, 3.6ms inference, 0.0ms loss, 0.3ms postprocess per image\n",
      "Results saved to \u001b[1mruns/detect/train5\u001b[0m\n"
     ]
    }
   ],
   "source": [
    "!yolo task=detect mode=train model=objDet2Best.pt data={dataset.location}/data.yaml epochs=25 imgsz=800 plots=True"
   ]
  },
  {
   "cell_type": "code",
   "execution_count": 7,
   "id": "ef811b03",
   "metadata": {},
   "outputs": [
    {
     "name": "stdout",
     "output_type": "stream",
     "text": [
      "/bin/bash: /home/muhlabws4/miniconda3/envs/tf/lib/python3.9/site-packages/cv2/../../../../lib/libtinfo.so.6: no version information available (required by /bin/bash)\r\n",
      "args.yaml\r\n",
      "confusion_matrix_normalized.png\r\n",
      "confusion_matrix.png\r\n",
      "events.out.tfevents.1692883307.muhlabws4-Precision-3660.15662.0\r\n",
      "F1_curve.png\r\n",
      "labels_correlogram.jpg\r\n",
      "labels.jpg\r\n",
      "P_curve.png\r\n",
      "PR_curve.png\r\n",
      "R_curve.png\r\n",
      "results.csv\r\n",
      "results.png\r\n",
      "train_batch0.jpg\r\n",
      "train_batch1.jpg\r\n",
      "train_batch2.jpg\r\n",
      "train_batch315.jpg\r\n",
      "train_batch316.jpg\r\n",
      "train_batch317.jpg\r\n",
      "val_batch0_labels.jpg\r\n",
      "val_batch0_pred.jpg\r\n",
      "val_batch1_labels.jpg\r\n",
      "val_batch1_pred.jpg\r\n",
      "weights\r\n"
     ]
    }
   ],
   "source": [
    "!ls runs/detect/train5/"
   ]
  },
  {
   "cell_type": "code",
   "execution_count": 8,
   "id": "e2272aa4",
   "metadata": {},
   "outputs": [
    {
     "name": "stdout",
     "output_type": "stream",
     "text": [
      "/bin/bash: /home/muhlabws4/miniconda3/envs/tf/lib/python3.9/site-packages/cv2/../../../../lib/libtinfo.so.6: no version information available (required by /bin/bash)\n",
      "Ultralytics YOLOv8.0.134 🚀 Python-3.9.17 torch-2.0.0+cu118 CUDA:0 (NVIDIA RTX A4000, 16109MiB)\n",
      "Model summary (fused): 168 layers, 11127519 parameters, 0 gradients, 28.4 GFLOPs\n",
      "\u001b[34m\u001b[1mval: \u001b[0mScanning /home/muhlabws4/dosyalar/Taekwondo-12/valid/labels.cache... 38 ima\u001b[0m\n",
      "                 Class     Images  Instances      Box(P          R      mAP50  m\n",
      "                   all         38        331      0.899      0.877      0.913      0.626\n",
      "                 chong         38         54       0.91      0.963      0.965      0.692\n",
      "                 govde         38         98      0.927      0.907      0.946      0.599\n",
      "                 hakem         38         54      0.862      0.811      0.898      0.645\n",
      "                  hong         38         45      0.874      0.822      0.838      0.657\n",
      "                  kask         38         80      0.922      0.882      0.919      0.538\n",
      "Speed: 2.8ms preprocess, 28.3ms inference, 0.0ms loss, 2.3ms postprocess per image\n",
      "Results saved to \u001b[1mruns/detect/val3\u001b[0m\n"
     ]
    }
   ],
   "source": [
    "!yolo task=detect mode=val model=runs/detect/train5/weights/best.pt data={dataset.location}/data.yaml"
   ]
  },
  {
   "cell_type": "code",
   "execution_count": 9,
   "id": "facb3d66",
   "metadata": {},
   "outputs": [
    {
     "name": "stdout",
     "output_type": "stream",
     "text": [
      "/bin/bash: /home/muhlabws4/miniconda3/envs/tf/lib/python3.9/site-packages/cv2/../../../../lib/libtinfo.so.6: no version information available (required by /bin/bash)\n",
      "Ultralytics YOLOv8.0.134 🚀 Python-3.9.17 torch-2.0.0+cu118 CUDA:0 (NVIDIA RTX A4000, 16109MiB)\n",
      "Model summary (fused): 168 layers, 11127519 parameters, 0 gradients, 28.4 GFLOPs\n",
      "\n",
      "image 1/20 /home/muhlabws4/dosyalar/Taekwondo-12/test/images/frame_13320_jpg.rf.c6d651622ee60e15b01e37a0cece3202.jpg: 800x800 1 chong, 2 govdes, 2 hakems, 2 hongs, 2 kasks, 6.1ms\n",
      "image 2/20 /home/muhlabws4/dosyalar/Taekwondo-12/test/images/frame_23880_jpg.rf.f8638a813947a1324a4aef42f6db3e31.jpg: 800x800 2 chongs, 4 govdes, 3 hakems, 2 hongs, 2 kasks, 6.1ms\n",
      "image 3/20 /home/muhlabws4/dosyalar/Taekwondo-12/test/images/frame_2400_jpg.rf.03f3990176b77cde7605a4721677d067.jpg: 800x800 1 chong, 2 govdes, 1 hakem, 1 hong, 2 kasks, 6.1ms\n",
      "image 4/20 /home/muhlabws4/dosyalar/Taekwondo-12/test/images/frame_2400_jpg.rf.33f62e3c72a583b135c041561af986c6.jpg: 800x800 1 chong, 2 govdes, 1 hakem, 1 hong, 2 kasks, 6.1ms\n",
      "image 5/20 /home/muhlabws4/dosyalar/Taekwondo-12/test/images/frame_24720_jpg.rf.8f2ba0f450f32346a5152ae05984bd8d.jpg: 800x800 2 chongs, 5 govdes, 2 hakems, 1 hong, 4 kasks, 6.1ms\n",
      "image 6/20 /home/muhlabws4/dosyalar/Taekwondo-12/test/images/frame_24960_jpg.rf.f6da90ebbaba3e150074160cf500d9e1.jpg: 800x800 1 chong, 2 govdes, 2 hakems, 1 hong, 2 kasks, 6.1ms\n",
      "image 7/20 /home/muhlabws4/dosyalar/Taekwondo-12/test/images/frame_25440_jpg.rf.5a96062713e7490d92d6d99e5af472a2.jpg: 800x800 2 chongs, 4 govdes, 3 hakems, 2 hongs, 2 kasks, 6.1ms\n",
      "image 8/20 /home/muhlabws4/dosyalar/Taekwondo-12/test/images/frame_3480_jpg.rf.3e9b2ea7d1168a62fda300773e64df2c.jpg: 800x800 1 chong, 2 govdes, 1 hong, 2 kasks, 6.1ms\n",
      "image 9/20 /home/muhlabws4/dosyalar/Taekwondo-12/test/images/frame_4680_jpg.rf.9e73f6f08bfa2bae82512788e7fdd3e4.jpg: 800x800 1 chong, 2 govdes, 1 hakem, 1 hong, 2 kasks, 6.1ms\n",
      "image 10/20 /home/muhlabws4/dosyalar/Taekwondo-12/test/images/frame_4680_jpg.rf.c9e0961c80d62c43e810aac11a1a6402.jpg: 800x800 1 chong, 2 govdes, 1 hakem, 1 hong, 2 kasks, 6.1ms\n",
      "image 11/20 /home/muhlabws4/dosyalar/Taekwondo-12/test/images/frame_5760_jpg.rf.d2c6297ed5955e848a868841af640009.jpg: 800x800 1 chong, 2 govdes, 1 hakem, 1 hong, 2 kasks, 6.1ms\n",
      "image 12/20 /home/muhlabws4/dosyalar/Taekwondo-12/test/images/frame_6240_jpg.rf.d8b77f17e25d0948ef54e9af7646e339.jpg: 800x800 1 chong, 2 govdes, 1 hakem, 1 hong, 2 kasks, 6.1ms\n",
      "image 13/20 /home/muhlabws4/dosyalar/Taekwondo-12/test/images/frame_6360_jpg.rf.9764566d8c83e7aa875c1b4dd50b7b79.jpg: 800x800 1 chong, 2 govdes, 1 hakem, 1 hong, 2 kasks, 6.1ms\n",
      "image 14/20 /home/muhlabws4/dosyalar/Taekwondo-12/test/images/frame_7800_jpg.rf.cc54e449c6936ac4c056f01440521a40.jpg: 800x800 2 chongs, 2 govdes, 2 hakems, 1 kask, 6.1ms\n",
      "image 15/20 /home/muhlabws4/dosyalar/Taekwondo-12/test/images/frame_9120_jpg.rf.ea6a630d9e0884d42823d4b9f22b7c71.jpg: 800x800 3 chongs, 6 govdes, 2 hakems, 2 hongs, 2 kasks, 6.1ms\n",
      "image 16/20 /home/muhlabws4/dosyalar/Taekwondo-12/test/images/frame_wtCourt4_2520_jpg.rf.9380286dfda564a32a092a8e7cc6e28f.jpg: 800x800 2 chongs, 3 govdes, 2 hakems, 1 hong, 3 kasks, 6.1ms\n",
      "image 17/20 /home/muhlabws4/dosyalar/Taekwondo-12/test/images/frame_wtCourt4_3480_jpg.rf.1717b5ceeadbc2ba9b1f387d669f1160.jpg: 800x800 1 chong, 2 govdes, 1 hakem, 1 hong, 2 kasks, 6.1ms\n",
      "image 18/20 /home/muhlabws4/dosyalar/Taekwondo-12/test/images/frame_wtCourt4_3600_jpg.rf.549a85e75ec9015d0bacad6a236339de.jpg: 800x800 1 chong, 2 govdes, 1 hakem, 1 hong, 2 kasks, 6.1ms\n",
      "image 19/20 /home/muhlabws4/dosyalar/Taekwondo-12/test/images/frame_wtCourt4_5280_jpg.rf.9f4db8954477cd472d94bfa856a1dca7.jpg: 800x800 1 chong, 2 govdes, 1 hakem, 1 hong, 2 kasks, 6.1ms\n",
      "image 20/20 /home/muhlabws4/dosyalar/Taekwondo-12/test/images/frame_wtCourt4_720_jpg.rf.cc44256a7d611290a921e70285f89ad6.jpg: 800x800 2 chongs, 3 govdes, 1 hakem, 1 hong, 3 kasks, 6.1ms\n",
      "Speed: 2.0ms preprocess, 6.1ms inference, 6.1ms postprocess per image at shape (1, 3, 800, 800)\n",
      "Results saved to \u001b[1mruns/detect/predict7\u001b[0m\n"
     ]
    }
   ],
   "source": [
    "!yolo task=detect mode=predict model=runs/detect/train5/weights/best.pt conf=0.25 source={dataset.location}/test/images save=True"
   ]
  },
  {
   "cell_type": "code",
   "execution_count": 11,
   "id": "64f6a54b",
   "metadata": {},
   "outputs": [
    {
     "name": "stdout",
     "output_type": "stream",
     "text": [
      "An error occured when getting the model upload URL: This version already has a trained model. Please generate and train a new version in order to upload model to Roboflow.\n"
     ]
    }
   ],
   "source": [
    "project.version(dataset.version).deploy(model_type=\"yolov8\", model_path=f\"runs/detect/train5/\")"
   ]
  }
 ],
 "metadata": {
  "kernelspec": {
   "display_name": "Python 3 (ipykernel)",
   "language": "python",
   "name": "python3"
  },
  "language_info": {
   "codemirror_mode": {
    "name": "ipython",
    "version": 3
   },
   "file_extension": ".py",
   "mimetype": "text/x-python",
   "name": "python",
   "nbconvert_exporter": "python",
   "pygments_lexer": "ipython3",
   "version": "3.11.4"
  }
 },
 "nbformat": 4,
 "nbformat_minor": 5
}
