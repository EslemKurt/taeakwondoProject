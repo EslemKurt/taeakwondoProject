{
 "cells": [
  {
   "cell_type": "code",
   "execution_count": 1,
   "id": "bfcda50e",
   "metadata": {},
   "outputs": [
    {
     "name": "stdout",
     "output_type": "stream",
     "text": [
      "Hata: Birinci video sonsuz uzunluktadır.\n"
     ]
    }
   ],
   "source": [
    "import imageio\n",
    "import numpy as np\n",
    "\n",
    "def combine_and_process_videos(video_path1, video_path2, output_folder):\n",
    "    # İlk videoyu oku\n",
    "    video1 = imageio.get_reader(video_path1)\n",
    "    fps1 = int(video1.get_meta_data()['fps'])\n",
    "    frame_count1 = video1.get_length()\n",
    "\n",
    "    if np.isinf(frame_count1):\n",
    "        print(\"Hata: Birinci video sonsuz uzunluktadır.\")\n",
    "        return\n",
    "\n",
    "    # İkinci videoyu oku\n",
    "    video2 = imageio.get_reader(video_path2)\n",
    "    fps2 = int(video2.get_meta_data()['fps'])\n",
    "    frame_count2 = video2.get_length()\n",
    "\n",
    "    if np.isinf(frame_count2):\n",
    "        print(\"Hata: İkinci video sonsuz uzunluktadır.\")\n",
    "        return\n",
    "\n",
    "    # Video uzunluğunu kontrol et\n",
    "    if frame_count1 != frame_count2 or fps1 != fps2:\n",
    "        print(\"Hata: Videoların uzunluğu veya fps değerleri eşleşmiyor.\")\n",
    "        return\n",
    "\n",
    "    # Videoları birleştir\n",
    "    combined_video = []\n",
    "    for i in range(int(frame_count1)):\n",
    "        frame1 = video1.get_data(i)\n",
    "        frame2 = video2.get_data(i)\n",
    "        combined_frame = np.concatenate((frame1, frame2), axis=1)\n",
    "        combined_video.append(combined_frame)\n",
    "\n",
    "    # Klasör kontrolü ve oluşturma\n",
    "    os.makedirs(output_folder, exist_ok=True)\n",
    "\n",
    "    # Birleştirilmiş videoyu kaydet\n",
    "    combined_video_path = os.path.join(output_folder, 'combined_video.mkv')\n",
    "    combined_writer = imageio.get_writer(combined_video_path, fps=fps1)\n",
    "    for frame in combined_video:\n",
    "        combined_writer.append_data(frame)\n",
    "    combined_writer.close()\n",
    "\n",
    "    # Birleştirilmiş videoyu işle\n",
    "    # (Buraya istediğiniz işlemleri ekleyebilirsiniz)\n",
    "\n",
    "# İki videoyu birleştir ve işle\n",
    "video_path1 = \"/home/muhlabws4/videolar konya/cumakort3/Dışa Aktar 12-29-2023 6-48-32 PM/Medya yürütücüsü formatı/CAM-1/12_29_2023 5_49_59 PM (UTC+03_00).mkv\"\n",
    "video_path2 = \"/home/muhlabws4/videolar konya/cumakort3/Dışa Aktar 12-29-2023 6-48-32 PM/Medya yürütücüsü formatı/CAM-2/12_29_2023 5_50_00 PM (UTC+03_00).mkv\"\n",
    "output_folder = \"output_folder\"\n",
    "\n",
    "combine_and_process_videos(video_path1, video_path2, output_folder)\n"
   ]
  },
  {
   "cell_type": "code",
   "execution_count": 2,
   "id": "fa9d9460",
   "metadata": {},
   "outputs": [
    {
     "name": "stdout",
     "output_type": "stream",
     "text": [
      "Video uzunluğu: 90915 frame, FPS: 30.303030303030305\n"
     ]
    }
   ],
   "source": [
    "import cv2\n",
    "\n",
    "cap = cv2.VideoCapture(video_path1)\n",
    "\n",
    "frame_count = int(cap.get(cv2.CAP_PROP_FRAME_COUNT))\n",
    "fps = cap.get(cv2.CAP_PROP_FPS)\n",
    "\n",
    "cap.release()\n",
    "\n",
    "print(f\"Video uzunluğu: {frame_count} frame, FPS: {fps}\")"
   ]
  },
  {
   "cell_type": "code",
   "execution_count": null,
   "id": "660a6b17",
   "metadata": {},
   "outputs": [],
   "source": []
  }
 ],
 "metadata": {
  "kernelspec": {
   "display_name": "Python 3 (ipykernel)",
   "language": "python",
   "name": "python3"
  },
  "language_info": {
   "codemirror_mode": {
    "name": "ipython",
    "version": 3
   },
   "file_extension": ".py",
   "mimetype": "text/x-python",
   "name": "python",
   "nbconvert_exporter": "python",
   "pygments_lexer": "ipython3",
   "version": "3.9.17"
  }
 },
 "nbformat": 4,
 "nbformat_minor": 5
}
